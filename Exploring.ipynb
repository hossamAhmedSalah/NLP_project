{
 "cells": [
  {
   "cell_type": "code",
   "execution_count": 1,
   "id": "eba45b9e",
   "metadata": {
    "_cell_guid": "b1076dfc-b9ad-4769-8c92-a6c4dae69d19",
    "_uuid": "8f2839f25d086af736a60e9eeb907d3b93b6e0e5",
    "execution": {
     "iopub.execute_input": "2024-04-25T22:04:53.021583Z",
     "iopub.status.busy": "2024-04-25T22:04:53.021137Z",
     "iopub.status.idle": "2024-04-25T22:05:11.936266Z",
     "shell.execute_reply": "2024-04-25T22:05:11.935223Z"
    },
    "papermill": {
     "duration": 18.936604,
     "end_time": "2024-04-25T22:05:11.938728",
     "exception": false,
     "start_time": "2024-04-25T22:04:53.002124",
     "status": "completed"
    },
    "tags": []
   },
   "outputs": [
    {
     "name": "stderr",
     "output_type": "stream",
     "text": [
      "2024-04-25 22:05:03.576515: E external/local_xla/xla/stream_executor/cuda/cuda_dnn.cc:9261] Unable to register cuDNN factory: Attempting to register factory for plugin cuDNN when one has already been registered\n",
      "2024-04-25 22:05:03.576620: E external/local_xla/xla/stream_executor/cuda/cuda_fft.cc:607] Unable to register cuFFT factory: Attempting to register factory for plugin cuFFT when one has already been registered\n",
      "2024-04-25 22:05:03.704698: E external/local_xla/xla/stream_executor/cuda/cuda_blas.cc:1515] Unable to register cuBLAS factory: Attempting to register factory for plugin cuBLAS when one has already been registered\n"
     ]
    }
   ],
   "source": [
    "import torch\n",
    "import pandas as pd\n",
    "import re\n",
    "from transformers import BartForConditionalGeneration, BartTokenizer, Trainer, TrainingArguments, BartConfig, Seq2SeqTrainingArguments, DataCollatorForSeq2Seq, Seq2SeqTrainer\n",
    "from datasets import Dataset\n"
   ]
  },
  {
   "cell_type": "code",
   "execution_count": 2,
   "id": "77cb2027",
   "metadata": {
    "execution": {
     "iopub.execute_input": "2024-04-25T22:05:11.975715Z",
     "iopub.status.busy": "2024-04-25T22:05:11.974858Z",
     "iopub.status.idle": "2024-04-25T22:05:38.814724Z",
     "shell.execute_reply": "2024-04-25T22:05:38.813902Z"
    },
    "papermill": {
     "duration": 26.860905,
     "end_time": "2024-04-25T22:05:38.817348",
     "exception": false,
     "start_time": "2024-04-25T22:05:11.956443",
     "status": "completed"
    },
    "tags": []
   },
   "outputs": [],
   "source": [
    "train = pd.read_csv(\"/kaggle/input/newspaper-text-summarization-cnn-dailymail/cnn_dailymail/train.csv\")\n",
    "test = pd.read_csv(\"/kaggle/input/newspaper-text-summarization-cnn-dailymail/cnn_dailymail/test.csv\")\n",
    "validation = pd.read_csv(\"/kaggle/input/newspaper-text-summarization-cnn-dailymail/cnn_dailymail/test.csv\")"
   ]
  },
  {
   "cell_type": "markdown",
   "id": "6f0890b6",
   "metadata": {
    "papermill": {
     "duration": 0.016951,
     "end_time": "2024-04-25T22:05:38.853688",
     "exception": false,
     "start_time": "2024-04-25T22:05:38.836737",
     "status": "completed"
    },
    "tags": []
   },
   "source": [
    "# Exploring the CNN DailyMail dataset "
   ]
  },
  {
   "cell_type": "markdown",
   "id": "7593569c",
   "metadata": {
    "papermill": {
     "duration": 0.016664,
     "end_time": "2024-04-25T22:05:38.887499",
     "exception": false,
     "start_time": "2024-04-25T22:05:38.870835",
     "status": "completed"
    },
    "tags": []
   },
   "source": [
    ">The CNN / DailyMail Dataset is an English-language dataset containing just over 300k unique news articles as written by journalists at CNN and the Daily Mail. \n",
    "\n",
    ">The current version supports both extractive and abstractive summarization, though the original version was created for machine reading and comprehension and abstractive question answering.\n",
    "\n",
    "- Abstractive: The text is summarized using the available context but using different words. This is a process that requires \"understanding\" the information contained in the text.\n",
    "\n",
    "- Extractive: The most relevant phrases or words are selected and extracted from the text, without rephrasing or generating new words."
   ]
  },
  {
   "cell_type": "code",
   "execution_count": 3,
   "id": "5a2fa039",
   "metadata": {
    "execution": {
     "iopub.execute_input": "2024-04-25T22:05:38.922128Z",
     "iopub.status.busy": "2024-04-25T22:05:38.921806Z",
     "iopub.status.idle": "2024-04-25T22:05:38.926048Z",
     "shell.execute_reply": "2024-04-25T22:05:38.925161Z"
    },
    "papermill": {
     "duration": 0.023944,
     "end_time": "2024-04-25T22:05:38.928047",
     "exception": false,
     "start_time": "2024-04-25T22:05:38.904103",
     "status": "completed"
    },
    "tags": []
   },
   "outputs": [],
   "source": [
    "# to show the full article \n",
    "pd.set_option(\"display.max_colwidth\", None)"
   ]
  },
  {
   "cell_type": "code",
   "execution_count": 4,
   "id": "fae76022",
   "metadata": {
    "execution": {
     "iopub.execute_input": "2024-04-25T22:05:38.963804Z",
     "iopub.status.busy": "2024-04-25T22:05:38.962946Z",
     "iopub.status.idle": "2024-04-25T22:05:39.025043Z",
     "shell.execute_reply": "2024-04-25T22:05:39.024192Z"
    },
    "papermill": {
     "duration": 0.083003,
     "end_time": "2024-04-25T22:05:39.027857",
     "exception": false,
     "start_time": "2024-04-25T22:05:38.944854",
     "status": "completed"
    },
    "tags": []
   },
   "outputs": [
    {
     "data": {
      "text/html": [
       "<div>\n",
       "<style scoped>\n",
       "    .dataframe tbody tr th:only-of-type {\n",
       "        vertical-align: middle;\n",
       "    }\n",
       "\n",
       "    .dataframe tbody tr th {\n",
       "        vertical-align: top;\n",
       "    }\n",
       "\n",
       "    .dataframe thead th {\n",
       "        text-align: right;\n",
       "    }\n",
       "</style>\n",
       "<table border=\"1\" class=\"dataframe\">\n",
       "  <thead>\n",
       "    <tr style=\"text-align: right;\">\n",
       "      <th></th>\n",
       "      <th>article</th>\n",
       "      <th>highlights</th>\n",
       "    </tr>\n",
       "  </thead>\n",
       "  <tbody>\n",
       "    <tr>\n",
       "      <th>59815</th>\n",
       "      <td>(CNN) -- Federal aid helped many cash-strapped Americans keep a roof over their heads during the prolonged economic slump, but the number of people living a step away from the streets has grown sharply, researchers reported Wednesday. The estimated U.S. homeless population dipped about 1% between 2009 and 2011 despite the lingering effects of the 2007-2009 recession, the Washington-based Homelessness Research Institute concluded. About $1.5 billion from the 2009 economic stimulus measure went toward rental assistance and programs steering recently evicted people toward new housing, \"and it seems likely that that has worked,\" said Nan Roman, president of the National Alliance to End Homelessness. Nevertheless, the homeless population went up in 24 states during the past two years, the Washington-based researchers found. And the number of people who have had to move in with friends or relatives -- often a last stop before the street -- is up as well, according to Wednesday's report. The Homelessness Research Institute, the educational arm of Roman's organization, put the number of Americans living on the streets or in shelters at just over 636,000 in 2011. That's down about 6,000 from the group's 2009 estimate. The figure is based on reports and street counts from state and local agencies that receive federal housing funds. Roman said the stimulus money, coupled with pre-recession federal programs aimed at veterans and the chronically ill, have kept that figure down even as the U.S. economy saw its worst downturn since the 1930s. But that money is drying up now that the Obama administration, Congress and the states are grappling with budget issues fueled by the recession. \"Just like all domestic discretionary spending, it's vulnerable at the moment because of the deficit,\" Roman said. States have already been cutting services, \"So again, it's notable that these are still working.\" The report found the effects of the recession keep cascading downward more than two years after its official end in mid-2009. More than 4 million homes have been lost to foreclosure since 2007, according to the online marketer RealtyTrac. Those foreclosures have driven many ex-homeowners into the rental market, driving up rents and pushing some of the working poor to move in with family, friends or other acquaintances. That \"doubled-up\" population grew by about 800,000 people between 2009 and 2010, the last year data was available, the HRI report concluded. About 6.8 million were in combined households in 2010, a more than 50% increase from 2005, researchers found. \"The most common previous address for homeless people is that they were doubled up with someone else,\" Roman said. The new figures are \"not a good sign. It means we've got potentially a lot of people moving toward homelessness.\" The number of low-income households that spend more than half their income on rent grew by 300,000 in 2009, to 6.2 million. That's about three-quarters of poor renters, the HRI study found. But the figures showed slight declines among nearly all categories examined, including a more than 10% decline in the number of unemployed veterans and about a 3% dip in the ranks of the chronically homeless -- people with disabilities like severe mental illness or addiction that result in repeated or extended stays on the street.</td>\n",
       "      <td>The estimated U.S. homeless population has remained basically flat, researchers say .\\nBut a rise in people sharing housing is \"not a good sign,\" an advocate says .\\nAbout $1.5 billion in stimulus money helped keep people in homes, she says .</td>\n",
       "    </tr>\n",
       "  </tbody>\n",
       "</table>\n",
       "</div>"
      ],
      "text/plain": [
       "                                                                                                                                                                                                                                                                                                                                                                                                                                                                                                                                                                                                                                                                                                                                                                                                                                                                                                                                                                                                                                                                                                                                                                                                                                                                                                                                                                                                                                                                                                                                                                                                                                                                                                                                                                                                                                                                                                                                                                                                                                                                                                                                                                                                                                                                                                                                                                                                                                                                                                                                                                                                                                                                                                                                                                                                                                                                                                                                                                                                                                                                                                                                                                                                                                                                                                                                                                                                                                                                         article  \\\n",
       "59815  (CNN) -- Federal aid helped many cash-strapped Americans keep a roof over their heads during the prolonged economic slump, but the number of people living a step away from the streets has grown sharply, researchers reported Wednesday. The estimated U.S. homeless population dipped about 1% between 2009 and 2011 despite the lingering effects of the 2007-2009 recession, the Washington-based Homelessness Research Institute concluded. About $1.5 billion from the 2009 economic stimulus measure went toward rental assistance and programs steering recently evicted people toward new housing, \"and it seems likely that that has worked,\" said Nan Roman, president of the National Alliance to End Homelessness. Nevertheless, the homeless population went up in 24 states during the past two years, the Washington-based researchers found. And the number of people who have had to move in with friends or relatives -- often a last stop before the street -- is up as well, according to Wednesday's report. The Homelessness Research Institute, the educational arm of Roman's organization, put the number of Americans living on the streets or in shelters at just over 636,000 in 2011. That's down about 6,000 from the group's 2009 estimate. The figure is based on reports and street counts from state and local agencies that receive federal housing funds. Roman said the stimulus money, coupled with pre-recession federal programs aimed at veterans and the chronically ill, have kept that figure down even as the U.S. economy saw its worst downturn since the 1930s. But that money is drying up now that the Obama administration, Congress and the states are grappling with budget issues fueled by the recession. \"Just like all domestic discretionary spending, it's vulnerable at the moment because of the deficit,\" Roman said. States have already been cutting services, \"So again, it's notable that these are still working.\" The report found the effects of the recession keep cascading downward more than two years after its official end in mid-2009. More than 4 million homes have been lost to foreclosure since 2007, according to the online marketer RealtyTrac. Those foreclosures have driven many ex-homeowners into the rental market, driving up rents and pushing some of the working poor to move in with family, friends or other acquaintances. That \"doubled-up\" population grew by about 800,000 people between 2009 and 2010, the last year data was available, the HRI report concluded. About 6.8 million were in combined households in 2010, a more than 50% increase from 2005, researchers found. \"The most common previous address for homeless people is that they were doubled up with someone else,\" Roman said. The new figures are \"not a good sign. It means we've got potentially a lot of people moving toward homelessness.\" The number of low-income households that spend more than half their income on rent grew by 300,000 in 2009, to 6.2 million. That's about three-quarters of poor renters, the HRI study found. But the figures showed slight declines among nearly all categories examined, including a more than 10% decline in the number of unemployed veterans and about a 3% dip in the ranks of the chronically homeless -- people with disabilities like severe mental illness or addiction that result in repeated or extended stays on the street.   \n",
       "\n",
       "                                                                                                                                                                                                                                               highlights  \n",
       "59815  The estimated U.S. homeless population has remained basically flat, researchers say .\\nBut a rise in people sharing housing is \"not a good sign,\" an advocate says .\\nAbout $1.5 billion in stimulus money helped keep people in homes, she says .  "
      ]
     },
     "execution_count": 4,
     "metadata": {},
     "output_type": "execute_result"
    }
   ],
   "source": [
    "train.loc[:, [\"article\", \"highlights\"]].sample(1)"
   ]
  },
  {
   "cell_type": "code",
   "execution_count": 5,
   "id": "89d12fc4",
   "metadata": {
    "execution": {
     "iopub.execute_input": "2024-04-25T22:05:39.064545Z",
     "iopub.status.busy": "2024-04-25T22:05:39.064162Z",
     "iopub.status.idle": "2024-04-25T22:05:39.068607Z",
     "shell.execute_reply": "2024-04-25T22:05:39.067700Z"
    },
    "papermill": {
     "duration": 0.024448,
     "end_time": "2024-04-25T22:05:39.070579",
     "exception": false,
     "start_time": "2024-04-25T22:05:39.046131",
     "status": "completed"
    },
    "tags": []
   },
   "outputs": [],
   "source": [
    "pd.reset_option('display.max_colwidth')"
   ]
  },
  {
   "cell_type": "code",
   "execution_count": 6,
   "id": "a3a5cbfa",
   "metadata": {
    "execution": {
     "iopub.execute_input": "2024-04-25T22:05:39.105246Z",
     "iopub.status.busy": "2024-04-25T22:05:39.104948Z",
     "iopub.status.idle": "2024-04-25T22:05:39.109482Z",
     "shell.execute_reply": "2024-04-25T22:05:39.108686Z"
    },
    "papermill": {
     "duration": 0.024221,
     "end_time": "2024-04-25T22:05:39.111776",
     "exception": false,
     "start_time": "2024-04-25T22:05:39.087555",
     "status": "completed"
    },
    "tags": []
   },
   "outputs": [
    {
     "name": "stdout",
     "output_type": "stream",
     "text": [
      "Train set shape (287113, 3)\n",
      "Test set shape (11490, 3)\n",
      "Validation set shape (11490, 3)\n"
     ]
    }
   ],
   "source": [
    "print(f\"Train set shape {train.shape}\")\n",
    "print(f\"Test set shape {test.shape}\")\n",
    "print(f\"Validation set shape {validation.shape}\")"
   ]
  },
  {
   "cell_type": "code",
   "execution_count": 7,
   "id": "efb3c400",
   "metadata": {
    "execution": {
     "iopub.execute_input": "2024-04-25T22:05:39.146188Z",
     "iopub.status.busy": "2024-04-25T22:05:39.145886Z",
     "iopub.status.idle": "2024-04-25T22:05:39.169006Z",
     "shell.execute_reply": "2024-04-25T22:05:39.168328Z"
    },
    "papermill": {
     "duration": 0.04222,
     "end_time": "2024-04-25T22:05:39.170830",
     "exception": false,
     "start_time": "2024-04-25T22:05:39.128610",
     "status": "completed"
    },
    "tags": []
   },
   "outputs": [],
   "source": [
    "# copy of the data\n",
    "cpy_train = train.copy()"
   ]
  },
  {
   "cell_type": "code",
   "execution_count": 8,
   "id": "d846d2d6",
   "metadata": {
    "execution": {
     "iopub.execute_input": "2024-04-25T22:05:39.206384Z",
     "iopub.status.busy": "2024-04-25T22:05:39.205786Z",
     "iopub.status.idle": "2024-04-25T22:05:51.770060Z",
     "shell.execute_reply": "2024-04-25T22:05:51.769111Z"
    },
    "papermill": {
     "duration": 12.584438,
     "end_time": "2024-04-25T22:05:51.772444",
     "exception": false,
     "start_time": "2024-04-25T22:05:39.188006",
     "status": "completed"
    },
    "tags": []
   },
   "outputs": [
    {
     "name": "stdout",
     "output_type": "stream",
     "text": [
      "Average words count in the Articles :  691.8694938926485\n"
     ]
    }
   ],
   "source": [
    "# average words in the article \n",
    "cpy_train[\"article_word_count\"] = cpy_train[\"article\"].apply(lambda x: len(x.split()))\n",
    "average_article_word_counts = cpy_train[\"article_word_count\"].mean()\n",
    "print(\"Average words count in the Articles : \", average_article_word_counts)"
   ]
  },
  {
   "cell_type": "code",
   "execution_count": 9,
   "id": "4e7eb01c",
   "metadata": {
    "execution": {
     "iopub.execute_input": "2024-04-25T22:05:51.809344Z",
     "iopub.status.busy": "2024-04-25T22:05:51.808956Z",
     "iopub.status.idle": "2024-04-25T22:05:51.827228Z",
     "shell.execute_reply": "2024-04-25T22:05:51.826202Z"
    },
    "papermill": {
     "duration": 0.039165,
     "end_time": "2024-04-25T22:05:51.829204",
     "exception": false,
     "start_time": "2024-04-25T22:05:51.790039",
     "status": "completed"
    },
    "tags": []
   },
   "outputs": [
    {
     "data": {
      "text/html": [
       "<div>\n",
       "<style scoped>\n",
       "    .dataframe tbody tr th:only-of-type {\n",
       "        vertical-align: middle;\n",
       "    }\n",
       "\n",
       "    .dataframe tbody tr th {\n",
       "        vertical-align: top;\n",
       "    }\n",
       "\n",
       "    .dataframe thead th {\n",
       "        text-align: right;\n",
       "    }\n",
       "</style>\n",
       "<table border=\"1\" class=\"dataframe\">\n",
       "  <thead>\n",
       "    <tr style=\"text-align: right;\">\n",
       "      <th></th>\n",
       "      <th>article_word_count</th>\n",
       "    </tr>\n",
       "  </thead>\n",
       "  <tbody>\n",
       "    <tr>\n",
       "      <th>25991</th>\n",
       "      <td>539</td>\n",
       "    </tr>\n",
       "    <tr>\n",
       "      <th>283957</th>\n",
       "      <td>400</td>\n",
       "    </tr>\n",
       "    <tr>\n",
       "      <th>261568</th>\n",
       "      <td>284</td>\n",
       "    </tr>\n",
       "    <tr>\n",
       "      <th>197188</th>\n",
       "      <td>452</td>\n",
       "    </tr>\n",
       "    <tr>\n",
       "      <th>149972</th>\n",
       "      <td>637</td>\n",
       "    </tr>\n",
       "    <tr>\n",
       "      <th>104616</th>\n",
       "      <td>479</td>\n",
       "    </tr>\n",
       "    <tr>\n",
       "      <th>245434</th>\n",
       "      <td>295</td>\n",
       "    </tr>\n",
       "    <tr>\n",
       "      <th>270154</th>\n",
       "      <td>1369</td>\n",
       "    </tr>\n",
       "    <tr>\n",
       "      <th>49296</th>\n",
       "      <td>309</td>\n",
       "    </tr>\n",
       "    <tr>\n",
       "      <th>49589</th>\n",
       "      <td>627</td>\n",
       "    </tr>\n",
       "  </tbody>\n",
       "</table>\n",
       "</div>"
      ],
      "text/plain": [
       "        article_word_count\n",
       "25991                  539\n",
       "283957                 400\n",
       "261568                 284\n",
       "197188                 452\n",
       "149972                 637\n",
       "104616                 479\n",
       "245434                 295\n",
       "270154                1369\n",
       "49296                  309\n",
       "49589                  627"
      ]
     },
     "execution_count": 9,
     "metadata": {},
     "output_type": "execute_result"
    }
   ],
   "source": [
    "# sample \n",
    "cpy_train[[\"article_word_count\"]].sample(10)"
   ]
  },
  {
   "cell_type": "code",
   "execution_count": 10,
   "id": "bdb5f592",
   "metadata": {
    "execution": {
     "iopub.execute_input": "2024-04-25T22:05:51.866279Z",
     "iopub.status.busy": "2024-04-25T22:05:51.865940Z",
     "iopub.status.idle": "2024-04-25T22:05:51.894241Z",
     "shell.execute_reply": "2024-04-25T22:05:51.893256Z"
    },
    "papermill": {
     "duration": 0.049012,
     "end_time": "2024-04-25T22:05:51.896316",
     "exception": false,
     "start_time": "2024-04-25T22:05:51.847304",
     "status": "completed"
    },
    "tags": []
   },
   "outputs": [
    {
     "data": {
      "text/html": [
       "<div>\n",
       "<style scoped>\n",
       "    .dataframe tbody tr th:only-of-type {\n",
       "        vertical-align: middle;\n",
       "    }\n",
       "\n",
       "    .dataframe tbody tr th {\n",
       "        vertical-align: top;\n",
       "    }\n",
       "\n",
       "    .dataframe thead th {\n",
       "        text-align: right;\n",
       "    }\n",
       "</style>\n",
       "<table border=\"1\" class=\"dataframe\">\n",
       "  <thead>\n",
       "    <tr style=\"text-align: right;\">\n",
       "      <th></th>\n",
       "      <th>article_word_count</th>\n",
       "    </tr>\n",
       "  </thead>\n",
       "  <tbody>\n",
       "    <tr>\n",
       "      <th>count</th>\n",
       "      <td>287113.000000</td>\n",
       "    </tr>\n",
       "    <tr>\n",
       "      <th>mean</th>\n",
       "      <td>691.869494</td>\n",
       "    </tr>\n",
       "    <tr>\n",
       "      <th>std</th>\n",
       "      <td>336.500035</td>\n",
       "    </tr>\n",
       "    <tr>\n",
       "      <th>min</th>\n",
       "      <td>8.000000</td>\n",
       "    </tr>\n",
       "    <tr>\n",
       "      <th>25%</th>\n",
       "      <td>443.000000</td>\n",
       "    </tr>\n",
       "    <tr>\n",
       "      <th>50%</th>\n",
       "      <td>632.000000</td>\n",
       "    </tr>\n",
       "    <tr>\n",
       "      <th>75%</th>\n",
       "      <td>877.000000</td>\n",
       "    </tr>\n",
       "    <tr>\n",
       "      <th>max</th>\n",
       "      <td>2347.000000</td>\n",
       "    </tr>\n",
       "  </tbody>\n",
       "</table>\n",
       "</div>"
      ],
      "text/plain": [
       "       article_word_count\n",
       "count       287113.000000\n",
       "mean           691.869494\n",
       "std            336.500035\n",
       "min              8.000000\n",
       "25%            443.000000\n",
       "50%            632.000000\n",
       "75%            877.000000\n",
       "max           2347.000000"
      ]
     },
     "execution_count": 10,
     "metadata": {},
     "output_type": "execute_result"
    }
   ],
   "source": [
    "cpy_train[[\"article_word_count\"]].describe()"
   ]
  },
  {
   "cell_type": "code",
   "execution_count": 11,
   "id": "35109e10",
   "metadata": {
    "execution": {
     "iopub.execute_input": "2024-04-25T22:05:51.933693Z",
     "iopub.status.busy": "2024-04-25T22:05:51.932949Z",
     "iopub.status.idle": "2024-04-25T22:05:53.077713Z",
     "shell.execute_reply": "2024-04-25T22:05:53.076745Z"
    },
    "papermill": {
     "duration": 1.165755,
     "end_time": "2024-04-25T22:05:53.079825",
     "exception": false,
     "start_time": "2024-04-25T22:05:51.914070",
     "status": "completed"
    },
    "tags": []
   },
   "outputs": [
    {
     "name": "stdout",
     "output_type": "stream",
     "text": [
      "Average words count in the highlights :  51.574101486174435\n"
     ]
    }
   ],
   "source": [
    "# average words in the summarization \n",
    "cpy_train[\"highlights_word_count\"] = cpy_train[\"highlights\"].apply(lambda x: len(x.split()))\n",
    "average_highlights_word_counts = cpy_train[\"highlights_word_count\"].mean()\n",
    "print(\"Average words count in the highlights : \", average_highlights_word_counts)"
   ]
  },
  {
   "cell_type": "code",
   "execution_count": 12,
   "id": "cdc6785e",
   "metadata": {
    "execution": {
     "iopub.execute_input": "2024-04-25T22:05:53.116551Z",
     "iopub.status.busy": "2024-04-25T22:05:53.116114Z",
     "iopub.status.idle": "2024-04-25T22:05:53.132594Z",
     "shell.execute_reply": "2024-04-25T22:05:53.131626Z"
    },
    "papermill": {
     "duration": 0.036905,
     "end_time": "2024-04-25T22:05:53.134500",
     "exception": false,
     "start_time": "2024-04-25T22:05:53.097595",
     "status": "completed"
    },
    "tags": []
   },
   "outputs": [
    {
     "data": {
      "text/html": [
       "<div>\n",
       "<style scoped>\n",
       "    .dataframe tbody tr th:only-of-type {\n",
       "        vertical-align: middle;\n",
       "    }\n",
       "\n",
       "    .dataframe tbody tr th {\n",
       "        vertical-align: top;\n",
       "    }\n",
       "\n",
       "    .dataframe thead th {\n",
       "        text-align: right;\n",
       "    }\n",
       "</style>\n",
       "<table border=\"1\" class=\"dataframe\">\n",
       "  <thead>\n",
       "    <tr style=\"text-align: right;\">\n",
       "      <th></th>\n",
       "      <th>highlights_word_count</th>\n",
       "    </tr>\n",
       "  </thead>\n",
       "  <tbody>\n",
       "    <tr>\n",
       "      <th>253693</th>\n",
       "      <td>50</td>\n",
       "    </tr>\n",
       "    <tr>\n",
       "      <th>233630</th>\n",
       "      <td>49</td>\n",
       "    </tr>\n",
       "    <tr>\n",
       "      <th>236765</th>\n",
       "      <td>44</td>\n",
       "    </tr>\n",
       "    <tr>\n",
       "      <th>93971</th>\n",
       "      <td>38</td>\n",
       "    </tr>\n",
       "    <tr>\n",
       "      <th>22865</th>\n",
       "      <td>44</td>\n",
       "    </tr>\n",
       "    <tr>\n",
       "      <th>198677</th>\n",
       "      <td>61</td>\n",
       "    </tr>\n",
       "    <tr>\n",
       "      <th>137040</th>\n",
       "      <td>50</td>\n",
       "    </tr>\n",
       "    <tr>\n",
       "      <th>186408</th>\n",
       "      <td>52</td>\n",
       "    </tr>\n",
       "    <tr>\n",
       "      <th>59310</th>\n",
       "      <td>44</td>\n",
       "    </tr>\n",
       "    <tr>\n",
       "      <th>62407</th>\n",
       "      <td>38</td>\n",
       "    </tr>\n",
       "  </tbody>\n",
       "</table>\n",
       "</div>"
      ],
      "text/plain": [
       "        highlights_word_count\n",
       "253693                     50\n",
       "233630                     49\n",
       "236765                     44\n",
       "93971                      38\n",
       "22865                      44\n",
       "198677                     61\n",
       "137040                     50\n",
       "186408                     52\n",
       "59310                      44\n",
       "62407                      38"
      ]
     },
     "execution_count": 12,
     "metadata": {},
     "output_type": "execute_result"
    }
   ],
   "source": [
    "# sample\n",
    "cpy_train[[\"highlights_word_count\"]].sample(10)"
   ]
  },
  {
   "cell_type": "code",
   "execution_count": 13,
   "id": "26b21630",
   "metadata": {
    "execution": {
     "iopub.execute_input": "2024-04-25T22:05:53.171850Z",
     "iopub.status.busy": "2024-04-25T22:05:53.171600Z",
     "iopub.status.idle": "2024-04-25T22:05:53.192949Z",
     "shell.execute_reply": "2024-04-25T22:05:53.192124Z"
    },
    "papermill": {
     "duration": 0.041916,
     "end_time": "2024-04-25T22:05:53.194839",
     "exception": false,
     "start_time": "2024-04-25T22:05:53.152923",
     "status": "completed"
    },
    "tags": []
   },
   "outputs": [
    {
     "data": {
      "text/html": [
       "<div>\n",
       "<style scoped>\n",
       "    .dataframe tbody tr th:only-of-type {\n",
       "        vertical-align: middle;\n",
       "    }\n",
       "\n",
       "    .dataframe tbody tr th {\n",
       "        vertical-align: top;\n",
       "    }\n",
       "\n",
       "    .dataframe thead th {\n",
       "        text-align: right;\n",
       "    }\n",
       "</style>\n",
       "<table border=\"1\" class=\"dataframe\">\n",
       "  <thead>\n",
       "    <tr style=\"text-align: right;\">\n",
       "      <th></th>\n",
       "      <th>highlights_word_count</th>\n",
       "    </tr>\n",
       "  </thead>\n",
       "  <tbody>\n",
       "    <tr>\n",
       "      <th>count</th>\n",
       "      <td>287113.000000</td>\n",
       "    </tr>\n",
       "    <tr>\n",
       "      <th>mean</th>\n",
       "      <td>51.574101</td>\n",
       "    </tr>\n",
       "    <tr>\n",
       "      <th>std</th>\n",
       "      <td>21.256336</td>\n",
       "    </tr>\n",
       "    <tr>\n",
       "      <th>min</th>\n",
       "      <td>4.000000</td>\n",
       "    </tr>\n",
       "    <tr>\n",
       "      <th>25%</th>\n",
       "      <td>38.000000</td>\n",
       "    </tr>\n",
       "    <tr>\n",
       "      <th>50%</th>\n",
       "      <td>48.000000</td>\n",
       "    </tr>\n",
       "    <tr>\n",
       "      <th>75%</th>\n",
       "      <td>60.000000</td>\n",
       "    </tr>\n",
       "    <tr>\n",
       "      <th>max</th>\n",
       "      <td>1296.000000</td>\n",
       "    </tr>\n",
       "  </tbody>\n",
       "</table>\n",
       "</div>"
      ],
      "text/plain": [
       "       highlights_word_count\n",
       "count          287113.000000\n",
       "mean               51.574101\n",
       "std                21.256336\n",
       "min                 4.000000\n",
       "25%                38.000000\n",
       "50%                48.000000\n",
       "75%                60.000000\n",
       "max              1296.000000"
      ]
     },
     "execution_count": 13,
     "metadata": {},
     "output_type": "execute_result"
    }
   ],
   "source": [
    "cpy_train[[\"highlights_word_count\"]].describe()"
   ]
  },
  {
   "cell_type": "markdown",
   "id": "3f813f03",
   "metadata": {
    "papermill": {
     "duration": 0.017816,
     "end_time": "2024-04-25T22:05:53.230522",
     "exception": false,
     "start_time": "2024-04-25T22:05:53.212706",
     "status": "completed"
    },
    "tags": []
   },
   "source": [
    "# Cleaning the text "
   ]
  },
  {
   "cell_type": "markdown",
   "id": "df36db52",
   "metadata": {
    "papermill": {
     "duration": 0.017525,
     "end_time": "2024-04-25T22:05:53.265871",
     "exception": false,
     "start_time": "2024-04-25T22:05:53.248346",
     "status": "completed"
    },
    "tags": []
   },
   "source": [
    "## HTML tags removing "
   ]
  },
  {
   "cell_type": "code",
   "execution_count": 14,
   "id": "43f04e2d",
   "metadata": {
    "execution": {
     "iopub.execute_input": "2024-04-25T22:05:53.304480Z",
     "iopub.status.busy": "2024-04-25T22:05:53.303659Z",
     "iopub.status.idle": "2024-04-25T22:05:53.308437Z",
     "shell.execute_reply": "2024-04-25T22:05:53.307592Z"
    },
    "papermill": {
     "duration": 0.025837,
     "end_time": "2024-04-25T22:05:53.310352",
     "exception": false,
     "start_time": "2024-04-25T22:05:53.284515",
     "status": "completed"
    },
    "tags": []
   },
   "outputs": [],
   "source": [
    "def detect_html_tags(text):\n",
    "    if not isinstance(text, str):\n",
    "        return []\n",
    "    html_tags_patt = r\"<[^>]+>\"\n",
    "    html_tags = re.findall(html_tags_patt, text)\n",
    "    return html_tags"
   ]
  },
  {
   "cell_type": "code",
   "execution_count": 15,
   "id": "7997aa67",
   "metadata": {
    "execution": {
     "iopub.execute_input": "2024-04-25T22:05:53.350092Z",
     "iopub.status.busy": "2024-04-25T22:05:53.349330Z",
     "iopub.status.idle": "2024-04-25T22:05:53.356336Z",
     "shell.execute_reply": "2024-04-25T22:05:53.355418Z"
    },
    "papermill": {
     "duration": 0.029555,
     "end_time": "2024-04-25T22:05:53.358396",
     "exception": false,
     "start_time": "2024-04-25T22:05:53.328841",
     "status": "completed"
    },
    "tags": []
   },
   "outputs": [
    {
     "data": {
      "text/plain": [
       "['<p>',\n",
       " '<b>',\n",
       " '</b>',\n",
       " \"<a href='https://example.com'>\",\n",
       " '</a>',\n",
       " '</p>',\n",
       " '<img src=\"/img/my-great-image.jpg\" alt=\"My alt text\" />']"
      ]
     },
     "execution_count": 15,
     "metadata": {},
     "output_type": "execute_result"
    }
   ],
   "source": [
    "# Example text containing HTML tags\n",
    "example_text = '''<p>This is a <b>sample</b> text with <a href='https://example.com'>HTML</a> tags.</p> <img src=\"/img/my-great-image.jpg\" alt=\"My alt text\" />'''\n",
    "\n",
    "# Detect HTML tags in the text\n",
    "html_tags = detect_html_tags(example_text)\n",
    "html_tags"
   ]
  },
  {
   "cell_type": "code",
   "execution_count": 16,
   "id": "496f250f",
   "metadata": {
    "execution": {
     "iopub.execute_input": "2024-04-25T22:05:53.397192Z",
     "iopub.status.busy": "2024-04-25T22:05:53.396451Z",
     "iopub.status.idle": "2024-04-25T22:05:55.795992Z",
     "shell.execute_reply": "2024-04-25T22:05:55.795136Z"
    },
    "papermill": {
     "duration": 2.421938,
     "end_time": "2024-04-25T22:05:55.798386",
     "exception": false,
     "start_time": "2024-04-25T22:05:53.376448",
     "status": "completed"
    },
    "tags": []
   },
   "outputs": [],
   "source": [
    "cpy_train['article_html_tags'] = cpy_train['article'].apply(detect_html_tags)\n",
    "cpy_train['highlights_html_tags'] = cpy_train['highlights'].apply(detect_html_tags)"
   ]
  },
  {
   "cell_type": "code",
   "execution_count": 17,
   "id": "2343a836",
   "metadata": {
    "execution": {
     "iopub.execute_input": "2024-04-25T22:05:55.884037Z",
     "iopub.status.busy": "2024-04-25T22:05:55.883158Z",
     "iopub.status.idle": "2024-04-25T22:05:56.044709Z",
     "shell.execute_reply": "2024-04-25T22:05:56.043708Z"
    },
    "papermill": {
     "duration": 0.183597,
     "end_time": "2024-04-25T22:05:56.047112",
     "exception": false,
     "start_time": "2024-04-25T22:05:55.863515",
     "status": "completed"
    },
    "tags": []
   },
   "outputs": [
    {
     "data": {
      "text/html": [
       "<div>\n",
       "<style scoped>\n",
       "    .dataframe tbody tr th:only-of-type {\n",
       "        vertical-align: middle;\n",
       "    }\n",
       "\n",
       "    .dataframe tbody tr th {\n",
       "        vertical-align: top;\n",
       "    }\n",
       "\n",
       "    .dataframe thead th {\n",
       "        text-align: right;\n",
       "    }\n",
       "</style>\n",
       "<table border=\"1\" class=\"dataframe\">\n",
       "  <thead>\n",
       "    <tr style=\"text-align: right;\">\n",
       "      <th></th>\n",
       "      <th>article_html_tags</th>\n",
       "    </tr>\n",
       "  </thead>\n",
       "  <tbody>\n",
       "    <tr>\n",
       "      <th>count</th>\n",
       "      <td>287113</td>\n",
       "    </tr>\n",
       "    <tr>\n",
       "      <th>unique</th>\n",
       "      <td>20</td>\n",
       "    </tr>\n",
       "    <tr>\n",
       "      <th>top</th>\n",
       "      <td>[]</td>\n",
       "    </tr>\n",
       "    <tr>\n",
       "      <th>freq</th>\n",
       "      <td>287093</td>\n",
       "    </tr>\n",
       "  </tbody>\n",
       "</table>\n",
       "</div>"
      ],
      "text/plain": [
       "       article_html_tags\n",
       "count             287113\n",
       "unique                20\n",
       "top                   []\n",
       "freq              287093"
      ]
     },
     "execution_count": 17,
     "metadata": {},
     "output_type": "execute_result"
    }
   ],
   "source": [
    "cpy_train[['article_html_tags']].describe(include=\"O\")"
   ]
  },
  {
   "cell_type": "code",
   "execution_count": 18,
   "id": "d88b195e",
   "metadata": {
    "execution": {
     "iopub.execute_input": "2024-04-25T22:05:56.088541Z",
     "iopub.status.busy": "2024-04-25T22:05:56.087778Z",
     "iopub.status.idle": "2024-04-25T22:05:56.239794Z",
     "shell.execute_reply": "2024-04-25T22:05:56.238877Z"
    },
    "papermill": {
     "duration": 0.174177,
     "end_time": "2024-04-25T22:05:56.241840",
     "exception": false,
     "start_time": "2024-04-25T22:05:56.067663",
     "status": "completed"
    },
    "tags": []
   },
   "outputs": [
    {
     "data": {
      "text/html": [
       "<div>\n",
       "<style scoped>\n",
       "    .dataframe tbody tr th:only-of-type {\n",
       "        vertical-align: middle;\n",
       "    }\n",
       "\n",
       "    .dataframe tbody tr th {\n",
       "        vertical-align: top;\n",
       "    }\n",
       "\n",
       "    .dataframe thead th {\n",
       "        text-align: right;\n",
       "    }\n",
       "</style>\n",
       "<table border=\"1\" class=\"dataframe\">\n",
       "  <thead>\n",
       "    <tr style=\"text-align: right;\">\n",
       "      <th></th>\n",
       "      <th>highlights_html_tags</th>\n",
       "    </tr>\n",
       "  </thead>\n",
       "  <tbody>\n",
       "    <tr>\n",
       "      <th>count</th>\n",
       "      <td>287113</td>\n",
       "    </tr>\n",
       "    <tr>\n",
       "      <th>unique</th>\n",
       "      <td>2</td>\n",
       "    </tr>\n",
       "    <tr>\n",
       "      <th>top</th>\n",
       "      <td>[]</td>\n",
       "    </tr>\n",
       "    <tr>\n",
       "      <th>freq</th>\n",
       "      <td>287112</td>\n",
       "    </tr>\n",
       "  </tbody>\n",
       "</table>\n",
       "</div>"
      ],
      "text/plain": [
       "       highlights_html_tags\n",
       "count                287113\n",
       "unique                    2\n",
       "top                      []\n",
       "freq                 287112"
      ]
     },
     "execution_count": 18,
     "metadata": {},
     "output_type": "execute_result"
    }
   ],
   "source": [
    "# only one test sample has html tags\n",
    "cpy_train[['highlights_html_tags']].describe(include=\"O\")"
   ]
  },
  {
   "cell_type": "code",
   "execution_count": 19,
   "id": "51a9ff36",
   "metadata": {
    "execution": {
     "iopub.execute_input": "2024-04-25T22:05:56.280455Z",
     "iopub.status.busy": "2024-04-25T22:05:56.280156Z",
     "iopub.status.idle": "2024-04-25T22:05:56.467973Z",
     "shell.execute_reply": "2024-04-25T22:05:56.467037Z"
    },
    "papermill": {
     "duration": 0.211815,
     "end_time": "2024-04-25T22:05:56.472331",
     "exception": false,
     "start_time": "2024-04-25T22:05:56.260516",
     "status": "completed"
    },
    "tags": []
   },
   "outputs": [
    {
     "data": {
      "text/html": [
       "<div>\n",
       "<style scoped>\n",
       "    .dataframe tbody tr th:only-of-type {\n",
       "        vertical-align: middle;\n",
       "    }\n",
       "\n",
       "    .dataframe tbody tr th {\n",
       "        vertical-align: top;\n",
       "    }\n",
       "\n",
       "    .dataframe thead th {\n",
       "        text-align: right;\n",
       "    }\n",
       "</style>\n",
       "<table border=\"1\" class=\"dataframe\">\n",
       "  <thead>\n",
       "    <tr style=\"text-align: right;\">\n",
       "      <th></th>\n",
       "      <th>article_html_tags</th>\n",
       "    </tr>\n",
       "  </thead>\n",
       "  <tbody>\n",
       "    <tr>\n",
       "      <th>439</th>\n",
       "      <td>[&lt;!--td {border: 1px solid #ccc;}br {mso-data-placement:same-cell;}--&gt;]</td>\n",
       "    </tr>\n",
       "    <tr>\n",
       "      <th>6575</th>\n",
       "      <td>[&lt;fb:like href=\"cnet.com\" font=\"tahoma\"&gt;, &lt;/fb:like&gt;]</td>\n",
       "    </tr>\n",
       "    <tr>\n",
       "      <th>49099</th>\n",
       "      <td>[&lt;Leaves his stupid wife forever&gt;]</td>\n",
       "    </tr>\n",
       "    <tr>\n",
       "      <th>60098</th>\n",
       "      <td>[&lt;starts to click \"delete\"&gt;]</td>\n",
       "    </tr>\n",
       "    <tr>\n",
       "      <th>73977</th>\n",
       "      <td>[&lt;iframe width=\"640\" height=\"360\" src=\"//www.youtube.com/embed/LJlbDBJmavE\" frameborder=\"0\" allowfullscreen&gt;, &lt;/iframe&gt;]</td>\n",
       "    </tr>\n",
       "    <tr>\n",
       "      <th>76884</th>\n",
       "      <td>[&lt;!-- . /* Font Definitions */ . @font-face . {font-family:\"ＭＳ 明朝\"; . panose-1:0 0 0 0 0 0 0 0 0 0; . mso-font-charset:128; . mso-generic-font-family:roman; . mso-font-format:other; . mso-font-pitch:fixed; . mso-font-signature:1 134676480 16 0 131072 0;} . @font-face . {font-family:\"Cambria Math\"; . panose-1:2 4 5 3 5 4 6 3 2 4; . mso-font-charset:0; . mso-generic-font-family:auto; . mso-font-pitch:variable; . mso-font-signature:-536870145 1107305727 0 0 415 0;} . @font-face . {font-family:Cambria; . panose-1:2 4 5 3 5 4 6 3 2 4; . mso-font-charset:0; . mso-generic-font-family:auto; . mso-font-pitch:variable; . mso-font-signature:-536870145 1073743103 0 0 415 0;} . /* Style Definitions */ . p.MsoNormal, li.MsoNormal, div.MsoNormal . {mso-style-unhide:no; . mso-style-qformat:yes; . mso-style-parent:\"\"; . margin:0cm; . margin-bottom:.0001pt; . mso-pagination:widow-orphan; . font-size:12.0pt; . font-family:Cambria; . mso-ascii-font-family:Cambria; . mso-ascii-theme-font:minor-latin; . mso-fareast-font-family:\"ＭＳ 明朝\"; . mso-fareast-theme-font:minor-fareast; . mso-hansi-font-family:Cambria; . mso-hansi-theme-font:minor-latin; . mso-bidi-font-family:\"Times New Roman\"; . mso-bidi-theme-font:minor-bidi; . mso-ansi-language:EN-US;} . .MsoChpDefault . {mso-style-type:export-only; . mso-default-props:yes; . font-family:Cambria; . mso-ascii-font-family:Cambria; . mso-ascii-theme-font:minor-latin; . mso-fareast-font-family:\"ＭＳ 明朝\"; . mso-fareast-theme-font:minor-fareast; . mso-hansi-font-family:Cambria; . mso-hansi-theme-font:minor-latin; . mso-bidi-font-family:\"Times New Roman\"; . mso-bidi-theme-font:minor-bidi; . mso-ansi-language:EN-US;} . @page WordSection1 . {size:612.0pt 792.0pt; . margin:72.0pt 90.0pt 72.0pt 90.0pt; . mso-header-margin:36.0pt; . mso-footer-margin:36.0pt; . mso-paper-source:0;} . div.WordSection1 . {page:WordSection1;} . --&gt;]</td>\n",
       "    </tr>\n",
       "    <tr>\n",
       "      <th>111290</th>\n",
       "      <td>[&lt;http://www.transforminglives.co.uk&gt;]</td>\n",
       "    </tr>\n",
       "    <tr>\n",
       "      <th>112418</th>\n",
       "      <td>[&lt;string name=\"paid_channel_subscribe_message\"&gt;, &lt;/string&gt;, &lt;string name=\"paid_channel_unsubscribe_message\"&gt;, &lt;/string&gt;]</td>\n",
       "    </tr>\n",
       "    <tr>\n",
       "      <th>131864</th>\n",
       "      <td>[&lt;br/&gt;, &lt;font style=\"font-size: 1.2em;\"&gt;, &lt;/font&gt;, &lt;/p&gt;, &lt;div class=\"clear\"&gt;, &lt;/div&gt;, &lt;div class=\"artSplitter\"&gt;, &lt;img id=\"images_8763167_37\" src=\"http://i.dailymail.co.uk/i/pix/2014/03/06/article-0-1C151D0700000578-736_634x610.jpg\" alt=\"Vicious: A police dog (file picture) is far larger and more aggressive than a pug\" class=\"articleImageEdit imageHeight PMS \" height=\"610\" width=\"634\"&gt;, &lt;p class=\"imageCaption\"&gt;, &lt;/p&gt;, &lt;/div&gt;, &lt;p&gt;, &lt;/p&gt;, &lt;p&gt;, &lt;font style=\"font-size:1.2em;\"&gt;, &lt;/font&gt;, &lt;/p&gt;, &lt;div class=\"clear\"&gt;, &lt;/div&gt;]</td>\n",
       "    </tr>\n",
       "    <tr>\n",
       "      <th>163275</th>\n",
       "      <td>[&lt;embed&gt;]</td>\n",
       "    </tr>\n",
       "    <tr>\n",
       "      <th>165768</th>\n",
       "      <td>[&lt;!-- . /* Font Definitions */ . @font-face . {font-family:Times; . panose-1:2 0 5 0 0 0 0 0 0 0; . mso-font-charset:0; . mso-generic-font-family:auto; . mso-font-pitch:variable; . mso-font-signature:3 0 0 0 1 0;} . @font-face . {font-family:\"ＭＳ 明朝\"; . panose-1:0 0 0 0 0 0 0 0 0 0; . mso-font-charset:128; . mso-generic-font-family:roman; . mso-font-format:other; . mso-font-pitch:fixed; . mso-font-signature:1 134676480 16 0 131072 0;} . @font-face . {font-family:\"Cambria Math\"; . panose-1:0 0 0 0 0 0 0 0 0 0; . mso-font-charset:1; . mso-generic-font-family:roman; . mso-font-format:other; . mso-font-pitch:variable; . mso-font-signature:0 0 0 0 0 0;} . @font-face . {font-family:Cambria; . panose-1:0 0 0 0 0 0 0 0 0 0; . mso-font-alt:\"Times New Roman\"; . mso-font-charset:0; . mso-generic-font-family:roman; . mso-font-format:other; . mso-font-pitch:auto; . mso-font-signature:0 0 0 0 0 0;} . /* Style Definitions */ . p.MsoNormal, li.MsoNormal, div.MsoNormal . {mso-style-unhide:no; . mso-style-qformat:yes; . mso-style-parent:\"\"; . margin:0cm; . margin-bottom:.0001pt; . mso-pagination:widow-orphan; . font-size:12.0pt; . font-family:\"Cambria\",\"serif\"; . mso-ascii-font-family:Cambria; . mso-ascii-theme-font:minor-latin; . mso-fareast-font-family:\"ＭＳ 明朝\"; . mso-fareast-theme-font:minor-fareast; . mso-hansi-font-family:Cambria; . mso-hansi-theme-font:minor-latin; . mso-bidi-font-family:\"Times New Roman\"; . mso-bidi-theme-font:minor-bidi; . mso-ansi-language:EN-US;} . p . {mso-style-noshow:yes; . mso-style-priority:99; . mso-margin-top-alt:auto; . margin-right:0cm; . mso-margin-bottom-alt:auto; . margin-left:0cm; . mso-pagination:widow-orphan; . font-size:10.0pt; . font-family:Times; . mso-fareast-font-family:\"ＭＳ 明朝\"; . mso-fareast-theme-font:minor-fareast; . mso-bidi-font-family:\"Times New Roman\";} . .MsoChpDefault . {mso-style-type:export-only; . mso-default-props:yes; . font-family:\"Cambria\",\"serif\"; . mso-ascii-font-family:Cambria; . mso-ascii-theme-font:minor-latin; . mso-fareast-font-family:\"ＭＳ 明朝\"; . mso-fareast-theme-font:minor-fareast; . mso-hansi-font-family:Cambria; . mso-hansi-theme-font:minor-latin; . mso-bidi-font-family:\"Times New Roman\"; . mso-bidi-theme-font:minor-bidi; . mso-ansi-language:EN-US;} . @page WordSection1 . {size:612.0pt 792.0pt; . margin:72.0pt 90.0pt 72.0pt 90.0pt; . mso-header-margin:36.0pt; . mso-footer-margin:36.0pt; . mso-paper-source:0;} . div.WordSection1 . {page:WordSection1;} . --&gt;]</td>\n",
       "    </tr>\n",
       "    <tr>\n",
       "      <th>180412</th>\n",
       "      <td>[&lt;!-- . /* Font Definitions */ . @font-face . {font-family:\"&amp;#65325;&amp;#65331; &amp;#26126;&amp;#26397;\"; . panose-1:0 0 0 0 0 0 0 0 0 0; . mso-font-charset:128; . mso-generic-font-family:roman; . mso-font-format:other; . mso-font-pitch:fixed; . mso-font-signature:1 134676480 16 0 131072 0;} . @font-face . {font-family:\"Cambria Math\"; . panose-1:2 4 5 3 5 4 6 3 2 4; . mso-font-charset:0; . mso-generic-font-family:auto; . mso-font-pitch:variable; . mso-font-signature:-536870145 1107305727 0 0 415 0;} . @font-face . {font-family:Cambria; . panose-1:2 4 5 3 5 4 6 3 2 4; . mso-font-charset:0; . mso-generic-font-family:auto; . mso-font-pitch:variable; . mso-font-signature:-536870145 1073743103 0 0 415 0;} . /* Style Definitions */ . p.MsoNormal, li.MsoNormal, div.MsoNormal . {mso-style-unhide:no; . mso-style-qformat:yes; . mso-style-parent:\"\"; . margin:0cm; . margin-bottom:.0001pt; . mso-pagination:widow-orphan; . font-size:12.0pt; . font-family:Cambria; . mso-ascii-font-family:Cambria; . mso-ascii-theme-font:minor-latin; . mso-fareast-font-family:\"&amp;#65325;&amp;#65331; &amp;#26126;&amp;#26397;\"; . mso-fareast-theme-font:minor-fareast; . mso-hansi-font-family:Cambria; . mso-hansi-theme-font:minor-latin; . mso-bidi-font-family:\"Times New Roman\"; . mso-bidi-theme-font:minor-bidi; . mso-ansi-language:EN-US;} . .MsoChpDefault . {mso-style-type:export-only; . mso-default-props:yes; . font-family:Cambria; . mso-ascii-font-family:Cambria; . mso-ascii-theme-font:minor-latin; . mso-fareast-font-family:\"&amp;#65325;&amp;#65331; &amp;#26126;&amp;#26397;\"; . mso-fareast-theme-font:minor-fareast; . mso-hansi-font-family:Cambria; . mso-hansi-theme-font:minor-latin; . mso-bidi-font-family:\"Times New Roman\"; . mso-bidi-theme-font:minor-bidi; . mso-ansi-language:EN-US;} . @page WordSection1 . {size:612.0pt 792.0pt; . margin:72.0pt 90.0pt 72.0pt 90.0pt; . mso-header-margin:36.0pt; . mso-footer-margin:36.0pt; . mso-paper-source:0;} . div.WordSection1 . {page:WordSection1;} . --&gt;]</td>\n",
       "    </tr>\n",
       "    <tr>\n",
       "      <th>187295</th>\n",
       "      <td>[&lt;iframe src=\"http://embed.newsinc.com/Single/iframe.html?WID=2&amp;VID=25725094&amp;freewheel=91460&amp;sitesection=mailonline&amp;height=360&amp;width=640\" height=360 width=640 frameborder=no scrolling=no noresize marginwidth=0px marginheight=0px&gt;, &lt;/iframe&gt;]</td>\n",
       "    </tr>\n",
       "    <tr>\n",
       "      <th>192013</th>\n",
       "      <td>[&lt;sup&gt;, &lt;/sup&gt;, &lt;sup&gt;, &lt;/sup&gt;, &lt;sup&gt;, &lt;/sup&gt;]</td>\n",
       "    </tr>\n",
       "    <tr>\n",
       "      <th>204861</th>\n",
       "      <td>[&lt;string name=\"paid_channel_subscribe_message\"&gt;, &lt;/string&gt;, &lt;string name=\"paid_channel_unsubscribe_message\"&gt;, &lt;/string&gt;]</td>\n",
       "    </tr>\n",
       "    <tr>\n",
       "      <th>208063</th>\n",
       "      <td>[&lt;!-- . /* Font Definitions */ . @font-face . {font-family:\"Cambria Math\"; . panose-1:2 4 5 3 5 4 6 3 2 4;} . @font-face . {font-family:\"Segoe UI\"; . panose-1:2 11 5 2 4 2 4 2 2 3;} . /* Style Definitions */ . p.MsoNormal, li.MsoNormal, div.MsoNormal . {margin-top:0in; . margin-right:0in; . margin-bottom:8.0pt; . margin-left:0in; . line-height:107%; . font-size:11.0pt; . font-family:\"Calibri\",\"sans-serif\";} . .MsoChpDefault . {font-family:\"Calibri\",\"sans-serif\";} . .MsoPapDefault . {margin-bottom:8.0pt; . line-height:107%;} . /* Page Definitions */ . @page WordSection1 . {size:8.5in 11.0in; . margin:1.0in 1.0in 1.0in 1.0in;} . div.WordSection1 . {page:WordSection1;} . --&gt;]</td>\n",
       "    </tr>\n",
       "    <tr>\n",
       "      <th>239766</th>\n",
       "      <td>[&lt;script type='text/javascript' src='http://v9.anv.bz/scripts/anv_mcp_9.js'&gt;]</td>\n",
       "    </tr>\n",
       "    <tr>\n",
       "      <th>256114</th>\n",
       "      <td>[&lt;!-- br {mso-data-placement:same-cell;} --&gt;]</td>\n",
       "    </tr>\n",
       "    <tr>\n",
       "      <th>260487</th>\n",
       "      <td>[&lt;https://twitter.com/jamalhbryant&gt;]</td>\n",
       "    </tr>\n",
       "    <tr>\n",
       "      <th>272325</th>\n",
       "      <td>[&lt;insert answer&gt;]</td>\n",
       "    </tr>\n",
       "  </tbody>\n",
       "</table>\n",
       "</div>"
      ],
      "text/plain": [
       "                                                                                                                                                                                                                                                                                                                                                                                                                                                                                                                                                                                                                                                                                                                                                                                                                                                                                                                                                                                                                                                                                                                                                                                                                                                                                                                                                                                                                                                                                                                                                                                                                                                                                                                                                                                                                                                                                                                                                                                                                                                                                                                                                                                                                                                                                                                                                                                                                                                                                                                                           article_html_tags\n",
       "439                                                                                                                                                                                                                                                                                                                                                                                                                                                                                                                                                                                                                                                                                                                                                                                                                                                                                                                                                                                                                                                                                                                                                                                                                                                                                                                                                                                                                                                                                                                                                                                                                                                                                                                                                                                                                                                                                                                                                                                                                                                                                                                                                                                                                                                                                                                                                                                                                                                                                  [<!--td {border: 1px solid #ccc;}br {mso-data-placement:same-cell;}-->]\n",
       "6575                                                                                                                                                                                                                                                                                                                                                                                                                                                                                                                                                                                                                                                                                                                                                                                                                                                                                                                                                                                                                                                                                                                                                                                                                                                                                                                                                                                                                                                                                                                                                                                                                                                                                                                                                                                                                                                                                                                                                                                                                                                                                                                                                                                                                                                                                                                                                                                                                                                                                                   [<fb:like href=\"cnet.com\" font=\"tahoma\">, </fb:like>]\n",
       "49099                                                                                                                                                                                                                                                                                                                                                                                                                                                                                                                                                                                                                                                                                                                                                                                                                                                                                                                                                                                                                                                                                                                                                                                                                                                                                                                                                                                                                                                                                                                                                                                                                                                                                                                                                                                                                                                                                                                                                                                                                                                                                                                                                                                                                                                                                                                                                                                                                                                                                                                     [<Leaves his stupid wife forever>]\n",
       "60098                                                                                                                                                                                                                                                                                                                                                                                                                                                                                                                                                                                                                                                                                                                                                                                                                                                                                                                                                                                                                                                                                                                                                                                                                                                                                                                                                                                                                                                                                                                                                                                                                                                                                                                                                                                                                                                                                                                                                                                                                                                                                                                                                                                                                                                                                                                                                                                                                                                                                                                           [<starts to click \"delete\">]\n",
       "73977                                                                                                                                                                                                                                                                                                                                                                                                                                                                                                                                                                                                                                                                                                                                                                                                                                                                                                                                                                                                                                                                                                                                                                                                                                                                                                                                                                                                                                                                                                                                                                                                                                                                                                                                                                                                                                                                                                                                                                                                                                                                                                                                                                                                                                                                                                                                                                                                                               [<iframe width=\"640\" height=\"360\" src=\"//www.youtube.com/embed/LJlbDBJmavE\" frameborder=\"0\" allowfullscreen>, </iframe>]\n",
       "76884                                                                                                                                                                                                                                                                                                                                                                                                                                                                                                                                                                                                            [<!-- . /* Font Definitions */ . @font-face . {font-family:\"ＭＳ 明朝\"; . panose-1:0 0 0 0 0 0 0 0 0 0; . mso-font-charset:128; . mso-generic-font-family:roman; . mso-font-format:other; . mso-font-pitch:fixed; . mso-font-signature:1 134676480 16 0 131072 0;} . @font-face . {font-family:\"Cambria Math\"; . panose-1:2 4 5 3 5 4 6 3 2 4; . mso-font-charset:0; . mso-generic-font-family:auto; . mso-font-pitch:variable; . mso-font-signature:-536870145 1107305727 0 0 415 0;} . @font-face . {font-family:Cambria; . panose-1:2 4 5 3 5 4 6 3 2 4; . mso-font-charset:0; . mso-generic-font-family:auto; . mso-font-pitch:variable; . mso-font-signature:-536870145 1073743103 0 0 415 0;} . /* Style Definitions */ . p.MsoNormal, li.MsoNormal, div.MsoNormal . {mso-style-unhide:no; . mso-style-qformat:yes; . mso-style-parent:\"\"; . margin:0cm; . margin-bottom:.0001pt; . mso-pagination:widow-orphan; . font-size:12.0pt; . font-family:Cambria; . mso-ascii-font-family:Cambria; . mso-ascii-theme-font:minor-latin; . mso-fareast-font-family:\"ＭＳ 明朝\"; . mso-fareast-theme-font:minor-fareast; . mso-hansi-font-family:Cambria; . mso-hansi-theme-font:minor-latin; . mso-bidi-font-family:\"Times New Roman\"; . mso-bidi-theme-font:minor-bidi; . mso-ansi-language:EN-US;} . .MsoChpDefault . {mso-style-type:export-only; . mso-default-props:yes; . font-family:Cambria; . mso-ascii-font-family:Cambria; . mso-ascii-theme-font:minor-latin; . mso-fareast-font-family:\"ＭＳ 明朝\"; . mso-fareast-theme-font:minor-fareast; . mso-hansi-font-family:Cambria; . mso-hansi-theme-font:minor-latin; . mso-bidi-font-family:\"Times New Roman\"; . mso-bidi-theme-font:minor-bidi; . mso-ansi-language:EN-US;} . @page WordSection1 . {size:612.0pt 792.0pt; . margin:72.0pt 90.0pt 72.0pt 90.0pt; . mso-header-margin:36.0pt; . mso-footer-margin:36.0pt; . mso-paper-source:0;} . div.WordSection1 . {page:WordSection1;} . -->]\n",
       "111290                                                                                                                                                                                                                                                                                                                                                                                                                                                                                                                                                                                                                                                                                                                                                                                                                                                                                                                                                                                                                                                                                                                                                                                                                                                                                                                                                                                                                                                                                                                                                                                                                                                                                                                                                                                                                                                                                                                                                                                                                                                                                                                                                                                                                                                                                                                                                                                                                                                                                                                [<http://www.transforminglives.co.uk>]\n",
       "112418                                                                                                                                                                                                                                                                                                                                                                                                                                                                                                                                                                                                                                                                                                                                                                                                                                                                                                                                                                                                                                                                                                                                                                                                                                                                                                                                                                                                                                                                                                                                                                                                                                                                                                                                                                                                                                                                                                                                                                                                                                                                                                                                                                                                                                                                                                                                                                                                                              [<string name=\"paid_channel_subscribe_message\">, </string>, <string name=\"paid_channel_unsubscribe_message\">, </string>]\n",
       "131864                                                                                                                                                                                                                                                                                                                                                                                                                                                                                                                                                                                                                                                                                                                                                                                                                                                                                                                                                                                                                                                                                                                                                                                                                                                                                                                                                                                                                                                                                                                                                                                                                                                                                                                                                                                                                                                                                                                                                                                                             [<br/>, <font style=\"font-size: 1.2em;\">, </font>, </p>, <div class=\"clear\">, </div>, <div class=\"artSplitter\">, <img id=\"images_8763167_37\" src=\"http://i.dailymail.co.uk/i/pix/2014/03/06/article-0-1C151D0700000578-736_634x610.jpg\" alt=\"Vicious: A police dog (file picture) is far larger and more aggressive than a pug\" class=\"articleImageEdit imageHeight PMS \" height=\"610\" width=\"634\">, <p class=\"imageCaption\">, </p>, </div>, <p>, </p>, <p>, <font style=\"font-size:1.2em;\">, </font>, </p>, <div class=\"clear\">, </div>]\n",
       "163275                                                                                                                                                                                                                                                                                                                                                                                                                                                                                                                                                                                                                                                                                                                                                                                                                                                                                                                                                                                                                                                                                                                                                                                                                                                                                                                                                                                                                                                                                                                                                                                                                                                                                                                                                                                                                                                                                                                                                                                                                                                                                                                                                                                                                                                                                                                                                                                                                                                                                                                                             [<embed>]\n",
       "165768  [<!-- . /* Font Definitions */ . @font-face . {font-family:Times; . panose-1:2 0 5 0 0 0 0 0 0 0; . mso-font-charset:0; . mso-generic-font-family:auto; . mso-font-pitch:variable; . mso-font-signature:3 0 0 0 1 0;} . @font-face . {font-family:\"ＭＳ 明朝\"; . panose-1:0 0 0 0 0 0 0 0 0 0; . mso-font-charset:128; . mso-generic-font-family:roman; . mso-font-format:other; . mso-font-pitch:fixed; . mso-font-signature:1 134676480 16 0 131072 0;} . @font-face . {font-family:\"Cambria Math\"; . panose-1:0 0 0 0 0 0 0 0 0 0; . mso-font-charset:1; . mso-generic-font-family:roman; . mso-font-format:other; . mso-font-pitch:variable; . mso-font-signature:0 0 0 0 0 0;} . @font-face . {font-family:Cambria; . panose-1:0 0 0 0 0 0 0 0 0 0; . mso-font-alt:\"Times New Roman\"; . mso-font-charset:0; . mso-generic-font-family:roman; . mso-font-format:other; . mso-font-pitch:auto; . mso-font-signature:0 0 0 0 0 0;} . /* Style Definitions */ . p.MsoNormal, li.MsoNormal, div.MsoNormal . {mso-style-unhide:no; . mso-style-qformat:yes; . mso-style-parent:\"\"; . margin:0cm; . margin-bottom:.0001pt; . mso-pagination:widow-orphan; . font-size:12.0pt; . font-family:\"Cambria\",\"serif\"; . mso-ascii-font-family:Cambria; . mso-ascii-theme-font:minor-latin; . mso-fareast-font-family:\"ＭＳ 明朝\"; . mso-fareast-theme-font:minor-fareast; . mso-hansi-font-family:Cambria; . mso-hansi-theme-font:minor-latin; . mso-bidi-font-family:\"Times New Roman\"; . mso-bidi-theme-font:minor-bidi; . mso-ansi-language:EN-US;} . p . {mso-style-noshow:yes; . mso-style-priority:99; . mso-margin-top-alt:auto; . margin-right:0cm; . mso-margin-bottom-alt:auto; . margin-left:0cm; . mso-pagination:widow-orphan; . font-size:10.0pt; . font-family:Times; . mso-fareast-font-family:\"ＭＳ 明朝\"; . mso-fareast-theme-font:minor-fareast; . mso-bidi-font-family:\"Times New Roman\";} . .MsoChpDefault . {mso-style-type:export-only; . mso-default-props:yes; . font-family:\"Cambria\",\"serif\"; . mso-ascii-font-family:Cambria; . mso-ascii-theme-font:minor-latin; . mso-fareast-font-family:\"ＭＳ 明朝\"; . mso-fareast-theme-font:minor-fareast; . mso-hansi-font-family:Cambria; . mso-hansi-theme-font:minor-latin; . mso-bidi-font-family:\"Times New Roman\"; . mso-bidi-theme-font:minor-bidi; . mso-ansi-language:EN-US;} . @page WordSection1 . {size:612.0pt 792.0pt; . margin:72.0pt 90.0pt 72.0pt 90.0pt; . mso-header-margin:36.0pt; . mso-footer-margin:36.0pt; . mso-paper-source:0;} . div.WordSection1 . {page:WordSection1;} . -->]\n",
       "180412                                                                                                                                                                                                                                                                                                                                                                                                                                                                                                                       [<!-- . /* Font Definitions */ . @font-face . {font-family:\"&#65325;&#65331; &#26126;&#26397;\"; . panose-1:0 0 0 0 0 0 0 0 0 0; . mso-font-charset:128; . mso-generic-font-family:roman; . mso-font-format:other; . mso-font-pitch:fixed; . mso-font-signature:1 134676480 16 0 131072 0;} . @font-face . {font-family:\"Cambria Math\"; . panose-1:2 4 5 3 5 4 6 3 2 4; . mso-font-charset:0; . mso-generic-font-family:auto; . mso-font-pitch:variable; . mso-font-signature:-536870145 1107305727 0 0 415 0;} . @font-face . {font-family:Cambria; . panose-1:2 4 5 3 5 4 6 3 2 4; . mso-font-charset:0; . mso-generic-font-family:auto; . mso-font-pitch:variable; . mso-font-signature:-536870145 1073743103 0 0 415 0;} . /* Style Definitions */ . p.MsoNormal, li.MsoNormal, div.MsoNormal . {mso-style-unhide:no; . mso-style-qformat:yes; . mso-style-parent:\"\"; . margin:0cm; . margin-bottom:.0001pt; . mso-pagination:widow-orphan; . font-size:12.0pt; . font-family:Cambria; . mso-ascii-font-family:Cambria; . mso-ascii-theme-font:minor-latin; . mso-fareast-font-family:\"&#65325;&#65331; &#26126;&#26397;\"; . mso-fareast-theme-font:minor-fareast; . mso-hansi-font-family:Cambria; . mso-hansi-theme-font:minor-latin; . mso-bidi-font-family:\"Times New Roman\"; . mso-bidi-theme-font:minor-bidi; . mso-ansi-language:EN-US;} . .MsoChpDefault . {mso-style-type:export-only; . mso-default-props:yes; . font-family:Cambria; . mso-ascii-font-family:Cambria; . mso-ascii-theme-font:minor-latin; . mso-fareast-font-family:\"&#65325;&#65331; &#26126;&#26397;\"; . mso-fareast-theme-font:minor-fareast; . mso-hansi-font-family:Cambria; . mso-hansi-theme-font:minor-latin; . mso-bidi-font-family:\"Times New Roman\"; . mso-bidi-theme-font:minor-bidi; . mso-ansi-language:EN-US;} . @page WordSection1 . {size:612.0pt 792.0pt; . margin:72.0pt 90.0pt 72.0pt 90.0pt; . mso-header-margin:36.0pt; . mso-footer-margin:36.0pt; . mso-paper-source:0;} . div.WordSection1 . {page:WordSection1;} . -->]\n",
       "187295                                                                                                                                                                                                                                                                                                                                                                                                                                                                                                                                                                                                                                                                                                                                                                                                                                                                                                                                                                                                                                                                                                                                                                                                                                                                                                                                                                                                                                                                                                                                                                                                                                                                                                                                                                                                                                                                                                                                                                                                                                                                                                                                                                                                                                                                                                     [<iframe src=\"http://embed.newsinc.com/Single/iframe.html?WID=2&VID=25725094&freewheel=91460&sitesection=mailonline&height=360&width=640\" height=360 width=640 frameborder=no scrolling=no noresize marginwidth=0px marginheight=0px>, </iframe>]\n",
       "192013                                                                                                                                                                                                                                                                                                                                                                                                                                                                                                                                                                                                                                                                                                                                                                                                                                                                                                                                                                                                                                                                                                                                                                                                                                                                                                                                                                                                                                                                                                                                                                                                                                                                                                                                                                                                                                                                                                                                                                                                                                                                                                                                                                                                                                                                                                                                                                                                                                                                                                         [<sup>, </sup>, <sup>, </sup>, <sup>, </sup>]\n",
       "204861                                                                                                                                                                                                                                                                                                                                                                                                                                                                                                                                                                                                                                                                                                                                                                                                                                                                                                                                                                                                                                                                                                                                                                                                                                                                                                                                                                                                                                                                                                                                                                                                                                                                                                                                                                                                                                                                                                                                                                                                                                                                                                                                                                                                                                                                                                                                                                                                                              [<string name=\"paid_channel_subscribe_message\">, </string>, <string name=\"paid_channel_unsubscribe_message\">, </string>]\n",
       "208063                                                                                                                                                                                                                                                                                                                                                                                                                                                                                                                                                                                                                                                                                                                                                                                                                                                                                                                                                                                                                                                                                                                                                                                                                                                                                                                                                                                                                                                                                                                                                                                                                                                                                                                                                                                                                                             [<!-- . /* Font Definitions */ . @font-face . {font-family:\"Cambria Math\"; . panose-1:2 4 5 3 5 4 6 3 2 4;} . @font-face . {font-family:\"Segoe UI\"; . panose-1:2 11 5 2 4 2 4 2 2 3;} . /* Style Definitions */ . p.MsoNormal, li.MsoNormal, div.MsoNormal . {margin-top:0in; . margin-right:0in; . margin-bottom:8.0pt; . margin-left:0in; . line-height:107%; . font-size:11.0pt; . font-family:\"Calibri\",\"sans-serif\";} . .MsoChpDefault . {font-family:\"Calibri\",\"sans-serif\";} . .MsoPapDefault . {margin-bottom:8.0pt; . line-height:107%;} . /* Page Definitions */ . @page WordSection1 . {size:8.5in 11.0in; . margin:1.0in 1.0in 1.0in 1.0in;} . div.WordSection1 . {page:WordSection1;} . -->]\n",
       "239766                                                                                                                                                                                                                                                                                                                                                                                                                                                                                                                                                                                                                                                                                                                                                                                                                                                                                                                                                                                                                                                                                                                                                                                                                                                                                                                                                                                                                                                                                                                                                                                                                                                                                                                                                                                                                                                                                                                                                                                                                                                                                                                                                                                                                                                                                                                                                                                                                                                                         [<script type='text/javascript' src='http://v9.anv.bz/scripts/anv_mcp_9.js'>]\n",
       "256114                                                                                                                                                                                                                                                                                                                                                                                                                                                                                                                                                                                                                                                                                                                                                                                                                                                                                                                                                                                                                                                                                                                                                                                                                                                                                                                                                                                                                                                                                                                                                                                                                                                                                                                                                                                                                                                                                                                                                                                                                                                                                                                                                                                                                                                                                                                                                                                                                                                                                                         [<!-- br {mso-data-placement:same-cell;} -->]\n",
       "260487                                                                                                                                                                                                                                                                                                                                                                                                                                                                                                                                                                                                                                                                                                                                                                                                                                                                                                                                                                                                                                                                                                                                                                                                                                                                                                                                                                                                                                                                                                                                                                                                                                                                                                                                                                                                                                                                                                                                                                                                                                                                                                                                                                                                                                                                                                                                                                                                                                                                                                                  [<https://twitter.com/jamalhbryant>]\n",
       "272325                                                                                                                                                                                                                                                                                                                                                                                                                                                                                                                                                                                                                                                                                                                                                                                                                                                                                                                                                                                                                                                                                                                                                                                                                                                                                                                                                                                                                                                                                                                                                                                                                                                                                                                                                                                                                                                                                                                                                                                                                                                                                                                                                                                                                                                                                                                                                                                                                                                                                                                                     [<insert answer>]"
      ]
     },
     "metadata": {},
     "output_type": "display_data"
    }
   ],
   "source": [
    "pd.set_option(\"max_colwidth\", None)\n",
    "display(cpy_train.loc[cpy_train['article_html_tags'].apply(len)>0, [\"article_html_tags\"]])\n",
    "pd.reset_option('display.max_colwidth')"
   ]
  },
  {
   "cell_type": "code",
   "execution_count": 20,
   "id": "84ecbf32",
   "metadata": {
    "execution": {
     "iopub.execute_input": "2024-04-25T22:05:56.514667Z",
     "iopub.status.busy": "2024-04-25T22:05:56.514003Z",
     "iopub.status.idle": "2024-04-25T22:05:56.519253Z",
     "shell.execute_reply": "2024-04-25T22:05:56.518349Z"
    },
    "papermill": {
     "duration": 0.028447,
     "end_time": "2024-04-25T22:05:56.521255",
     "exception": false,
     "start_time": "2024-04-25T22:05:56.492808",
     "status": "completed"
    },
    "tags": []
   },
   "outputs": [],
   "source": [
    "# let's make a function to remove the html tags using re.sub()\n",
    "# that replace a match with a string \n",
    "def remove_html_tags(text):\n",
    "    # replace the tags with white space\n",
    "    text = re.sub(r\"<[^>]+>\", \"\", text)\n",
    "    # replace the white space it self\n",
    "    # \\ declare a usage of speacial sequnce \n",
    "    # \\s (s small)Returns a match where the string contains a white space character\n",
    "    # \\s+ one or more\n",
    "    # to remove the extra spaces we made\n",
    "    text = re.sub(r\"\\s+\", \"\", text)\n",
    "    return text \n"
   ]
  },
  {
   "cell_type": "code",
   "execution_count": 21,
   "id": "0a919ccd",
   "metadata": {
    "execution": {
     "iopub.execute_input": "2024-04-25T22:05:56.563529Z",
     "iopub.status.busy": "2024-04-25T22:05:56.563151Z",
     "iopub.status.idle": "2024-04-25T22:05:56.739261Z",
     "shell.execute_reply": "2024-04-25T22:05:56.738259Z"
    },
    "papermill": {
     "duration": 0.199817,
     "end_time": "2024-04-25T22:05:56.741310",
     "exception": false,
     "start_time": "2024-04-25T22:05:56.541493",
     "status": "completed"
    },
    "tags": []
   },
   "outputs": [
    {
     "data": {
      "text/plain": [
       "Index([   439,   6575,  49099,  60098,  73977,  76884, 111290, 112418, 131864,\n",
       "       163275, 165768, 180412, 187295, 192013, 204861, 208063, 239766, 256114,\n",
       "       260487, 272325],\n",
       "      dtype='int64')"
      ]
     },
     "execution_count": 21,
     "metadata": {},
     "output_type": "execute_result"
    }
   ],
   "source": [
    "# let's apply this to the dataset \n",
    "filterd_indicies = cpy_train.loc[cpy_train['article_html_tags'].apply(len)>0].index\n",
    "filterd_indicies\n",
    "                                 "
   ]
  },
  {
   "cell_type": "code",
   "execution_count": 22,
   "id": "2d005dac",
   "metadata": {
    "execution": {
     "iopub.execute_input": "2024-04-25T22:05:56.784522Z",
     "iopub.status.busy": "2024-04-25T22:05:56.783626Z",
     "iopub.status.idle": "2024-04-25T22:05:56.810959Z",
     "shell.execute_reply": "2024-04-25T22:05:56.809744Z"
    },
    "papermill": {
     "duration": 0.051374,
     "end_time": "2024-04-25T22:05:56.813264",
     "exception": false,
     "start_time": "2024-04-25T22:05:56.761890",
     "status": "completed"
    },
    "tags": []
   },
   "outputs": [],
   "source": [
    "#  Apply remove_html_tags function to 'article' column\n",
    "cpy_train.loc[filterd_indicies, 'article'] = cpy_train.loc[filterd_indicies, 'article'].apply(remove_html_tags)"
   ]
  },
  {
   "cell_type": "code",
   "execution_count": 23,
   "id": "a2828d86",
   "metadata": {
    "execution": {
     "iopub.execute_input": "2024-04-25T22:05:56.857429Z",
     "iopub.status.busy": "2024-04-25T22:05:56.856992Z",
     "iopub.status.idle": "2024-04-25T22:05:58.431266Z",
     "shell.execute_reply": "2024-04-25T22:05:58.430286Z"
    },
    "papermill": {
     "duration": 1.598349,
     "end_time": "2024-04-25T22:05:58.433511",
     "exception": false,
     "start_time": "2024-04-25T22:05:56.835162",
     "status": "completed"
    },
    "tags": []
   },
   "outputs": [
    {
     "data": {
      "text/html": [
       "<div>\n",
       "<style scoped>\n",
       "    .dataframe tbody tr th:only-of-type {\n",
       "        vertical-align: middle;\n",
       "    }\n",
       "\n",
       "    .dataframe tbody tr th {\n",
       "        vertical-align: top;\n",
       "    }\n",
       "\n",
       "    .dataframe thead th {\n",
       "        text-align: right;\n",
       "    }\n",
       "</style>\n",
       "<table border=\"1\" class=\"dataframe\">\n",
       "  <thead>\n",
       "    <tr style=\"text-align: right;\">\n",
       "      <th></th>\n",
       "      <th>article_html_tags</th>\n",
       "    </tr>\n",
       "  </thead>\n",
       "  <tbody>\n",
       "    <tr>\n",
       "      <th>count</th>\n",
       "      <td>287113</td>\n",
       "    </tr>\n",
       "    <tr>\n",
       "      <th>unique</th>\n",
       "      <td>1</td>\n",
       "    </tr>\n",
       "    <tr>\n",
       "      <th>top</th>\n",
       "      <td>[]</td>\n",
       "    </tr>\n",
       "    <tr>\n",
       "      <th>freq</th>\n",
       "      <td>287113</td>\n",
       "    </tr>\n",
       "  </tbody>\n",
       "</table>\n",
       "</div>"
      ],
      "text/plain": [
       "       article_html_tags\n",
       "count             287113\n",
       "unique                 1\n",
       "top                   []\n",
       "freq              287113"
      ]
     },
     "execution_count": 23,
     "metadata": {},
     "output_type": "execute_result"
    }
   ],
   "source": [
    "# let's be sure\n",
    "cpy_train['article_html_tags'] = cpy_train['article'].apply(detect_html_tags)\n",
    "cpy_train[['article_html_tags']].describe(include=\"O\")"
   ]
  },
  {
   "cell_type": "code",
   "execution_count": 24,
   "id": "19026c86",
   "metadata": {
    "execution": {
     "iopub.execute_input": "2024-04-25T22:05:58.476509Z",
     "iopub.status.busy": "2024-04-25T22:05:58.475845Z",
     "iopub.status.idle": "2024-04-25T22:05:58.653981Z",
     "shell.execute_reply": "2024-04-25T22:05:58.652934Z"
    },
    "papermill": {
     "duration": 0.201851,
     "end_time": "2024-04-25T22:05:58.656090",
     "exception": false,
     "start_time": "2024-04-25T22:05:58.454239",
     "status": "completed"
    },
    "tags": []
   },
   "outputs": [
    {
     "data": {
      "text/html": [
       "<div>\n",
       "<style scoped>\n",
       "    .dataframe tbody tr th:only-of-type {\n",
       "        vertical-align: middle;\n",
       "    }\n",
       "\n",
       "    .dataframe tbody tr th {\n",
       "        vertical-align: top;\n",
       "    }\n",
       "\n",
       "    .dataframe thead th {\n",
       "        text-align: right;\n",
       "    }\n",
       "</style>\n",
       "<table border=\"1\" class=\"dataframe\">\n",
       "  <thead>\n",
       "    <tr style=\"text-align: right;\">\n",
       "      <th></th>\n",
       "      <th>highlights_html_tags</th>\n",
       "    </tr>\n",
       "  </thead>\n",
       "  <tbody>\n",
       "    <tr>\n",
       "      <th>189959</th>\n",
       "      <td>[&lt;font style=\"font-size:1.4em;\"&gt;, &lt;!-- .\\n/* F...</td>\n",
       "    </tr>\n",
       "  </tbody>\n",
       "</table>\n",
       "</div>"
      ],
      "text/plain": [
       "                                     highlights_html_tags\n",
       "189959  [<font style=\"font-size:1.4em;\">, <!-- .\\n/* F..."
      ]
     },
     "execution_count": 24,
     "metadata": {},
     "output_type": "execute_result"
    }
   ],
   "source": [
    "# now lets remove it from the highlights \n",
    "# yes there is a single observation that has html tags\n",
    "# let's show it first \n",
    "cpy_train.loc[cpy_train[\"highlights_html_tags\"].apply(len)>0,  [\"highlights_html_tags\"]]"
   ]
  },
  {
   "cell_type": "code",
   "execution_count": 25,
   "id": "166cd607",
   "metadata": {
    "execution": {
     "iopub.execute_input": "2024-04-25T22:05:58.698176Z",
     "iopub.status.busy": "2024-04-25T22:05:58.697882Z",
     "iopub.status.idle": "2024-04-25T22:05:58.875302Z",
     "shell.execute_reply": "2024-04-25T22:05:58.874365Z"
    },
    "papermill": {
     "duration": 0.200593,
     "end_time": "2024-04-25T22:05:58.877504",
     "exception": false,
     "start_time": "2024-04-25T22:05:58.676911",
     "status": "completed"
    },
    "tags": []
   },
   "outputs": [
    {
     "data": {
      "text/plain": [
       "id                       0\n",
       "article                  0\n",
       "highlights               0\n",
       "article_word_count       0\n",
       "highlights_word_count    0\n",
       "article_html_tags        0\n",
       "highlights_html_tags     0\n",
       "dtype: int64"
      ]
     },
     "execution_count": 25,
     "metadata": {},
     "output_type": "execute_result"
    }
   ],
   "source": [
    "# lets see that first \n",
    "cpy_train.isnull().sum()"
   ]
  },
  {
   "cell_type": "code",
   "execution_count": 26,
   "id": "6ba7ca77",
   "metadata": {
    "execution": {
     "iopub.execute_input": "2024-04-25T22:05:58.920270Z",
     "iopub.status.busy": "2024-04-25T22:05:58.919890Z",
     "iopub.status.idle": "2024-04-25T22:05:59.040117Z",
     "shell.execute_reply": "2024-04-25T22:05:59.039192Z"
    },
    "papermill": {
     "duration": 0.144001,
     "end_time": "2024-04-25T22:05:59.042038",
     "exception": false,
     "start_time": "2024-04-25T22:05:58.898037",
     "status": "completed"
    },
    "tags": []
   },
   "outputs": [
    {
     "data": {
      "text/plain": [
       "id            0\n",
       "article       0\n",
       "highlights    0\n",
       "dtype: int64"
      ]
     },
     "execution_count": 26,
     "metadata": {},
     "output_type": "execute_result"
    }
   ],
   "source": [
    "train.isnull().sum()"
   ]
  },
  {
   "cell_type": "code",
   "execution_count": 27,
   "id": "1bf0b683",
   "metadata": {
    "execution": {
     "iopub.execute_input": "2024-04-25T22:05:59.086664Z",
     "iopub.status.busy": "2024-04-25T22:05:59.085828Z",
     "iopub.status.idle": "2024-04-25T22:05:59.275959Z",
     "shell.execute_reply": "2024-04-25T22:05:59.274817Z"
    },
    "papermill": {
     "duration": 0.214633,
     "end_time": "2024-04-25T22:05:59.278029",
     "exception": false,
     "start_time": "2024-04-25T22:05:59.063396",
     "status": "completed"
    },
    "tags": []
   },
   "outputs": [
    {
     "data": {
      "text/html": [
       "<div>\n",
       "<style scoped>\n",
       "    .dataframe tbody tr th:only-of-type {\n",
       "        vertical-align: middle;\n",
       "    }\n",
       "\n",
       "    .dataframe tbody tr th {\n",
       "        vertical-align: top;\n",
       "    }\n",
       "\n",
       "    .dataframe thead th {\n",
       "        text-align: right;\n",
       "    }\n",
       "</style>\n",
       "<table border=\"1\" class=\"dataframe\">\n",
       "  <thead>\n",
       "    <tr style=\"text-align: right;\">\n",
       "      <th></th>\n",
       "      <th>id</th>\n",
       "      <th>article</th>\n",
       "      <th>highlights</th>\n",
       "      <th>article_word_count</th>\n",
       "      <th>highlights_word_count</th>\n",
       "      <th>article_html_tags</th>\n",
       "      <th>highlights_html_tags</th>\n",
       "    </tr>\n",
       "  </thead>\n",
       "  <tbody>\n",
       "    <tr>\n",
       "      <th>0</th>\n",
       "      <td>0001d1afc246a7964130f43ae940af6bc6c57f01</td>\n",
       "      <td>By . Associated Press . PUBLISHED: . 14:11 EST...</td>\n",
       "      <td>Bishop John Folda, of North Dakota, is taking ...</td>\n",
       "      <td>198</td>\n",
       "      <td>37</td>\n",
       "      <td>[]</td>\n",
       "      <td>[]</td>\n",
       "    </tr>\n",
       "    <tr>\n",
       "      <th>0</th>\n",
       "      <td>0001d1afc246a7964130f43ae940af6bc6c57f01</td>\n",
       "      <td>By . Associated Press . PUBLISHED: . 14:11 EST...</td>\n",
       "      <td>Bishop John Folda, of North Dakota, is taking ...</td>\n",
       "      <td>198</td>\n",
       "      <td>37</td>\n",
       "      <td>[]</td>\n",
       "      <td>[]</td>\n",
       "    </tr>\n",
       "    <tr>\n",
       "      <th>0</th>\n",
       "      <td>0001d1afc246a7964130f43ae940af6bc6c57f01</td>\n",
       "      <td>By . Associated Press . PUBLISHED: . 14:11 EST...</td>\n",
       "      <td>Bishop John Folda, of North Dakota, is taking ...</td>\n",
       "      <td>198</td>\n",
       "      <td>37</td>\n",
       "      <td>[]</td>\n",
       "      <td>[]</td>\n",
       "    </tr>\n",
       "    <tr>\n",
       "      <th>0</th>\n",
       "      <td>0001d1afc246a7964130f43ae940af6bc6c57f01</td>\n",
       "      <td>By . Associated Press . PUBLISHED: . 14:11 EST...</td>\n",
       "      <td>Bishop John Folda, of North Dakota, is taking ...</td>\n",
       "      <td>198</td>\n",
       "      <td>37</td>\n",
       "      <td>[]</td>\n",
       "      <td>[]</td>\n",
       "    </tr>\n",
       "    <tr>\n",
       "      <th>0</th>\n",
       "      <td>0001d1afc246a7964130f43ae940af6bc6c57f01</td>\n",
       "      <td>By . Associated Press . PUBLISHED: . 14:11 EST...</td>\n",
       "      <td>Bishop John Folda, of North Dakota, is taking ...</td>\n",
       "      <td>198</td>\n",
       "      <td>37</td>\n",
       "      <td>[]</td>\n",
       "      <td>[]</td>\n",
       "    </tr>\n",
       "    <tr>\n",
       "      <th>0</th>\n",
       "      <td>0001d1afc246a7964130f43ae940af6bc6c57f01</td>\n",
       "      <td>By . Associated Press . PUBLISHED: . 14:11 EST...</td>\n",
       "      <td>Bishop John Folda, of North Dakota, is taking ...</td>\n",
       "      <td>198</td>\n",
       "      <td>37</td>\n",
       "      <td>[]</td>\n",
       "      <td>[]</td>\n",
       "    </tr>\n",
       "    <tr>\n",
       "      <th>0</th>\n",
       "      <td>0001d1afc246a7964130f43ae940af6bc6c57f01</td>\n",
       "      <td>By . Associated Press . PUBLISHED: . 14:11 EST...</td>\n",
       "      <td>Bishop John Folda, of North Dakota, is taking ...</td>\n",
       "      <td>198</td>\n",
       "      <td>37</td>\n",
       "      <td>[]</td>\n",
       "      <td>[]</td>\n",
       "    </tr>\n",
       "  </tbody>\n",
       "</table>\n",
       "</div>"
      ],
      "text/plain": [
       "                                         id  \\\n",
       "0  0001d1afc246a7964130f43ae940af6bc6c57f01   \n",
       "0  0001d1afc246a7964130f43ae940af6bc6c57f01   \n",
       "0  0001d1afc246a7964130f43ae940af6bc6c57f01   \n",
       "0  0001d1afc246a7964130f43ae940af6bc6c57f01   \n",
       "0  0001d1afc246a7964130f43ae940af6bc6c57f01   \n",
       "0  0001d1afc246a7964130f43ae940af6bc6c57f01   \n",
       "0  0001d1afc246a7964130f43ae940af6bc6c57f01   \n",
       "\n",
       "                                             article  \\\n",
       "0  By . Associated Press . PUBLISHED: . 14:11 EST...   \n",
       "0  By . Associated Press . PUBLISHED: . 14:11 EST...   \n",
       "0  By . Associated Press . PUBLISHED: . 14:11 EST...   \n",
       "0  By . Associated Press . PUBLISHED: . 14:11 EST...   \n",
       "0  By . Associated Press . PUBLISHED: . 14:11 EST...   \n",
       "0  By . Associated Press . PUBLISHED: . 14:11 EST...   \n",
       "0  By . Associated Press . PUBLISHED: . 14:11 EST...   \n",
       "\n",
       "                                          highlights  article_word_count  \\\n",
       "0  Bishop John Folda, of North Dakota, is taking ...                 198   \n",
       "0  Bishop John Folda, of North Dakota, is taking ...                 198   \n",
       "0  Bishop John Folda, of North Dakota, is taking ...                 198   \n",
       "0  Bishop John Folda, of North Dakota, is taking ...                 198   \n",
       "0  Bishop John Folda, of North Dakota, is taking ...                 198   \n",
       "0  Bishop John Folda, of North Dakota, is taking ...                 198   \n",
       "0  Bishop John Folda, of North Dakota, is taking ...                 198   \n",
       "\n",
       "   highlights_word_count article_html_tags highlights_html_tags  \n",
       "0                     37                []                   []  \n",
       "0                     37                []                   []  \n",
       "0                     37                []                   []  \n",
       "0                     37                []                   []  \n",
       "0                     37                []                   []  \n",
       "0                     37                []                   []  \n",
       "0                     37                []                   []  "
      ]
     },
     "execution_count": 27,
     "metadata": {},
     "output_type": "execute_result"
    }
   ],
   "source": [
    "cpy_train.loc[cpy_train.isnull().sum()]"
   ]
  },
  {
   "cell_type": "code",
   "execution_count": 28,
   "id": "ac6a0204",
   "metadata": {
    "execution": {
     "iopub.execute_input": "2024-04-25T22:05:59.321784Z",
     "iopub.status.busy": "2024-04-25T22:05:59.321020Z",
     "iopub.status.idle": "2024-04-25T22:05:59.491714Z",
     "shell.execute_reply": "2024-04-25T22:05:59.490883Z"
    },
    "papermill": {
     "duration": 0.194471,
     "end_time": "2024-04-25T22:05:59.493800",
     "exception": false,
     "start_time": "2024-04-25T22:05:59.299329",
     "status": "completed"
    },
    "tags": []
   },
   "outputs": [],
   "source": [
    "filterd_indicies_h = cpy_train.loc[cpy_train['highlights_html_tags'].apply(len)>0].index\n",
    "cpy_train.loc[filterd_indicies_h, 'highlights'] = cpy_train.loc[filterd_indicies, 'highlights'].apply(remove_html_tags)\n"
   ]
  },
  {
   "cell_type": "code",
   "execution_count": 29,
   "id": "f3398c25",
   "metadata": {
    "execution": {
     "iopub.execute_input": "2024-04-25T22:05:59.537326Z",
     "iopub.status.busy": "2024-04-25T22:05:59.536626Z",
     "iopub.status.idle": "2024-04-25T22:06:00.167620Z",
     "shell.execute_reply": "2024-04-25T22:06:00.166697Z"
    },
    "papermill": {
     "duration": 0.654822,
     "end_time": "2024-04-25T22:06:00.169755",
     "exception": false,
     "start_time": "2024-04-25T22:05:59.514933",
     "status": "completed"
    },
    "tags": []
   },
   "outputs": [
    {
     "data": {
      "text/html": [
       "<div>\n",
       "<style scoped>\n",
       "    .dataframe tbody tr th:only-of-type {\n",
       "        vertical-align: middle;\n",
       "    }\n",
       "\n",
       "    .dataframe tbody tr th {\n",
       "        vertical-align: top;\n",
       "    }\n",
       "\n",
       "    .dataframe thead th {\n",
       "        text-align: right;\n",
       "    }\n",
       "</style>\n",
       "<table border=\"1\" class=\"dataframe\">\n",
       "  <thead>\n",
       "    <tr style=\"text-align: right;\">\n",
       "      <th></th>\n",
       "      <th>highlights_html_tags</th>\n",
       "    </tr>\n",
       "  </thead>\n",
       "  <tbody>\n",
       "    <tr>\n",
       "      <th>count</th>\n",
       "      <td>287113</td>\n",
       "    </tr>\n",
       "    <tr>\n",
       "      <th>unique</th>\n",
       "      <td>1</td>\n",
       "    </tr>\n",
       "    <tr>\n",
       "      <th>top</th>\n",
       "      <td>[]</td>\n",
       "    </tr>\n",
       "    <tr>\n",
       "      <th>freq</th>\n",
       "      <td>287113</td>\n",
       "    </tr>\n",
       "  </tbody>\n",
       "</table>\n",
       "</div>"
      ],
      "text/plain": [
       "       highlights_html_tags\n",
       "count                287113\n",
       "unique                    1\n",
       "top                      []\n",
       "freq                 287113"
      ]
     },
     "execution_count": 29,
     "metadata": {},
     "output_type": "execute_result"
    }
   ],
   "source": [
    "cpy_train['highlights_html_tags'] = cpy_train['highlights'].apply(detect_html_tags)\n",
    "cpy_train[['highlights_html_tags']].describe(include=\"O\")"
   ]
  },
  {
   "cell_type": "markdown",
   "id": "2134349c",
   "metadata": {
    "papermill": {
     "duration": 0.020621,
     "end_time": "2024-04-25T22:06:00.211741",
     "exception": false,
     "start_time": "2024-04-25T22:06:00.191120",
     "status": "completed"
    },
    "tags": []
   },
   "source": [
    "# Tokenization"
   ]
  },
  {
   "cell_type": "code",
   "execution_count": 30,
   "id": "653b1c0f",
   "metadata": {
    "execution": {
     "iopub.execute_input": "2024-04-25T22:06:00.255074Z",
     "iopub.status.busy": "2024-04-25T22:06:00.254361Z",
     "iopub.status.idle": "2024-04-25T22:06:02.294712Z",
     "shell.execute_reply": "2024-04-25T22:06:02.293742Z"
    },
    "papermill": {
     "duration": 2.06451,
     "end_time": "2024-04-25T22:06:02.297007",
     "exception": false,
     "start_time": "2024-04-25T22:06:00.232497",
     "status": "completed"
    },
    "tags": []
   },
   "outputs": [
    {
     "data": {
      "application/vnd.jupyter.widget-view+json": {
       "model_id": "fdfce9fe922f473fb5af9d9c31d7ed49",
       "version_major": 2,
       "version_minor": 0
      },
      "text/plain": [
       "vocab.json:   0%|          | 0.00/899k [00:00<?, ?B/s]"
      ]
     },
     "metadata": {},
     "output_type": "display_data"
    },
    {
     "data": {
      "application/vnd.jupyter.widget-view+json": {
       "model_id": "3cceee7ba7ca4113859da3ab4e13751b",
       "version_major": 2,
       "version_minor": 0
      },
      "text/plain": [
       "merges.txt:   0%|          | 0.00/456k [00:00<?, ?B/s]"
      ]
     },
     "metadata": {},
     "output_type": "display_data"
    },
    {
     "data": {
      "application/vnd.jupyter.widget-view+json": {
       "model_id": "7c38b542a5cd44cebfc696a384fb87ba",
       "version_major": 2,
       "version_minor": 0
      },
      "text/plain": [
       "tokenizer.json:   0%|          | 0.00/1.36M [00:00<?, ?B/s]"
      ]
     },
     "metadata": {},
     "output_type": "display_data"
    },
    {
     "data": {
      "application/vnd.jupyter.widget-view+json": {
       "model_id": "429d7eae031d4588bae1ceff3cd630d3",
       "version_major": 2,
       "version_minor": 0
      },
      "text/plain": [
       "config.json:   0%|          | 0.00/1.72k [00:00<?, ?B/s]"
      ]
     },
     "metadata": {},
     "output_type": "display_data"
    },
    {
     "name": "stdout",
     "output_type": "stream",
     "text": [
      "Tokenized input: {'input_ids': tensor([[    0,   133, 13287,  6219, 23602, 13855,    81,     5,   784, 10129,\n",
      "          2335,     4,     2]]), 'attention_mask': tensor([[1, 1, 1, 1, 1, 1, 1, 1, 1, 1, 1, 1, 1]])}\n"
     ]
    }
   ],
   "source": [
    "# initialize Bart tokenizer\n",
    "tokenizer = BartTokenizer.from_pretrained(\"facebook/bart-base\")\n",
    "\n",
    "# Example text\n",
    "text = \"The Quick brown fox jumps over the laze dog.\"\n",
    "\n",
    "# Tokenize the text\n",
    "tokenized_input = tokenizer(text, return_tensors=\"pt\")\n",
    "\n",
    "# Print tokenized input\n",
    "print(\"Tokenized input:\", tokenized_input)"
   ]
  },
  {
   "cell_type": "code",
   "execution_count": 31,
   "id": "04609247",
   "metadata": {
    "execution": {
     "iopub.execute_input": "2024-04-25T22:06:02.342085Z",
     "iopub.status.busy": "2024-04-25T22:06:02.341787Z",
     "iopub.status.idle": "2024-04-25T22:06:02.371966Z",
     "shell.execute_reply": "2024-04-25T22:06:02.371092Z"
    },
    "papermill": {
     "duration": 0.054983,
     "end_time": "2024-04-25T22:06:02.374016",
     "exception": false,
     "start_time": "2024-04-25T22:06:02.319033",
     "status": "completed"
    },
    "tags": []
   },
   "outputs": [
    {
     "data": {
      "text/html": [
       "<div>\n",
       "<style scoped>\n",
       "    .dataframe tbody tr th:only-of-type {\n",
       "        vertical-align: middle;\n",
       "    }\n",
       "\n",
       "    .dataframe tbody tr th {\n",
       "        vertical-align: top;\n",
       "    }\n",
       "\n",
       "    .dataframe thead th {\n",
       "        text-align: right;\n",
       "    }\n",
       "</style>\n",
       "<table border=\"1\" class=\"dataframe\">\n",
       "  <thead>\n",
       "    <tr style=\"text-align: right;\">\n",
       "      <th></th>\n",
       "      <th>id</th>\n",
       "      <th>article</th>\n",
       "      <th>highlights</th>\n",
       "      <th>article_word_count</th>\n",
       "      <th>highlights_word_count</th>\n",
       "      <th>article_html_tags</th>\n",
       "      <th>highlights_html_tags</th>\n",
       "    </tr>\n",
       "  </thead>\n",
       "  <tbody>\n",
       "    <tr>\n",
       "      <th>212172</th>\n",
       "      <td>9ebcad42f1764ac4a508e0a2f0f6679fbbd4492d</td>\n",
       "      <td>(CNN) -- A violent crash on a dirt track in Ne...</td>\n",
       "      <td>NEW: NASCAR veteran Jason Leffler had just ret...</td>\n",
       "      <td>540</td>\n",
       "      <td>46</td>\n",
       "      <td>[]</td>\n",
       "      <td>[]</td>\n",
       "    </tr>\n",
       "    <tr>\n",
       "      <th>198300</th>\n",
       "      <td>8cb12d549db8187037038c57f82ff027d5484eab</td>\n",
       "      <td>MEXICO CITY, Mexico (CNN)  -- Eight people wer...</td>\n",
       "      <td>NEW: Death toll rises to eight in two blasts, ...</td>\n",
       "      <td>399</td>\n",
       "      <td>35</td>\n",
       "      <td>[]</td>\n",
       "      <td>[]</td>\n",
       "    </tr>\n",
       "    <tr>\n",
       "      <th>282029</th>\n",
       "      <td>f954b9cb727e14e555ffea8a77b58f5a4fb5ffa0</td>\n",
       "      <td>By . Daily Mail Reporter . PUBLISHED: . 12:46 ...</td>\n",
       "      <td>The jilted former First Lady jetted to the isl...</td>\n",
       "      <td>735</td>\n",
       "      <td>41</td>\n",
       "      <td>[]</td>\n",
       "      <td>[]</td>\n",
       "    </tr>\n",
       "    <tr>\n",
       "      <th>224298</th>\n",
       "      <td>ae6f86df8675b0cee7e3e13886ad554637f835c1</td>\n",
       "      <td>(CNN) -- The mountain gorillas in a national p...</td>\n",
       "      <td>Census of mountain gorillas in DR Congo doing ...</td>\n",
       "      <td>206</td>\n",
       "      <td>38</td>\n",
       "      <td>[]</td>\n",
       "      <td>[]</td>\n",
       "    </tr>\n",
       "    <tr>\n",
       "      <th>207488</th>\n",
       "      <td>98a8eff00e055acd92fccd5e96b4c725acebe8a3</td>\n",
       "      <td>WASHINGTON (CNN)  -- Boys may soon be able to ...</td>\n",
       "      <td>Committee says shots could prevent genital war...</td>\n",
       "      <td>622</td>\n",
       "      <td>46</td>\n",
       "      <td>[]</td>\n",
       "      <td>[]</td>\n",
       "    </tr>\n",
       "    <tr>\n",
       "      <th>...</th>\n",
       "      <td>...</td>\n",
       "      <td>...</td>\n",
       "      <td>...</td>\n",
       "      <td>...</td>\n",
       "      <td>...</td>\n",
       "      <td>...</td>\n",
       "      <td>...</td>\n",
       "    </tr>\n",
       "    <tr>\n",
       "      <th>197539</th>\n",
       "      <td>8bae94a23fc25e37b38cb925b33f3acc804e949c</td>\n",
       "      <td>Meditating can make you warmer, researchers st...</td>\n",
       "      <td>Tibetan nuns increase their body temperatures ...</td>\n",
       "      <td>569</td>\n",
       "      <td>39</td>\n",
       "      <td>[]</td>\n",
       "      <td>[]</td>\n",
       "    </tr>\n",
       "    <tr>\n",
       "      <th>276137</th>\n",
       "      <td>f1c54972119f429c980cbee713b7ff6d4e82b1d1</td>\n",
       "      <td>By . Ap . The first black woman to win an Olym...</td>\n",
       "      <td>Davis won a gold medal in the high jump in the...</td>\n",
       "      <td>604</td>\n",
       "      <td>54</td>\n",
       "      <td>[]</td>\n",
       "      <td>[]</td>\n",
       "    </tr>\n",
       "    <tr>\n",
       "      <th>84011</th>\n",
       "      <td>ee4c77eb0cceef4b423f5fc8c7b032653dd0a77b</td>\n",
       "      <td>Louis van Gaal is expected to be appointed as ...</td>\n",
       "      <td>Van Gaal will want Manchester United move sort...</td>\n",
       "      <td>376</td>\n",
       "      <td>36</td>\n",
       "      <td>[]</td>\n",
       "      <td>[]</td>\n",
       "    </tr>\n",
       "    <tr>\n",
       "      <th>224026</th>\n",
       "      <td>ae18f20b9b61f23fefe1a61346cef2f327e700aa</td>\n",
       "      <td>Three cops who posted a picture of their Portl...</td>\n",
       "      <td>The cops had posted a picture of their Portlan...</td>\n",
       "      <td>679</td>\n",
       "      <td>78</td>\n",
       "      <td>[]</td>\n",
       "      <td>[]</td>\n",
       "    </tr>\n",
       "    <tr>\n",
       "      <th>654</th>\n",
       "      <td>01e6271f6d223360da0da3eb5bd209af759f498a</td>\n",
       "      <td>A mother with seven boys, who was so desperate...</td>\n",
       "      <td>Mother Jodi McMahon now has two daughters, Add...</td>\n",
       "      <td>606</td>\n",
       "      <td>65</td>\n",
       "      <td>[]</td>\n",
       "      <td>[]</td>\n",
       "    </tr>\n",
       "  </tbody>\n",
       "</table>\n",
       "<p>1000 rows × 7 columns</p>\n",
       "</div>"
      ],
      "text/plain": [
       "                                              id  \\\n",
       "212172  9ebcad42f1764ac4a508e0a2f0f6679fbbd4492d   \n",
       "198300  8cb12d549db8187037038c57f82ff027d5484eab   \n",
       "282029  f954b9cb727e14e555ffea8a77b58f5a4fb5ffa0   \n",
       "224298  ae6f86df8675b0cee7e3e13886ad554637f835c1   \n",
       "207488  98a8eff00e055acd92fccd5e96b4c725acebe8a3   \n",
       "...                                          ...   \n",
       "197539  8bae94a23fc25e37b38cb925b33f3acc804e949c   \n",
       "276137  f1c54972119f429c980cbee713b7ff6d4e82b1d1   \n",
       "84011   ee4c77eb0cceef4b423f5fc8c7b032653dd0a77b   \n",
       "224026  ae18f20b9b61f23fefe1a61346cef2f327e700aa   \n",
       "654     01e6271f6d223360da0da3eb5bd209af759f498a   \n",
       "\n",
       "                                                  article  \\\n",
       "212172  (CNN) -- A violent crash on a dirt track in Ne...   \n",
       "198300  MEXICO CITY, Mexico (CNN)  -- Eight people wer...   \n",
       "282029  By . Daily Mail Reporter . PUBLISHED: . 12:46 ...   \n",
       "224298  (CNN) -- The mountain gorillas in a national p...   \n",
       "207488  WASHINGTON (CNN)  -- Boys may soon be able to ...   \n",
       "...                                                   ...   \n",
       "197539  Meditating can make you warmer, researchers st...   \n",
       "276137  By . Ap . The first black woman to win an Olym...   \n",
       "84011   Louis van Gaal is expected to be appointed as ...   \n",
       "224026  Three cops who posted a picture of their Portl...   \n",
       "654     A mother with seven boys, who was so desperate...   \n",
       "\n",
       "                                               highlights  article_word_count  \\\n",
       "212172  NEW: NASCAR veteran Jason Leffler had just ret...                 540   \n",
       "198300  NEW: Death toll rises to eight in two blasts, ...                 399   \n",
       "282029  The jilted former First Lady jetted to the isl...                 735   \n",
       "224298  Census of mountain gorillas in DR Congo doing ...                 206   \n",
       "207488  Committee says shots could prevent genital war...                 622   \n",
       "...                                                   ...                 ...   \n",
       "197539  Tibetan nuns increase their body temperatures ...                 569   \n",
       "276137  Davis won a gold medal in the high jump in the...                 604   \n",
       "84011   Van Gaal will want Manchester United move sort...                 376   \n",
       "224026  The cops had posted a picture of their Portlan...                 679   \n",
       "654     Mother Jodi McMahon now has two daughters, Add...                 606   \n",
       "\n",
       "        highlights_word_count article_html_tags highlights_html_tags  \n",
       "212172                     46                []                   []  \n",
       "198300                     35                []                   []  \n",
       "282029                     41                []                   []  \n",
       "224298                     38                []                   []  \n",
       "207488                     46                []                   []  \n",
       "...                       ...               ...                  ...  \n",
       "197539                     39                []                   []  \n",
       "276137                     54                []                   []  \n",
       "84011                      36                []                   []  \n",
       "224026                     78                []                   []  \n",
       "654                        65                []                   []  \n",
       "\n",
       "[1000 rows x 7 columns]"
      ]
     },
     "execution_count": 31,
     "metadata": {},
     "output_type": "execute_result"
    }
   ],
   "source": [
    "cpy_train_sample = cpy_train.sample(1000).copy()\n",
    "cpy_train_sample"
   ]
  },
  {
   "cell_type": "code",
   "execution_count": 32,
   "id": "b820edb6",
   "metadata": {
    "execution": {
     "iopub.execute_input": "2024-04-25T22:06:02.420880Z",
     "iopub.status.busy": "2024-04-25T22:06:02.420565Z",
     "iopub.status.idle": "2024-04-25T22:06:02.489316Z",
     "shell.execute_reply": "2024-04-25T22:06:02.488287Z"
    },
    "papermill": {
     "duration": 0.095284,
     "end_time": "2024-04-25T22:06:02.491677",
     "exception": false,
     "start_time": "2024-04-25T22:06:02.396393",
     "status": "completed"
    },
    "tags": []
   },
   "outputs": [
    {
     "data": {
      "text/plain": [
       "Dataset({\n",
       "    features: ['article', 'highlights', '__index_level_0__'],\n",
       "    num_rows: 1000\n",
       "})"
      ]
     },
     "execution_count": 32,
     "metadata": {},
     "output_type": "execute_result"
    }
   ],
   "source": [
    "data_sample = Dataset.from_pandas(cpy_train_sample.loc[:, [\"article\", \"highlights\"]])\n",
    "data_sample"
   ]
  },
  {
   "cell_type": "code",
   "execution_count": 33,
   "id": "5074b91f",
   "metadata": {
    "execution": {
     "iopub.execute_input": "2024-04-25T22:06:02.540253Z",
     "iopub.status.busy": "2024-04-25T22:06:02.539863Z",
     "iopub.status.idle": "2024-04-25T22:06:02.551220Z",
     "shell.execute_reply": "2024-04-25T22:06:02.550260Z"
    },
    "papermill": {
     "duration": 0.038086,
     "end_time": "2024-04-25T22:06:02.553328",
     "exception": false,
     "start_time": "2024-04-25T22:06:02.515242",
     "status": "completed"
    },
    "tags": []
   },
   "outputs": [
    {
     "data": {
      "text/plain": [
       "list"
      ]
     },
     "execution_count": 33,
     "metadata": {},
     "output_type": "execute_result"
    }
   ],
   "source": [
    "type(data_sample[\"highlights\"])"
   ]
  },
  {
   "cell_type": "code",
   "execution_count": 34,
   "id": "9ef7456e",
   "metadata": {
    "execution": {
     "iopub.execute_input": "2024-04-25T22:06:02.602454Z",
     "iopub.status.busy": "2024-04-25T22:06:02.601691Z",
     "iopub.status.idle": "2024-04-25T22:06:02.606050Z",
     "shell.execute_reply": "2024-04-25T22:06:02.605076Z"
    },
    "papermill": {
     "duration": 0.031063,
     "end_time": "2024-04-25T22:06:02.608167",
     "exception": false,
     "start_time": "2024-04-25T22:06:02.577104",
     "status": "completed"
    },
    "tags": []
   },
   "outputs": [],
   "source": [
    "# max_length = 1024\n",
    "\n",
    "# tokenized_arts = tokenizer(data_sample[\"article\"], padding=\"longest\", truncation=True,max_length=max_length,return_tensors=\"pt\" )\n",
    "# tokenized_arts"
   ]
  },
  {
   "cell_type": "code",
   "execution_count": 35,
   "id": "814e86a2",
   "metadata": {
    "execution": {
     "iopub.execute_input": "2024-04-25T22:06:02.657130Z",
     "iopub.status.busy": "2024-04-25T22:06:02.656521Z",
     "iopub.status.idle": "2024-04-25T22:06:02.661142Z",
     "shell.execute_reply": "2024-04-25T22:06:02.660155Z"
    },
    "papermill": {
     "duration": 0.031415,
     "end_time": "2024-04-25T22:06:02.663179",
     "exception": false,
     "start_time": "2024-04-25T22:06:02.631764",
     "status": "completed"
    },
    "tags": []
   },
   "outputs": [],
   "source": [
    "# # tokenizer_2 = BartTokenizer.from_pretrained(\"facebook/bart-base\", pad_token_id=-100)\n",
    "# tokenizer_2 = BartTokenizer.from_pretrained(\"facebook/bart-base\")\n",
    "\n",
    "# special_tokens_dict = {'pad_token': '[MO]'}\n",
    "# num_added_toks = tokenizer_2.add_special_tokens(special_tokens_dict)\n",
    "\n",
    "# tokenized_high = tokenizer_2(data_sample[\"highlights\"], padding=\"longest\", truncation=True,max_length=max_length,return_tensors=\"pt\" )\n",
    "# tokenized_high"
   ]
  },
  {
   "cell_type": "code",
   "execution_count": 36,
   "id": "1308eed0",
   "metadata": {
    "execution": {
     "iopub.execute_input": "2024-04-25T22:06:02.710816Z",
     "iopub.status.busy": "2024-04-25T22:06:02.710050Z",
     "iopub.status.idle": "2024-04-25T22:06:02.714109Z",
     "shell.execute_reply": "2024-04-25T22:06:02.713223Z"
    },
    "papermill": {
     "duration": 0.029565,
     "end_time": "2024-04-25T22:06:02.715907",
     "exception": false,
     "start_time": "2024-04-25T22:06:02.686342",
     "status": "completed"
    },
    "tags": []
   },
   "outputs": [],
   "source": [
    "# tokenized_high['input_ids'][0]"
   ]
  },
  {
   "cell_type": "code",
   "execution_count": 37,
   "id": "33291f25",
   "metadata": {
    "execution": {
     "iopub.execute_input": "2024-04-25T22:06:02.763301Z",
     "iopub.status.busy": "2024-04-25T22:06:02.762571Z",
     "iopub.status.idle": "2024-04-25T22:06:02.766800Z",
     "shell.execute_reply": "2024-04-25T22:06:02.765883Z"
    },
    "papermill": {
     "duration": 0.030289,
     "end_time": "2024-04-25T22:06:02.768846",
     "exception": false,
     "start_time": "2024-04-25T22:06:02.738557",
     "status": "completed"
    },
    "tags": []
   },
   "outputs": [],
   "source": [
    "# tokenizer_2.decode(tokenized_high['input_ids'][0])"
   ]
  },
  {
   "cell_type": "code",
   "execution_count": 38,
   "id": "8b398be8",
   "metadata": {
    "execution": {
     "iopub.execute_input": "2024-04-25T22:06:02.817410Z",
     "iopub.status.busy": "2024-04-25T22:06:02.816713Z",
     "iopub.status.idle": "2024-04-25T22:06:02.821150Z",
     "shell.execute_reply": "2024-04-25T22:06:02.820283Z"
    },
    "papermill": {
     "duration": 0.030975,
     "end_time": "2024-04-25T22:06:02.823370",
     "exception": false,
     "start_time": "2024-04-25T22:06:02.792395",
     "status": "completed"
    },
    "tags": []
   },
   "outputs": [],
   "source": [
    "# type(tokenized_high)"
   ]
  },
  {
   "cell_type": "code",
   "execution_count": 39,
   "id": "0d15c762",
   "metadata": {
    "execution": {
     "iopub.execute_input": "2024-04-25T22:06:02.870757Z",
     "iopub.status.busy": "2024-04-25T22:06:02.869901Z",
     "iopub.status.idle": "2024-04-25T22:06:02.874090Z",
     "shell.execute_reply": "2024-04-25T22:06:02.873174Z"
    },
    "papermill": {
     "duration": 0.029301,
     "end_time": "2024-04-25T22:06:02.875970",
     "exception": false,
     "start_time": "2024-04-25T22:06:02.846669",
     "status": "completed"
    },
    "tags": []
   },
   "outputs": [],
   "source": [
    "# type(tokenized_arts)"
   ]
  },
  {
   "cell_type": "code",
   "execution_count": 40,
   "id": "b84f24b7",
   "metadata": {
    "execution": {
     "iopub.execute_input": "2024-04-25T22:06:02.922783Z",
     "iopub.status.busy": "2024-04-25T22:06:02.921905Z",
     "iopub.status.idle": "2024-04-25T22:06:02.926166Z",
     "shell.execute_reply": "2024-04-25T22:06:02.925242Z"
    },
    "papermill": {
     "duration": 0.029673,
     "end_time": "2024-04-25T22:06:02.928242",
     "exception": false,
     "start_time": "2024-04-25T22:06:02.898569",
     "status": "completed"
    },
    "tags": []
   },
   "outputs": [],
   "source": [
    "# tokenized_arts[\"input_ids\"][0]"
   ]
  },
  {
   "cell_type": "code",
   "execution_count": 41,
   "id": "0b47347a",
   "metadata": {
    "execution": {
     "iopub.execute_input": "2024-04-25T22:06:02.974937Z",
     "iopub.status.busy": "2024-04-25T22:06:02.974163Z",
     "iopub.status.idle": "2024-04-25T22:06:02.978194Z",
     "shell.execute_reply": "2024-04-25T22:06:02.977283Z"
    },
    "papermill": {
     "duration": 0.029537,
     "end_time": "2024-04-25T22:06:02.980101",
     "exception": false,
     "start_time": "2024-04-25T22:06:02.950564",
     "status": "completed"
    },
    "tags": []
   },
   "outputs": [],
   "source": [
    "# tokenized_arts[\"attention_mask\"][0]"
   ]
  },
  {
   "cell_type": "code",
   "execution_count": 42,
   "id": "9158fda0",
   "metadata": {
    "execution": {
     "iopub.execute_input": "2024-04-25T22:06:03.025698Z",
     "iopub.status.busy": "2024-04-25T22:06:03.025401Z",
     "iopub.status.idle": "2024-04-25T22:06:03.029184Z",
     "shell.execute_reply": "2024-04-25T22:06:03.028358Z"
    },
    "papermill": {
     "duration": 0.028725,
     "end_time": "2024-04-25T22:06:03.031081",
     "exception": false,
     "start_time": "2024-04-25T22:06:03.002356",
     "status": "completed"
    },
    "tags": []
   },
   "outputs": [],
   "source": [
    "# tokenized_high[\"input_ids\"][0]"
   ]
  },
  {
   "cell_type": "code",
   "execution_count": 43,
   "id": "095d2393",
   "metadata": {
    "execution": {
     "iopub.execute_input": "2024-04-25T22:06:03.076564Z",
     "iopub.status.busy": "2024-04-25T22:06:03.076266Z",
     "iopub.status.idle": "2024-04-25T22:06:03.080302Z",
     "shell.execute_reply": "2024-04-25T22:06:03.079443Z"
    },
    "papermill": {
     "duration": 0.029139,
     "end_time": "2024-04-25T22:06:03.082181",
     "exception": false,
     "start_time": "2024-04-25T22:06:03.053042",
     "status": "completed"
    },
    "tags": []
   },
   "outputs": [],
   "source": [
    "# tokenized_high[\"attention_mask\"][0]"
   ]
  },
  {
   "cell_type": "code",
   "execution_count": 44,
   "id": "8fe81d2e",
   "metadata": {
    "execution": {
     "iopub.execute_input": "2024-04-25T22:06:03.127982Z",
     "iopub.status.busy": "2024-04-25T22:06:03.127648Z",
     "iopub.status.idle": "2024-04-25T22:06:03.131489Z",
     "shell.execute_reply": "2024-04-25T22:06:03.130644Z"
    },
    "papermill": {
     "duration": 0.029019,
     "end_time": "2024-04-25T22:06:03.133477",
     "exception": false,
     "start_time": "2024-04-25T22:06:03.104458",
     "status": "completed"
    },
    "tags": []
   },
   "outputs": [],
   "source": [
    "# tokenizer.get_added_vocab()"
   ]
  },
  {
   "cell_type": "code",
   "execution_count": 45,
   "id": "49df2031",
   "metadata": {
    "execution": {
     "iopub.execute_input": "2024-04-25T22:06:03.179296Z",
     "iopub.status.busy": "2024-04-25T22:06:03.178549Z",
     "iopub.status.idle": "2024-04-25T22:06:03.182470Z",
     "shell.execute_reply": "2024-04-25T22:06:03.181608Z"
    },
    "papermill": {
     "duration": 0.028718,
     "end_time": "2024-04-25T22:06:03.184447",
     "exception": false,
     "start_time": "2024-04-25T22:06:03.155729",
     "status": "completed"
    },
    "tags": []
   },
   "outputs": [],
   "source": [
    "# tokenizer_2.get_added_vocab()"
   ]
  },
  {
   "cell_type": "code",
   "execution_count": 46,
   "id": "ce8fb1a3",
   "metadata": {
    "execution": {
     "iopub.execute_input": "2024-04-25T22:06:03.230051Z",
     "iopub.status.busy": "2024-04-25T22:06:03.229309Z",
     "iopub.status.idle": "2024-04-25T22:06:03.234976Z",
     "shell.execute_reply": "2024-04-25T22:06:03.234087Z"
    },
    "papermill": {
     "duration": 0.030407,
     "end_time": "2024-04-25T22:06:03.236901",
     "exception": false,
     "start_time": "2024-04-25T22:06:03.206494",
     "status": "completed"
    },
    "tags": []
   },
   "outputs": [
    {
     "data": {
      "text/plain": [
       "Dataset({\n",
       "    features: ['article', 'highlights', '__index_level_0__'],\n",
       "    num_rows: 1000\n",
       "})"
      ]
     },
     "execution_count": 46,
     "metadata": {},
     "output_type": "execute_result"
    }
   ],
   "source": [
    "data_sample"
   ]
  },
  {
   "cell_type": "code",
   "execution_count": 47,
   "id": "f8fe7bdf",
   "metadata": {
    "execution": {
     "iopub.execute_input": "2024-04-25T22:06:03.282268Z",
     "iopub.status.busy": "2024-04-25T22:06:03.281960Z",
     "iopub.status.idle": "2024-04-25T22:06:03.286972Z",
     "shell.execute_reply": "2024-04-25T22:06:03.286174Z"
    },
    "papermill": {
     "duration": 0.02986,
     "end_time": "2024-04-25T22:06:03.288885",
     "exception": false,
     "start_time": "2024-04-25T22:06:03.259025",
     "status": "completed"
    },
    "tags": []
   },
   "outputs": [],
   "source": [
    "def tokenizer_it(batch):\n",
    "    encodings = tokenizer(batch[\"article\"],text_target= batch[\"highlights\"], padding=\"longest\", truncation=True,max_length=1024,return_tensors=\"pt\")\n",
    "    return {\n",
    "        'input_ids': encodings[\"input_ids\"],\n",
    "        'attention_mask':encodings[\"attention_mask\"],\n",
    "        'labels': encodings[\"labels\"]\n",
    "    }"
   ]
  },
  {
   "cell_type": "code",
   "execution_count": 48,
   "id": "777fb656",
   "metadata": {
    "execution": {
     "iopub.execute_input": "2024-04-25T22:06:03.334332Z",
     "iopub.status.busy": "2024-04-25T22:06:03.334009Z",
     "iopub.status.idle": "2024-04-25T22:06:17.418812Z",
     "shell.execute_reply": "2024-04-25T22:06:17.417946Z"
    },
    "papermill": {
     "duration": 14.109889,
     "end_time": "2024-04-25T22:06:17.420919",
     "exception": false,
     "start_time": "2024-04-25T22:06:03.311030",
     "status": "completed"
    },
    "tags": []
   },
   "outputs": [
    {
     "data": {
      "application/vnd.jupyter.widget-view+json": {
       "model_id": "f4b765811d5a405f9d01bef2162f076a",
       "version_major": 2,
       "version_minor": 0
      },
      "text/plain": [
       "Map:   0%|          | 0/1000 [00:00<?, ? examples/s]"
      ]
     },
     "metadata": {},
     "output_type": "display_data"
    }
   ],
   "source": [
    "data_tokenized = data_sample.map(tokenizer_it, batched=True)"
   ]
  },
  {
   "cell_type": "code",
   "execution_count": 49,
   "id": "409e8fef",
   "metadata": {
    "execution": {
     "iopub.execute_input": "2024-04-25T22:06:17.469185Z",
     "iopub.status.busy": "2024-04-25T22:06:17.468433Z",
     "iopub.status.idle": "2024-04-25T22:06:17.474126Z",
     "shell.execute_reply": "2024-04-25T22:06:17.473279Z"
    },
    "papermill": {
     "duration": 0.031561,
     "end_time": "2024-04-25T22:06:17.476228",
     "exception": false,
     "start_time": "2024-04-25T22:06:17.444667",
     "status": "completed"
    },
    "tags": []
   },
   "outputs": [
    {
     "data": {
      "text/plain": [
       "Dataset({\n",
       "    features: ['article', 'highlights', '__index_level_0__', 'input_ids', 'attention_mask', 'labels'],\n",
       "    num_rows: 1000\n",
       "})"
      ]
     },
     "execution_count": 49,
     "metadata": {},
     "output_type": "execute_result"
    }
   ],
   "source": [
    "data_tokenized"
   ]
  },
  {
   "cell_type": "code",
   "execution_count": 50,
   "id": "6c250806",
   "metadata": {
    "execution": {
     "iopub.execute_input": "2024-04-25T22:06:17.523848Z",
     "iopub.status.busy": "2024-04-25T22:06:17.523060Z",
     "iopub.status.idle": "2024-04-25T22:06:18.177053Z",
     "shell.execute_reply": "2024-04-25T22:06:18.176126Z"
    },
    "papermill": {
     "duration": 0.680201,
     "end_time": "2024-04-25T22:06:18.179354",
     "exception": false,
     "start_time": "2024-04-25T22:06:17.499153",
     "status": "completed"
    },
    "tags": []
   },
   "outputs": [
    {
     "name": "stdout",
     "output_type": "stream",
     "text": [
      "[0, 1640, 16256, 43, 480, 83, 4153, 2058, 15, 10, 10667, 1349, 11, 188, 3123, 34, 1695, 5, 301, 9, 1015, 512, 1393, 3262, 1063, 3145, 1371, 6, 10, 10591, 3142, 18858, 30, 2598, 13816, 268, 25, 10, 11039, 8, 16106, 11439, 4, 1063, 3145, 1371, 6, 2908, 6, 962, 307, 6, 10, 410, 55, 87, 130, 377, 71, 3357, 7, 5, 232, 9, 765, 12, 16026, 490, 12, 13630, 4930, 71, 5650, 15, 10591, 28993, 13, 55, 87, 10, 2202, 6, 309, 7, 39, 998, 4, 22, 104, 9451, 259, 11, 26440, 4, 1666, 404, 38, 64, 206, 59, 16, 6127, 60, 10591, 28782, 7624, 10738, 1371, 26, 6, 5056, 7, 1063, 3145, 1371, 18, 195, 12, 180, 12, 279, 979, 4, 1063, 3145, 1371, 18, 744, 23, 4679, 3427, 13243, 11, 25517, 293, 9195, 6, 188, 3123, 6, 376, 148, 10, 7310, 1015, 148, 5, 4172, 9, 13770, 515, 6, 10, 564, 12, 22489, 1015, 13, 12631, 1677, 8895, 19, 12964, 2787, 11954, 4, 13780, 1677, 32, 239, 12, 10711, 1677, 14, 2333, 422, 15, 10667, 50, 21100, 31638, 5297, 4, 1063, 3145, 1371, 21, 15, 5, 887, 1004, 9, 5, 6104, 2859, 77, 39, 512, 314, 5, 827, 196, 10667, 1349, 8, 18626, 484, 498, 159, 5, 760, 1359, 4384, 6, 5, 391, 3123, 1513, 2924, 431, 6, 4319, 6057, 4, 91, 56, 7, 28, 2468, 31, 5, 1155, 6, 5, 2924, 26, 4, 22, 3399, 22965, 14269, 63, 4312, 6, 8786, 8, 19762, 19023, 918, 7, 5, 284, 9, 3262, 1063, 3145, 1371, 54, 1595, 409, 656, 42, 1559, 60, 10591, 26, 307, 11, 10, 445, 4, 22, 2709, 55, 87, 10, 2202, 6, 3262, 21, 10, 11039, 11439, 11, 84, 2414, 8, 37, 40, 28, 2039, 72, 12108, 1168, 8457, 13414, 11, 31, 2598, 2377, 4, 22, 40265, 10, 205, 2173, 3422, 11, 3262, 1063, 3145, 1371, 4, 2869, 24950, 19, 110, 284, 2901, 28782, 9014, 8250, 13757, 26, 11, 10, 599, 618, 4, 22, 2387, 4312, 8, 8786, 32, 19, 3262, 18, 284, 8, 964, 60, 1393, 2321, 14042, 1278, 4, 22, 31607, 6629, 127, 1144, 2053, 9, 39, 410, 2143, 72, 1063, 3145, 1371, 880, 4930, 77, 21, 316, 107, 793, 6, 309, 7, 39, 998, 6, 8, 439, 15, 7, 339, 237, 121, 4, 104, 4, 8229, 2009, 4930, 8226, 480, 217, 130, 124, 12, 560, 12, 1644, 8226, 31, 7528, 7, 6193, 480, 8, 10, 317, 11, 5, 496, 4079, 6460, 8229, 8441, 1631, 9, 7392, 4, 96, 3788, 6, 37, 1550, 601, 212, 11, 5, 7902, 1764, 4, 91, 12012, 39, 4930, 1056, 14, 276, 76, 7, 10591, 18, 27812, 3265, 8, 423, 7, 5, 4746, 154, 623, 17162, 3265, 11, 5241, 6, 309, 7, 39, 998, 4, 20, 2597, 2467, 6, 886, 6, 3763, 351, 80, 27812, 3265, 4694, 8, 1550, 11, 5, 299, 158, 11, 332, 13, 411, 3396, 107, 6, 309, 7, 39, 998, 4, 91, 1276, 7, 671, 7, 10667, 4930, 13, 1014, 6, 1884, 7, 3511, 11, 62, 7, 3620, 12631, 512, 4694, 4, 22, 100, 348, 300, 10, 319, 9, 2239, 7, 109, 60, 37, 21, 5304, 25, 584, 15, 39, 998, 11, 494, 4, 22, 243, 18, 3035, 7, 28, 441, 7, 1015, 155, 498, 10, 186, 8, 1955, 383, 66, 72, 13780, 512, 4930, 64, 28, 10, 2702, 2414, 6, 8, 9960, 32, 45, 4047, 40985, 4, 83, 820, 12, 180, 12, 279, 1393, 962, 130, 688, 536, 11, 10, 2058, 23, 27255, 1054, 13243, 11, 12885, 413, 6, 4552, 6, 3480, 10515, 305, 3732, 500, 431, 4, 96, 494, 6, 80, 17596, 962, 77, 10, 512, 5030, 3215, 160, 12, 16026, 23, 2708, 29, 1352, 14822, 10564, 861, 6, 751, 7759, 6, 886, 4, 96, 14, 1160, 6, 10, 512, 478, 80, 17007, 12310, 6, 3981, 24, 28935, 8, 5690, 80, 17596, 6, 10, 5595, 12, 180, 12, 279, 313, 8, 10, 501, 12, 180, 12, 279, 2143, 4, 20, 1393, 21, 21969, 24518, 4, 96, 1125, 6, 10, 291, 12, 180, 12, 279, 1393, 962, 77, 39, 12631, 512, 478, 5, 2204, 23, 2912, 661, 10447, 13243, 11, 7645, 102, 413, 6, 886, 6, 309, 7, 5, 7645, 102, 1739, 10315, 4, 3480, 18, 988, 16116, 3162, 7, 42, 266, 4, 2, 1, 1, 1, 1, 1, 1, 1, 1, 1, 1, 1, 1, 1, 1, 1, 1, 1, 1, 1, 1, 1, 1, 1, 1, 1, 1, 1, 1, 1, 1, 1, 1, 1, 1, 1, 1, 1, 1, 1, 1, 1, 1, 1, 1, 1, 1, 1, 1, 1, 1, 1, 1, 1, 1, 1, 1, 1, 1, 1, 1, 1, 1, 1, 1, 1, 1, 1, 1, 1, 1, 1, 1, 1, 1, 1, 1, 1, 1, 1, 1, 1, 1, 1, 1, 1, 1, 1, 1, 1, 1, 1, 1, 1, 1, 1, 1, 1, 1, 1, 1, 1, 1, 1, 1, 1, 1, 1, 1, 1, 1, 1, 1, 1, 1, 1, 1, 1, 1, 1, 1, 1, 1, 1, 1, 1, 1, 1, 1, 1, 1, 1, 1, 1, 1, 1, 1, 1, 1, 1, 1, 1, 1, 1, 1, 1, 1, 1, 1, 1, 1, 1, 1, 1, 1, 1, 1, 1, 1, 1, 1, 1, 1, 1, 1, 1, 1, 1, 1, 1, 1, 1, 1, 1, 1, 1, 1, 1, 1, 1, 1, 1, 1, 1, 1, 1, 1, 1, 1, 1, 1, 1, 1, 1, 1, 1, 1, 1, 1, 1, 1, 1, 1, 1, 1, 1, 1, 1, 1, 1, 1, 1, 1, 1, 1, 1, 1, 1, 1, 1, 1, 1, 1, 1, 1, 1, 1, 1, 1, 1, 1, 1, 1, 1, 1, 1, 1, 1, 1, 1, 1, 1, 1, 1, 1, 1, 1, 1, 1, 1, 1, 1, 1, 1, 1, 1, 1, 1, 1, 1, 1, 1, 1, 1, 1, 1, 1, 1, 1, 1, 1, 1, 1, 1, 1, 1, 1, 1, 1, 1, 1, 1, 1, 1, 1, 1, 1, 1, 1, 1, 1, 1, 1, 1, 1, 1, 1, 1, 1, 1, 1, 1, 1, 1, 1, 1, 1, 1, 1, 1, 1, 1, 1]\n"
     ]
    }
   ],
   "source": [
    "print(data_tokenized[\"input_ids\"][0])"
   ]
  },
  {
   "cell_type": "code",
   "execution_count": 51,
   "id": "68767871",
   "metadata": {
    "execution": {
     "iopub.execute_input": "2024-04-25T22:06:18.229620Z",
     "iopub.status.busy": "2024-04-25T22:06:18.228871Z",
     "iopub.status.idle": "2024-04-25T22:06:18.909463Z",
     "shell.execute_reply": "2024-04-25T22:06:18.907969Z"
    },
    "papermill": {
     "duration": 0.708312,
     "end_time": "2024-04-25T22:06:18.911488",
     "exception": false,
     "start_time": "2024-04-25T22:06:18.203176",
     "status": "completed"
    },
    "tags": []
   },
   "outputs": [
    {
     "name": "stdout",
     "output_type": "stream",
     "text": [
      "<s>(CNN) -- A violent crash on a dirt track in New Jersey has claimed the life of race car driver Jason Leffler, a NASCAR veteran lauded by fellow racers as a fierce and versatile competitor. Leffler, 37, died Wednesday, a little more than three months after returning to the world of short-track open-wheel racing after focusing on NASCAR circuits for more than a decade, according to his website. \"Sitting here in disbelief.... All I can think about is Charlie,\" NASCAR racer Elliott Sadler said, referring to Leffler's 5-year-old son. Leffler's death at Bridgeport Speedway in Swedesboro, New Jersey, came during a qualifying race during the Night of Wings event, a 25-lap race for sprint cars equipped with stabilizing wings. Sprint cars are high-powered cars that usually run on dirt or paved oval tracks. Leffler was on the fourth turn of the preliminary heat when his car left the banked dirt track and flipped several times down the front straightaway, the South Jersey Times newspaper reported, citing witnesses. He had to be pulled from the vehicle, the newspaper said. \"NASCAR extends its thoughts, prayers and deepest sympathies to the family of Jason Leffler who passed away earlier this evening,\" NASCAR said Wednesday in a statement. \"For more than a decade, Jason was a fierce competitor in our sport and he will be missed.\" Condolences poured in from fellow drivers. \"Lost a good guy tonight in Jason Leffler. Prayers with your family!\" racer Bobby Labonte said in a Twitter post. \"My thoughts and prayers are with Jason's family and friends,\" driver Jeff Burton posted. \"Breaks my heart thinking of his little boy.\" Leffler began racing when was 12 years old, according to his website, and went on to win four U.S. Auto Club racing championships -- including three back-to-back championships from 1997 to 1999 -- and a place in the National Midget Auto Racing Hall of Fame. In 2000, he finished 17th in the Indianapolis 500. He switched his racing focus that same year to NASCAR's Nationwide Series and later to the Camping World Truck Series in 2002, according to his website. The Long Beach, California, native won two Nationwide Series races and finished in the top 10 in points for six consecutive years, according to his website. He decided to return to dirt racing for 2013, planning to compete in up to 65 sprint car races. \"I've got a lot of learning to do,\" he was quoted as saying on his website in March. \"It's cool to be able to race 3 times a week and figure things out.\" Sprint car racing can be a dangerous sport, and accidents are not infrequent. A 22-year-old driver died three weeks ago in a crash at Bloomington Speedway in Monroe County, Indiana, CNN affiliate WTHR reported. In March, two spectators died when a car veered off-track at Marysville Raceway Park, outside Sacramento, California. In that incident, a car hit two tractor tires, sending it airborne and striking two spectators, a 68-year-old man and a 14-year-old boy. The driver was uninjured. In 2012, a 20-year-old driver died when his sprint car hit the wall at Calistoga Speedway in Napa County, California, according to the Napa Valley Register. CNN's Michael Pearson contributed to this report.</s><pad><pad><pad><pad><pad><pad><pad><pad><pad><pad><pad><pad><pad><pad><pad><pad><pad><pad><pad><pad><pad><pad><pad><pad><pad><pad><pad><pad><pad><pad><pad><pad><pad><pad><pad><pad><pad><pad><pad><pad><pad><pad><pad><pad><pad><pad><pad><pad><pad><pad><pad><pad><pad><pad><pad><pad><pad><pad><pad><pad><pad><pad><pad><pad><pad><pad><pad><pad><pad><pad><pad><pad><pad><pad><pad><pad><pad><pad><pad><pad><pad><pad><pad><pad><pad><pad><pad><pad><pad><pad><pad><pad><pad><pad><pad><pad><pad><pad><pad><pad><pad><pad><pad><pad><pad><pad><pad><pad><pad><pad><pad><pad><pad><pad><pad><pad><pad><pad><pad><pad><pad><pad><pad><pad><pad><pad><pad><pad><pad><pad><pad><pad><pad><pad><pad><pad><pad><pad><pad><pad><pad><pad><pad><pad><pad><pad><pad><pad><pad><pad><pad><pad><pad><pad><pad><pad><pad><pad><pad><pad><pad><pad><pad><pad><pad><pad><pad><pad><pad><pad><pad><pad><pad><pad><pad><pad><pad><pad><pad><pad><pad><pad><pad><pad><pad><pad><pad><pad><pad><pad><pad><pad><pad><pad><pad><pad><pad><pad><pad><pad><pad><pad><pad><pad><pad><pad><pad><pad><pad><pad><pad><pad><pad><pad><pad><pad><pad><pad><pad><pad><pad><pad><pad><pad><pad><pad><pad><pad><pad><pad><pad><pad><pad><pad><pad><pad><pad><pad><pad><pad><pad><pad><pad><pad><pad><pad><pad><pad><pad><pad><pad><pad><pad><pad><pad><pad><pad><pad><pad><pad><pad><pad><pad><pad><pad><pad><pad><pad><pad><pad><pad><pad><pad><pad><pad><pad><pad><pad><pad><pad><pad><pad><pad><pad><pad><pad><pad><pad><pad><pad><pad><pad><pad><pad><pad><pad><pad><pad><pad><pad><pad><pad><pad><pad><pad><pad><pad><pad><pad><pad><pad><pad>\n"
     ]
    }
   ],
   "source": [
    "print(tokenizer.decode(data_tokenized[\"input_ids\"][0]))"
   ]
  },
  {
   "cell_type": "code",
   "execution_count": 52,
   "id": "479cd8e8",
   "metadata": {
    "execution": {
     "iopub.execute_input": "2024-04-25T22:06:18.960198Z",
     "iopub.status.busy": "2024-04-25T22:06:18.959830Z",
     "iopub.status.idle": "2024-04-25T22:06:19.589607Z",
     "shell.execute_reply": "2024-04-25T22:06:19.588366Z"
    },
    "papermill": {
     "duration": 0.656221,
     "end_time": "2024-04-25T22:06:19.591684",
     "exception": false,
     "start_time": "2024-04-25T22:06:18.935463",
     "status": "completed"
    },
    "tags": []
   },
   "outputs": [
    {
     "name": "stdout",
     "output_type": "stream",
     "text": [
      "[1, 1, 1, 1, 1, 1, 1, 1, 1, 1, 1, 1, 1, 1, 1, 1, 1, 1, 1, 1, 1, 1, 1, 1, 1, 1, 1, 1, 1, 1, 1, 1, 1, 1, 1, 1, 1, 1, 1, 1, 1, 1, 1, 1, 1, 1, 1, 1, 1, 1, 1, 1, 1, 1, 1, 1, 1, 1, 1, 1, 1, 1, 1, 1, 1, 1, 1, 1, 1, 1, 1, 1, 1, 1, 1, 1, 1, 1, 1, 1, 1, 1, 1, 1, 1, 1, 1, 1, 1, 1, 1, 1, 1, 1, 1, 1, 1, 1, 1, 1, 1, 1, 1, 1, 1, 1, 1, 1, 1, 1, 1, 1, 1, 1, 1, 1, 1, 1, 1, 1, 1, 1, 1, 1, 1, 1, 1, 1, 1, 1, 1, 1, 1, 1, 1, 1, 1, 1, 1, 1, 1, 1, 1, 1, 1, 1, 1, 1, 1, 1, 1, 1, 1, 1, 1, 1, 1, 1, 1, 1, 1, 1, 1, 1, 1, 1, 1, 1, 1, 1, 1, 1, 1, 1, 1, 1, 1, 1, 1, 1, 1, 1, 1, 1, 1, 1, 1, 1, 1, 1, 1, 1, 1, 1, 1, 1, 1, 1, 1, 1, 1, 1, 1, 1, 1, 1, 1, 1, 1, 1, 1, 1, 1, 1, 1, 1, 1, 1, 1, 1, 1, 1, 1, 1, 1, 1, 1, 1, 1, 1, 1, 1, 1, 1, 1, 1, 1, 1, 1, 1, 1, 1, 1, 1, 1, 1, 1, 1, 1, 1, 1, 1, 1, 1, 1, 1, 1, 1, 1, 1, 1, 1, 1, 1, 1, 1, 1, 1, 1, 1, 1, 1, 1, 1, 1, 1, 1, 1, 1, 1, 1, 1, 1, 1, 1, 1, 1, 1, 1, 1, 1, 1, 1, 1, 1, 1, 1, 1, 1, 1, 1, 1, 1, 1, 1, 1, 1, 1, 1, 1, 1, 1, 1, 1, 1, 1, 1, 1, 1, 1, 1, 1, 1, 1, 1, 1, 1, 1, 1, 1, 1, 1, 1, 1, 1, 1, 1, 1, 1, 1, 1, 1, 1, 1, 1, 1, 1, 1, 1, 1, 1, 1, 1, 1, 1, 1, 1, 1, 1, 1, 1, 1, 1, 1, 1, 1, 1, 1, 1, 1, 1, 1, 1, 1, 1, 1, 1, 1, 1, 1, 1, 1, 1, 1, 1, 1, 1, 1, 1, 1, 1, 1, 1, 1, 1, 1, 1, 1, 1, 1, 1, 1, 1, 1, 1, 1, 1, 1, 1, 1, 1, 1, 1, 1, 1, 1, 1, 1, 1, 1, 1, 1, 1, 1, 1, 1, 1, 1, 1, 1, 1, 1, 1, 1, 1, 1, 1, 1, 1, 1, 1, 1, 1, 1, 1, 1, 1, 1, 1, 1, 1, 1, 1, 1, 1, 1, 1, 1, 1, 1, 1, 1, 1, 1, 1, 1, 1, 1, 1, 1, 1, 1, 1, 1, 1, 1, 1, 1, 1, 1, 1, 1, 1, 1, 1, 1, 1, 1, 1, 1, 1, 1, 1, 1, 1, 1, 1, 1, 1, 1, 1, 1, 1, 1, 1, 1, 1, 1, 1, 1, 1, 1, 1, 1, 1, 1, 1, 1, 1, 1, 1, 1, 1, 1, 1, 1, 1, 1, 1, 1, 1, 1, 1, 1, 1, 1, 1, 1, 1, 1, 1, 1, 1, 1, 1, 1, 1, 1, 1, 1, 1, 1, 1, 1, 1, 1, 1, 1, 1, 1, 1, 1, 1, 1, 1, 1, 1, 1, 1, 1, 1, 1, 1, 1, 1, 1, 1, 1, 1, 1, 1, 1, 1, 1, 1, 1, 1, 1, 1, 1, 1, 1, 1, 1, 1, 1, 1, 1, 1, 1, 1, 1, 1, 1, 1, 1, 1, 1, 1, 1, 1, 1, 1, 1, 1, 1, 1, 1, 1, 1, 1, 1, 1, 1, 1, 1, 1, 1, 1, 1, 1, 1, 1, 1, 1, 1, 1, 1, 1, 1, 1, 1, 1, 1, 1, 1, 1, 1, 1, 1, 1, 1, 1, 1, 1, 1, 1, 1, 1, 1, 1, 1, 1, 1, 1, 1, 1, 1, 1, 1, 1, 1, 1, 1, 1, 1, 1, 1, 1, 1, 1, 1, 1, 1, 1, 1, 1, 1, 1, 1, 1, 1, 1, 1, 1, 1, 1, 1, 1, 1, 1, 1, 1, 1, 1, 1, 1, 1, 1, 1, 1, 1, 0, 0, 0, 0, 0, 0, 0, 0, 0, 0, 0, 0, 0, 0, 0, 0, 0, 0, 0, 0, 0, 0, 0, 0, 0, 0, 0, 0, 0, 0, 0, 0, 0, 0, 0, 0, 0, 0, 0, 0, 0, 0, 0, 0, 0, 0, 0, 0, 0, 0, 0, 0, 0, 0, 0, 0, 0, 0, 0, 0, 0, 0, 0, 0, 0, 0, 0, 0, 0, 0, 0, 0, 0, 0, 0, 0, 0, 0, 0, 0, 0, 0, 0, 0, 0, 0, 0, 0, 0, 0, 0, 0, 0, 0, 0, 0, 0, 0, 0, 0, 0, 0, 0, 0, 0, 0, 0, 0, 0, 0, 0, 0, 0, 0, 0, 0, 0, 0, 0, 0, 0, 0, 0, 0, 0, 0, 0, 0, 0, 0, 0, 0, 0, 0, 0, 0, 0, 0, 0, 0, 0, 0, 0, 0, 0, 0, 0, 0, 0, 0, 0, 0, 0, 0, 0, 0, 0, 0, 0, 0, 0, 0, 0, 0, 0, 0, 0, 0, 0, 0, 0, 0, 0, 0, 0, 0, 0, 0, 0, 0, 0, 0, 0, 0, 0, 0, 0, 0, 0, 0, 0, 0, 0, 0, 0, 0, 0, 0, 0, 0, 0, 0, 0, 0, 0, 0, 0, 0, 0, 0, 0, 0, 0, 0, 0, 0, 0, 0, 0, 0, 0, 0, 0, 0, 0, 0, 0, 0, 0, 0, 0, 0, 0, 0, 0, 0, 0, 0, 0, 0, 0, 0, 0, 0, 0, 0, 0, 0, 0, 0, 0, 0, 0, 0, 0, 0, 0, 0, 0, 0, 0, 0, 0, 0, 0, 0, 0, 0, 0, 0, 0, 0, 0, 0, 0, 0, 0, 0, 0, 0, 0, 0, 0, 0, 0, 0, 0, 0, 0, 0, 0, 0, 0, 0, 0, 0, 0, 0, 0, 0, 0, 0, 0, 0, 0, 0, 0, 0, 0, 0, 0, 0]\n"
     ]
    }
   ],
   "source": [
    "print(data_tokenized[\"attention_mask\"][0])"
   ]
  },
  {
   "cell_type": "code",
   "execution_count": 53,
   "id": "9439ef59",
   "metadata": {
    "execution": {
     "iopub.execute_input": "2024-04-25T22:06:19.639882Z",
     "iopub.status.busy": "2024-04-25T22:06:19.639506Z",
     "iopub.status.idle": "2024-04-25T22:06:20.256666Z",
     "shell.execute_reply": "2024-04-25T22:06:20.255510Z"
    },
    "papermill": {
     "duration": 0.643598,
     "end_time": "2024-04-25T22:06:20.258781",
     "exception": false,
     "start_time": "2024-04-25T22:06:19.615183",
     "status": "completed"
    },
    "tags": []
   },
   "outputs": [
    {
     "name": "stdout",
     "output_type": "stream",
     "text": [
      "<s>NEW: NASCAR veteran Jason Leffler had just returned to dirt-track racing.\n",
      "He died Wednesday in a crash at a New Jersey dirt track.\n",
      "NASCAR calls Leffler a \"fierce competitor\" who will be missed.\n",
      "\"Lost a good guy tonight,\" racer Bobby Labonte tweets.</s><pad><pad><pad><pad><pad><pad><pad><pad><pad><pad><pad><pad><pad><pad><pad><pad><pad><pad><pad><pad><pad><pad><pad><pad><pad><pad><pad><pad><pad><pad><pad><pad><pad><pad><pad><pad><pad><pad><pad><pad><pad><pad><pad><pad><pad><pad><pad><pad><pad><pad><pad><pad><pad><pad><pad><pad><pad><pad><pad><pad><pad><pad><pad><pad><pad><pad><pad><pad><pad><pad><pad><pad><pad><pad><pad><pad><pad><pad><pad><pad><pad><pad><pad><pad><pad><pad><pad><pad><pad><pad><pad><pad><pad><pad><pad><pad><pad><pad><pad><pad><pad><pad><pad><pad><pad><pad><pad><pad><pad><pad><pad><pad><pad><pad><pad><pad><pad><pad><pad><pad><pad><pad><pad><pad><pad><pad><pad><pad><pad><pad><pad><pad><pad><pad><pad><pad><pad><pad><pad><pad><pad><pad><pad><pad><pad><pad><pad><pad><pad><pad><pad><pad><pad><pad><pad><pad><pad><pad><pad><pad><pad><pad><pad><pad><pad><pad><pad><pad><pad><pad><pad><pad><pad><pad><pad><pad><pad><pad><pad><pad><pad><pad><pad><pad><pad><pad><pad><pad><pad><pad><pad><pad><pad><pad><pad><pad><pad><pad><pad><pad><pad><pad><pad><pad><pad><pad><pad><pad><pad><pad><pad><pad><pad><pad><pad><pad><pad><pad><pad><pad><pad><pad><pad><pad><pad><pad><pad><pad><pad><pad><pad><pad><pad><pad><pad><pad><pad><pad><pad><pad><pad><pad><pad><pad><pad><pad><pad><pad><pad><pad><pad><pad><pad><pad><pad><pad><pad><pad><pad><pad><pad><pad><pad><pad><pad><pad><pad><pad><pad><pad><pad><pad><pad><pad><pad><pad><pad><pad><pad><pad><pad><pad><pad><pad><pad><pad><pad><pad><pad><pad><pad><pad><pad><pad><pad><pad><pad><pad><pad><pad><pad><pad><pad><pad><pad><pad><pad><pad><pad><pad><pad><pad><pad><pad><pad><pad><pad><pad><pad><pad><pad><pad><pad><pad><pad><pad><pad><pad><pad><pad><pad><pad><pad><pad><pad><pad><pad><pad><pad><pad><pad><pad><pad><pad><pad><pad><pad><pad><pad><pad><pad><pad><pad><pad><pad><pad><pad><pad><pad><pad><pad><pad><pad><pad><pad><pad><pad><pad><pad><pad><pad><pad><pad><pad><pad><pad><pad><pad><pad><pad><pad><pad><pad><pad><pad><pad><pad><pad><pad><pad><pad><pad><pad><pad><pad><pad><pad><pad><pad><pad><pad><pad><pad><pad><pad><pad><pad><pad><pad><pad><pad><pad><pad><pad><pad><pad><pad><pad><pad><pad><pad><pad><pad><pad><pad><pad><pad><pad><pad><pad><pad><pad><pad><pad><pad><pad><pad><pad><pad><pad><pad><pad><pad><pad><pad><pad><pad><pad><pad><pad><pad><pad><pad><pad><pad><pad><pad><pad><pad><pad><pad><pad><pad><pad><pad><pad><pad><pad><pad><pad><pad><pad><pad><pad><pad><pad><pad><pad><pad><pad><pad><pad><pad><pad><pad><pad><pad><pad><pad><pad><pad><pad><pad><pad><pad><pad><pad><pad><pad><pad><pad><pad><pad><pad><pad><pad><pad><pad><pad><pad><pad><pad><pad><pad><pad><pad><pad><pad><pad><pad><pad><pad><pad><pad><pad><pad><pad><pad><pad><pad><pad><pad><pad><pad><pad><pad><pad><pad><pad><pad><pad><pad><pad><pad><pad><pad><pad><pad><pad><pad><pad><pad><pad><pad><pad><pad><pad><pad><pad><pad><pad><pad><pad><pad><pad><pad><pad><pad><pad><pad><pad><pad><pad><pad><pad><pad><pad><pad><pad><pad><pad><pad><pad><pad><pad><pad><pad><pad><pad><pad><pad><pad><pad><pad><pad><pad><pad><pad><pad><pad><pad><pad><pad><pad><pad><pad><pad><pad><pad><pad><pad><pad><pad><pad><pad><pad><pad><pad><pad><pad><pad><pad><pad><pad><pad><pad><pad><pad><pad><pad><pad><pad><pad><pad><pad><pad><pad><pad><pad><pad><pad><pad><pad><pad><pad><pad><pad><pad><pad><pad><pad><pad><pad><pad><pad><pad><pad><pad><pad><pad><pad><pad><pad><pad><pad><pad><pad><pad><pad><pad><pad><pad><pad><pad><pad><pad><pad><pad><pad><pad><pad><pad><pad><pad><pad><pad><pad><pad><pad><pad><pad><pad><pad><pad><pad><pad><pad><pad><pad><pad><pad><pad><pad><pad><pad><pad><pad><pad><pad><pad><pad><pad><pad><pad><pad><pad><pad><pad><pad><pad><pad><pad><pad><pad><pad><pad><pad><pad><pad><pad><pad><pad><pad><pad><pad><pad><pad><pad><pad><pad><pad><pad><pad><pad><pad><pad><pad><pad><pad><pad><pad><pad><pad><pad><pad><pad><pad><pad><pad><pad><pad><pad><pad><pad><pad><pad><pad><pad><pad><pad><pad><pad><pad><pad><pad><pad><pad><pad><pad><pad><pad><pad><pad><pad><pad><pad><pad><pad><pad><pad><pad><pad><pad><pad><pad><pad><pad><pad><pad><pad><pad><pad><pad><pad><pad><pad><pad><pad><pad><pad><pad><pad><pad><pad><pad><pad><pad><pad><pad><pad><pad><pad><pad><pad><pad><pad><pad><pad><pad><pad><pad><pad><pad><pad><pad><pad><pad><pad><pad><pad><pad><pad><pad><pad><pad><pad><pad><pad><pad><pad><pad><pad><pad><pad><pad><pad><pad><pad><pad><pad><pad><pad><pad><pad><pad><pad><pad><pad><pad><pad><pad><pad><pad><pad><pad><pad><pad><pad><pad><pad><pad><pad><pad><pad><pad><pad><pad><pad><pad><pad><pad><pad><pad><pad><pad><pad><pad><pad><pad><pad><pad><pad><pad><pad><pad><pad><pad><pad><pad><pad><pad><pad><pad><pad><pad><pad><pad><pad><pad><pad><pad><pad><pad><pad><pad><pad><pad><pad><pad><pad><pad><pad><pad><pad><pad><pad><pad><pad><pad><pad><pad><pad><pad><pad><pad><pad><pad><pad><pad><pad><pad><pad><pad><pad><pad><pad><pad><pad><pad>\n"
     ]
    }
   ],
   "source": [
    "print(tokenizer.decode(data_tokenized[\"labels\"][0]))"
   ]
  },
  {
   "cell_type": "code",
   "execution_count": 54,
   "id": "cc4036b2",
   "metadata": {
    "execution": {
     "iopub.execute_input": "2024-04-25T22:06:20.306746Z",
     "iopub.status.busy": "2024-04-25T22:06:20.306085Z",
     "iopub.status.idle": "2024-04-25T22:06:20.312125Z",
     "shell.execute_reply": "2024-04-25T22:06:20.311261Z"
    },
    "papermill": {
     "duration": 0.031559,
     "end_time": "2024-04-25T22:06:20.313989",
     "exception": false,
     "start_time": "2024-04-25T22:06:20.282430",
     "status": "completed"
    },
    "tags": []
   },
   "outputs": [
    {
     "data": {
      "text/plain": [
       "{'type': None,\n",
       " 'format_kwargs': {},\n",
       " 'columns': ['article',\n",
       "  'highlights',\n",
       "  '__index_level_0__',\n",
       "  'input_ids',\n",
       "  'attention_mask',\n",
       "  'labels'],\n",
       " 'output_all_columns': False}"
      ]
     },
     "execution_count": 54,
     "metadata": {},
     "output_type": "execute_result"
    }
   ],
   "source": [
    "data_tokenized.format"
   ]
  },
  {
   "cell_type": "code",
   "execution_count": 55,
   "id": "69b4d6f6",
   "metadata": {
    "execution": {
     "iopub.execute_input": "2024-04-25T22:06:20.363375Z",
     "iopub.status.busy": "2024-04-25T22:06:20.362549Z",
     "iopub.status.idle": "2024-04-25T22:06:20.367661Z",
     "shell.execute_reply": "2024-04-25T22:06:20.366818Z"
    },
    "papermill": {
     "duration": 0.031833,
     "end_time": "2024-04-25T22:06:20.369542",
     "exception": false,
     "start_time": "2024-04-25T22:06:20.337709",
     "status": "completed"
    },
    "tags": []
   },
   "outputs": [],
   "source": [
    "cols = [\"input_ids\", \"labels\", \"attention_mask\"]\n",
    "data_tokenized.set_format(type=\"torch\", columns=cols)"
   ]
  },
  {
   "cell_type": "code",
   "execution_count": 56,
   "id": "ded9a3c7",
   "metadata": {
    "execution": {
     "iopub.execute_input": "2024-04-25T22:06:20.418137Z",
     "iopub.status.busy": "2024-04-25T22:06:20.417408Z",
     "iopub.status.idle": "2024-04-25T22:06:20.423564Z",
     "shell.execute_reply": "2024-04-25T22:06:20.422691Z"
    },
    "papermill": {
     "duration": 0.032804,
     "end_time": "2024-04-25T22:06:20.425603",
     "exception": false,
     "start_time": "2024-04-25T22:06:20.392799",
     "status": "completed"
    },
    "tags": []
   },
   "outputs": [
    {
     "data": {
      "text/plain": [
       "{'type': 'torch',\n",
       " 'format_kwargs': {},\n",
       " 'columns': ['input_ids', 'labels', 'attention_mask'],\n",
       " 'output_all_columns': False}"
      ]
     },
     "execution_count": 56,
     "metadata": {},
     "output_type": "execute_result"
    }
   ],
   "source": [
    "data_tokenized.format"
   ]
  },
  {
   "cell_type": "markdown",
   "id": "9e24f272",
   "metadata": {
    "papermill": {
     "duration": 0.023171,
     "end_time": "2024-04-25T22:06:20.472803",
     "exception": false,
     "start_time": "2024-04-25T22:06:20.449632",
     "status": "completed"
    },
    "tags": []
   },
   "source": [
    "# Training Pipeline"
   ]
  },
  {
   "cell_type": "code",
   "execution_count": 57,
   "id": "72092802",
   "metadata": {
    "execution": {
     "iopub.execute_input": "2024-04-25T22:06:20.522600Z",
     "iopub.status.busy": "2024-04-25T22:06:20.521905Z",
     "iopub.status.idle": "2024-04-25T22:06:20.527930Z",
     "shell.execute_reply": "2024-04-25T22:06:20.527052Z"
    },
    "papermill": {
     "duration": 0.033492,
     "end_time": "2024-04-25T22:06:20.530156",
     "exception": false,
     "start_time": "2024-04-25T22:06:20.496664",
     "status": "completed"
    },
    "tags": []
   },
   "outputs": [
    {
     "data": {
      "text/plain": [
       "datasets.arrow_dataset.Dataset"
      ]
     },
     "execution_count": 57,
     "metadata": {},
     "output_type": "execute_result"
    }
   ],
   "source": [
    "type(data_tokenized)"
   ]
  },
  {
   "cell_type": "code",
   "execution_count": 58,
   "id": "e2d34492",
   "metadata": {
    "execution": {
     "iopub.execute_input": "2024-04-25T22:06:20.581696Z",
     "iopub.status.busy": "2024-04-25T22:06:20.580842Z",
     "iopub.status.idle": "2024-04-25T22:06:25.872201Z",
     "shell.execute_reply": "2024-04-25T22:06:25.871274Z"
    },
    "papermill": {
     "duration": 5.318535,
     "end_time": "2024-04-25T22:06:25.874379",
     "exception": false,
     "start_time": "2024-04-25T22:06:20.555844",
     "status": "completed"
    },
    "tags": []
   },
   "outputs": [
    {
     "data": {
      "application/vnd.jupyter.widget-view+json": {
       "model_id": "d9b0ac6187b541cc80e3e2141d45f5cb",
       "version_major": 2,
       "version_minor": 0
      },
      "text/plain": [
       "config.json:   0%|          | 0.00/1.63k [00:00<?, ?B/s]"
      ]
     },
     "metadata": {},
     "output_type": "display_data"
    },
    {
     "data": {
      "application/vnd.jupyter.widget-view+json": {
       "model_id": "f19ac29ed01e4e8fbf1f50fcd9250c27",
       "version_major": 2,
       "version_minor": 0
      },
      "text/plain": [
       "pytorch_model.bin:   0%|          | 0.00/1.02G [00:00<?, ?B/s]"
      ]
     },
     "metadata": {},
     "output_type": "display_data"
    },
    {
     "name": "stderr",
     "output_type": "stream",
     "text": [
      "/opt/conda/lib/python3.10/site-packages/torch/_utils.py:831: UserWarning: TypedStorage is deprecated. It will be removed in the future and UntypedStorage will be the only storage class. This should only matter to you if you are using storages directly.  To access UntypedStorage directly, use tensor.untyped_storage() instead of tensor.storage()\n",
      "  return self.fget.__get__(instance, owner)()\n"
     ]
    },
    {
     "data": {
      "text/plain": [
       "BartForConditionalGeneration(\n",
       "  (model): BartModel(\n",
       "    (shared): Embedding(50265, 1024, padding_idx=1)\n",
       "    (encoder): BartEncoder(\n",
       "      (embed_tokens): Embedding(50265, 1024, padding_idx=1)\n",
       "      (embed_positions): BartLearnedPositionalEmbedding(1026, 1024)\n",
       "      (layers): ModuleList(\n",
       "        (0-11): 12 x BartEncoderLayer(\n",
       "          (self_attn): BartSdpaAttention(\n",
       "            (k_proj): Linear(in_features=1024, out_features=1024, bias=True)\n",
       "            (v_proj): Linear(in_features=1024, out_features=1024, bias=True)\n",
       "            (q_proj): Linear(in_features=1024, out_features=1024, bias=True)\n",
       "            (out_proj): Linear(in_features=1024, out_features=1024, bias=True)\n",
       "          )\n",
       "          (self_attn_layer_norm): LayerNorm((1024,), eps=1e-05, elementwise_affine=True)\n",
       "          (activation_fn): GELUActivation()\n",
       "          (fc1): Linear(in_features=1024, out_features=4096, bias=True)\n",
       "          (fc2): Linear(in_features=4096, out_features=1024, bias=True)\n",
       "          (final_layer_norm): LayerNorm((1024,), eps=1e-05, elementwise_affine=True)\n",
       "        )\n",
       "      )\n",
       "      (layernorm_embedding): LayerNorm((1024,), eps=1e-05, elementwise_affine=True)\n",
       "    )\n",
       "    (decoder): BartDecoder(\n",
       "      (embed_tokens): Embedding(50265, 1024, padding_idx=1)\n",
       "      (embed_positions): BartLearnedPositionalEmbedding(1026, 1024)\n",
       "      (layers): ModuleList(\n",
       "        (0-11): 12 x BartDecoderLayer(\n",
       "          (self_attn): BartSdpaAttention(\n",
       "            (k_proj): Linear(in_features=1024, out_features=1024, bias=True)\n",
       "            (v_proj): Linear(in_features=1024, out_features=1024, bias=True)\n",
       "            (q_proj): Linear(in_features=1024, out_features=1024, bias=True)\n",
       "            (out_proj): Linear(in_features=1024, out_features=1024, bias=True)\n",
       "          )\n",
       "          (activation_fn): GELUActivation()\n",
       "          (self_attn_layer_norm): LayerNorm((1024,), eps=1e-05, elementwise_affine=True)\n",
       "          (encoder_attn): BartSdpaAttention(\n",
       "            (k_proj): Linear(in_features=1024, out_features=1024, bias=True)\n",
       "            (v_proj): Linear(in_features=1024, out_features=1024, bias=True)\n",
       "            (q_proj): Linear(in_features=1024, out_features=1024, bias=True)\n",
       "            (out_proj): Linear(in_features=1024, out_features=1024, bias=True)\n",
       "          )\n",
       "          (encoder_attn_layer_norm): LayerNorm((1024,), eps=1e-05, elementwise_affine=True)\n",
       "          (fc1): Linear(in_features=1024, out_features=4096, bias=True)\n",
       "          (fc2): Linear(in_features=4096, out_features=1024, bias=True)\n",
       "          (final_layer_norm): LayerNorm((1024,), eps=1e-05, elementwise_affine=True)\n",
       "        )\n",
       "      )\n",
       "      (layernorm_embedding): LayerNorm((1024,), eps=1e-05, elementwise_affine=True)\n",
       "    )\n",
       "  )\n",
       "  (lm_head): Linear(in_features=1024, out_features=50265, bias=False)\n",
       ")"
      ]
     },
     "execution_count": 58,
     "metadata": {},
     "output_type": "execute_result"
    }
   ],
   "source": [
    "model = BartForConditionalGeneration.from_pretrained(\"facebook/bart-large\")\n",
    "model"
   ]
  },
  {
   "cell_type": "code",
   "execution_count": 59,
   "id": "5c7de498",
   "metadata": {
    "execution": {
     "iopub.execute_input": "2024-04-25T22:06:25.927327Z",
     "iopub.status.busy": "2024-04-25T22:06:25.926469Z",
     "iopub.status.idle": "2024-04-25T22:06:25.931019Z",
     "shell.execute_reply": "2024-04-25T22:06:25.930094Z"
    },
    "papermill": {
     "duration": 0.033058,
     "end_time": "2024-04-25T22:06:25.932911",
     "exception": false,
     "start_time": "2024-04-25T22:06:25.899853",
     "status": "completed"
    },
    "tags": []
   },
   "outputs": [],
   "source": [
    "# collator\n",
    "data_collator = DataCollatorForSeq2Seq(tokenizer, model = model)"
   ]
  },
  {
   "cell_type": "markdown",
   "id": "f1fa7220",
   "metadata": {
    "papermill": {
     "duration": 0.024841,
     "end_time": "2024-04-25T22:06:25.982624",
     "exception": false,
     "start_time": "2024-04-25T22:06:25.957783",
     "status": "completed"
    },
    "tags": []
   },
   "source": [
    "## Training Arguments "
   ]
  },
  {
   "cell_type": "code",
   "execution_count": 60,
   "id": "666c6e4c",
   "metadata": {
    "execution": {
     "iopub.execute_input": "2024-04-25T22:06:26.034304Z",
     "iopub.status.busy": "2024-04-25T22:06:26.033312Z",
     "iopub.status.idle": "2024-04-25T22:06:26.037452Z",
     "shell.execute_reply": "2024-04-25T22:06:26.036695Z"
    },
    "papermill": {
     "duration": 0.032221,
     "end_time": "2024-04-25T22:06:26.039347",
     "exception": false,
     "start_time": "2024-04-25T22:06:26.007126",
     "status": "completed"
    },
    "tags": []
   },
   "outputs": [],
   "source": [
    "# del cpy_train_sample\n",
    "# del train\n",
    "# del test \n",
    "# del validation"
   ]
  },
  {
   "cell_type": "code",
   "execution_count": 61,
   "id": "68ac1cb5",
   "metadata": {
    "execution": {
     "iopub.execute_input": "2024-04-25T22:06:26.091421Z",
     "iopub.status.busy": "2024-04-25T22:06:26.090587Z",
     "iopub.status.idle": "2024-04-25T22:06:27.824029Z",
     "shell.execute_reply": "2024-04-25T22:06:27.823086Z"
    },
    "papermill": {
     "duration": 1.762156,
     "end_time": "2024-04-25T22:06:27.826451",
     "exception": false,
     "start_time": "2024-04-25T22:06:26.064295",
     "status": "completed"
    },
    "tags": []
   },
   "outputs": [
    {
     "name": "stderr",
     "output_type": "stream",
     "text": [
      "/opt/conda/lib/python3.10/site-packages/accelerate/accelerator.py:436: FutureWarning: Passing the following arguments to `Accelerator` is deprecated and will be removed in version 1.0 of Accelerate: dict_keys(['dispatch_batches', 'split_batches', 'even_batches', 'use_seedable_sampler']). Please pass an `accelerate.DataLoaderConfiguration` instead: \n",
      "dataloader_config = DataLoaderConfiguration(dispatch_batches=None, split_batches=False, even_batches=True, use_seedable_sampler=True)\n",
      "  warnings.warn(\n"
     ]
    }
   ],
   "source": [
    "# Check if GPU is available\n",
    "if torch.cuda.is_available():\n",
    "    device = torch.device(\"cuda\")\n",
    "else:\n",
    "    device = torch.device(\"cpu\")\n",
    "model.to(device)\n",
    "    \n",
    "train_args = TrainingArguments(\n",
    "    output_dir = \"/kaggle/working/bart\",\n",
    "    num_train_epochs = 1,\n",
    "    warmup_steps = 500,\n",
    "    per_device_train_batch_size = 4,\n",
    "    weight_decay = 0.01,\n",
    "    logging_steps = 10,\n",
    "    evaluation_strategy = 'steps',\n",
    "    save_steps = 1e6,\n",
    "    gradient_accumulation_steps=16\n",
    "    \n",
    ")\n",
    "\n",
    "\n",
    "trainer = Trainer(model=model, args=train_args, tokenizer=tokenizer, data_collator=data_collator, train_dataset=data_tokenized, eval_dataset=data_tokenized)"
   ]
  },
  {
   "cell_type": "code",
   "execution_count": null,
   "id": "404516ad",
   "metadata": {
    "execution": {
     "iopub.execute_input": "2024-04-25T22:06:27.876913Z",
     "iopub.status.busy": "2024-04-25T22:06:27.876204Z",
     "iopub.status.idle": "2024-04-25T22:06:31.555977Z",
     "shell.execute_reply": "2024-04-25T22:06:31.554268Z"
    },
    "papermill": {
     "duration": 3.706644,
     "end_time": "2024-04-25T22:06:31.557653",
     "exception": true,
     "start_time": "2024-04-25T22:06:27.851009",
     "status": "failed"
    },
    "tags": []
   },
   "outputs": [],
   "source": [
    "trainer.train()"
   ]
  }
 ],
 "metadata": {
  "kaggle": {
   "accelerator": "gpu",
   "dataSources": [
    {
     "datasetId": 1654566,
     "sourceId": 2734496,
     "sourceType": "datasetVersion"
    }
   ],
   "dockerImageVersionId": 30699,
   "isGpuEnabled": true,
   "isInternetEnabled": true,
   "language": "python",
   "sourceType": "notebook"
  },
  "kernelspec": {
   "display_name": "Python 3",
   "language": "python",
   "name": "python3"
  },
  "language_info": {
   "codemirror_mode": {
    "name": "ipython",
    "version": 3
   },
   "file_extension": ".py",
   "mimetype": "text/x-python",
   "name": "python",
   "nbconvert_exporter": "python",
   "pygments_lexer": "ipython3",
   "version": "3.10.13"
  },
  "papermill": {
   "default_parameters": {},
   "duration": 104.293813,
   "end_time": "2024-04-25T22:06:34.414223",
   "environment_variables": {},
   "exception": true,
   "input_path": "__notebook__.ipynb",
   "output_path": "__notebook__.ipynb",
   "parameters": {},
   "start_time": "2024-04-25T22:04:50.120410",
   "version": "2.5.0"
  },
  "widgets": {
   "application/vnd.jupyter.widget-state+json": {
    "state": {
     "0193edbc46524bbdb898d125d6b5c46d": {
      "model_module": "@jupyter-widgets/controls",
      "model_module_version": "1.5.0",
      "model_name": "HTMLModel",
      "state": {
       "_dom_classes": [],
       "_model_module": "@jupyter-widgets/controls",
       "_model_module_version": "1.5.0",
       "_model_name": "HTMLModel",
       "_view_count": null,
       "_view_module": "@jupyter-widgets/controls",
       "_view_module_version": "1.5.0",
       "_view_name": "HTMLView",
       "description": "",
       "description_tooltip": null,
       "layout": "IPY_MODEL_4ff90ce6f7f541a184aef468fe27587d",
       "placeholder": "​",
       "style": "IPY_MODEL_aba94fff71aa408a98a8c3e753124443",
       "value": "Map: 100%"
      }
     },
     "0e1815fb74454b838801b9f0ec7f2c87": {
      "model_module": "@jupyter-widgets/controls",
      "model_module_version": "1.5.0",
      "model_name": "HTMLModel",
      "state": {
       "_dom_classes": [],
       "_model_module": "@jupyter-widgets/controls",
       "_model_module_version": "1.5.0",
       "_model_name": "HTMLModel",
       "_view_count": null,
       "_view_module": "@jupyter-widgets/controls",
       "_view_module_version": "1.5.0",
       "_view_name": "HTMLView",
       "description": "",
       "description_tooltip": null,
       "layout": "IPY_MODEL_d221c70f15c646ada62173ccd8d4cc15",
       "placeholder": "​",
       "style": "IPY_MODEL_9f47c56a8a834dd08ddfabb485960885",
       "value": "pytorch_model.bin: 100%"
      }
     },
     "1aa80b1e0b7241eaac1166fd2d34b4a7": {
      "model_module": "@jupyter-widgets/controls",
      "model_module_version": "1.5.0",
      "model_name": "DescriptionStyleModel",
      "state": {
       "_model_module": "@jupyter-widgets/controls",
       "_model_module_version": "1.5.0",
       "_model_name": "DescriptionStyleModel",
       "_view_count": null,
       "_view_module": "@jupyter-widgets/base",
       "_view_module_version": "1.2.0",
       "_view_name": "StyleView",
       "description_width": ""
      }
     },
     "1c4f5ddf1bda4c57b4afcff34bcbeed8": {
      "model_module": "@jupyter-widgets/base",
      "model_module_version": "1.2.0",
      "model_name": "LayoutModel",
      "state": {
       "_model_module": "@jupyter-widgets/base",
       "_model_module_version": "1.2.0",
       "_model_name": "LayoutModel",
       "_view_count": null,
       "_view_module": "@jupyter-widgets/base",
       "_view_module_version": "1.2.0",
       "_view_name": "LayoutView",
       "align_content": null,
       "align_items": null,
       "align_self": null,
       "border": null,
       "bottom": null,
       "display": null,
       "flex": null,
       "flex_flow": null,
       "grid_area": null,
       "grid_auto_columns": null,
       "grid_auto_flow": null,
       "grid_auto_rows": null,
       "grid_column": null,
       "grid_gap": null,
       "grid_row": null,
       "grid_template_areas": null,
       "grid_template_columns": null,
       "grid_template_rows": null,
       "height": null,
       "justify_content": null,
       "justify_items": null,
       "left": null,
       "margin": null,
       "max_height": null,
       "max_width": null,
       "min_height": null,
       "min_width": null,
       "object_fit": null,
       "object_position": null,
       "order": null,
       "overflow": null,
       "overflow_x": null,
       "overflow_y": null,
       "padding": null,
       "right": null,
       "top": null,
       "visibility": null,
       "width": null
      }
     },
     "1cf03c2ba45a45388de7df89cd47f3f3": {
      "model_module": "@jupyter-widgets/base",
      "model_module_version": "1.2.0",
      "model_name": "LayoutModel",
      "state": {
       "_model_module": "@jupyter-widgets/base",
       "_model_module_version": "1.2.0",
       "_model_name": "LayoutModel",
       "_view_count": null,
       "_view_module": "@jupyter-widgets/base",
       "_view_module_version": "1.2.0",
       "_view_name": "LayoutView",
       "align_content": null,
       "align_items": null,
       "align_self": null,
       "border": null,
       "bottom": null,
       "display": null,
       "flex": null,
       "flex_flow": null,
       "grid_area": null,
       "grid_auto_columns": null,
       "grid_auto_flow": null,
       "grid_auto_rows": null,
       "grid_column": null,
       "grid_gap": null,
       "grid_row": null,
       "grid_template_areas": null,
       "grid_template_columns": null,
       "grid_template_rows": null,
       "height": null,
       "justify_content": null,
       "justify_items": null,
       "left": null,
       "margin": null,
       "max_height": null,
       "max_width": null,
       "min_height": null,
       "min_width": null,
       "object_fit": null,
       "object_position": null,
       "order": null,
       "overflow": null,
       "overflow_x": null,
       "overflow_y": null,
       "padding": null,
       "right": null,
       "top": null,
       "visibility": null,
       "width": null
      }
     },
     "1e0a71acca8647b194099028db696d11": {
      "model_module": "@jupyter-widgets/base",
      "model_module_version": "1.2.0",
      "model_name": "LayoutModel",
      "state": {
       "_model_module": "@jupyter-widgets/base",
       "_model_module_version": "1.2.0",
       "_model_name": "LayoutModel",
       "_view_count": null,
       "_view_module": "@jupyter-widgets/base",
       "_view_module_version": "1.2.0",
       "_view_name": "LayoutView",
       "align_content": null,
       "align_items": null,
       "align_self": null,
       "border": null,
       "bottom": null,
       "display": null,
       "flex": null,
       "flex_flow": null,
       "grid_area": null,
       "grid_auto_columns": null,
       "grid_auto_flow": null,
       "grid_auto_rows": null,
       "grid_column": null,
       "grid_gap": null,
       "grid_row": null,
       "grid_template_areas": null,
       "grid_template_columns": null,
       "grid_template_rows": null,
       "height": null,
       "justify_content": null,
       "justify_items": null,
       "left": null,
       "margin": null,
       "max_height": null,
       "max_width": null,
       "min_height": null,
       "min_width": null,
       "object_fit": null,
       "object_position": null,
       "order": null,
       "overflow": null,
       "overflow_x": null,
       "overflow_y": null,
       "padding": null,
       "right": null,
       "top": null,
       "visibility": null,
       "width": null
      }
     },
     "24c31d05d9844d4eb178410438df3147": {
      "model_module": "@jupyter-widgets/controls",
      "model_module_version": "1.5.0",
      "model_name": "FloatProgressModel",
      "state": {
       "_dom_classes": [],
       "_model_module": "@jupyter-widgets/controls",
       "_model_module_version": "1.5.0",
       "_model_name": "FloatProgressModel",
       "_view_count": null,
       "_view_module": "@jupyter-widgets/controls",
       "_view_module_version": "1.5.0",
       "_view_name": "ProgressView",
       "bar_style": "success",
       "description": "",
       "description_tooltip": null,
       "layout": "IPY_MODEL_1cf03c2ba45a45388de7df89cd47f3f3",
       "max": 1628,
       "min": 0,
       "orientation": "horizontal",
       "style": "IPY_MODEL_d4592211959d4b6c9b7eb63d9f858726",
       "value": 1628
      }
     },
     "29a96ee5f272472db1f70d0fe4bd1cbb": {
      "model_module": "@jupyter-widgets/controls",
      "model_module_version": "1.5.0",
      "model_name": "HTMLModel",
      "state": {
       "_dom_classes": [],
       "_model_module": "@jupyter-widgets/controls",
       "_model_module_version": "1.5.0",
       "_model_name": "HTMLModel",
       "_view_count": null,
       "_view_module": "@jupyter-widgets/controls",
       "_view_module_version": "1.5.0",
       "_view_name": "HTMLView",
       "description": "",
       "description_tooltip": null,
       "layout": "IPY_MODEL_764f2312f0db42898b199bf6fc4f716d",
       "placeholder": "​",
       "style": "IPY_MODEL_422f159f226f4ce7bd03929c151c387d",
       "value": "tokenizer.json: 100%"
      }
     },
     "29b0db382e954acc954d572d07f38e81": {
      "model_module": "@jupyter-widgets/controls",
      "model_module_version": "1.5.0",
      "model_name": "HTMLModel",
      "state": {
       "_dom_classes": [],
       "_model_module": "@jupyter-widgets/controls",
       "_model_module_version": "1.5.0",
       "_model_name": "HTMLModel",
       "_view_count": null,
       "_view_module": "@jupyter-widgets/controls",
       "_view_module_version": "1.5.0",
       "_view_name": "HTMLView",
       "description": "",
       "description_tooltip": null,
       "layout": "IPY_MODEL_38c8e5fc5ddf4dcc8464d785111911ec",
       "placeholder": "​",
       "style": "IPY_MODEL_589a9d9a78e942eab966d5936f49802b",
       "value": "config.json: 100%"
      }
     },
     "343aa8229c7a4c1cab0486dc57c84bdf": {
      "model_module": "@jupyter-widgets/controls",
      "model_module_version": "1.5.0",
      "model_name": "HTMLModel",
      "state": {
       "_dom_classes": [],
       "_model_module": "@jupyter-widgets/controls",
       "_model_module_version": "1.5.0",
       "_model_name": "HTMLModel",
       "_view_count": null,
       "_view_module": "@jupyter-widgets/controls",
       "_view_module_version": "1.5.0",
       "_view_name": "HTMLView",
       "description": "",
       "description_tooltip": null,
       "layout": "IPY_MODEL_1e0a71acca8647b194099028db696d11",
       "placeholder": "​",
       "style": "IPY_MODEL_6de0b67db3d74d3ab3088680190ff097",
       "value": " 1.63k/1.63k [00:00&lt;00:00, 143kB/s]"
      }
     },
     "38c8e5fc5ddf4dcc8464d785111911ec": {
      "model_module": "@jupyter-widgets/base",
      "model_module_version": "1.2.0",
      "model_name": "LayoutModel",
      "state": {
       "_model_module": "@jupyter-widgets/base",
       "_model_module_version": "1.2.0",
       "_model_name": "LayoutModel",
       "_view_count": null,
       "_view_module": "@jupyter-widgets/base",
       "_view_module_version": "1.2.0",
       "_view_name": "LayoutView",
       "align_content": null,
       "align_items": null,
       "align_self": null,
       "border": null,
       "bottom": null,
       "display": null,
       "flex": null,
       "flex_flow": null,
       "grid_area": null,
       "grid_auto_columns": null,
       "grid_auto_flow": null,
       "grid_auto_rows": null,
       "grid_column": null,
       "grid_gap": null,
       "grid_row": null,
       "grid_template_areas": null,
       "grid_template_columns": null,
       "grid_template_rows": null,
       "height": null,
       "justify_content": null,
       "justify_items": null,
       "left": null,
       "margin": null,
       "max_height": null,
       "max_width": null,
       "min_height": null,
       "min_width": null,
       "object_fit": null,
       "object_position": null,
       "order": null,
       "overflow": null,
       "overflow_x": null,
       "overflow_y": null,
       "padding": null,
       "right": null,
       "top": null,
       "visibility": null,
       "width": null
      }
     },
     "38fb1b75163647819bd397ad07fadad0": {
      "model_module": "@jupyter-widgets/controls",
      "model_module_version": "1.5.0",
      "model_name": "DescriptionStyleModel",
      "state": {
       "_model_module": "@jupyter-widgets/controls",
       "_model_module_version": "1.5.0",
       "_model_name": "DescriptionStyleModel",
       "_view_count": null,
       "_view_module": "@jupyter-widgets/base",
       "_view_module_version": "1.2.0",
       "_view_name": "StyleView",
       "description_width": ""
      }
     },
     "3af4ccdcf3b54b86acebe8623c5be502": {
      "model_module": "@jupyter-widgets/controls",
      "model_module_version": "1.5.0",
      "model_name": "HTMLModel",
      "state": {
       "_dom_classes": [],
       "_model_module": "@jupyter-widgets/controls",
       "_model_module_version": "1.5.0",
       "_model_name": "HTMLModel",
       "_view_count": null,
       "_view_module": "@jupyter-widgets/controls",
       "_view_module_version": "1.5.0",
       "_view_name": "HTMLView",
       "description": "",
       "description_tooltip": null,
       "layout": "IPY_MODEL_d73b379dd80e41d6a966f8ab8a04d885",
       "placeholder": "​",
       "style": "IPY_MODEL_d7e8a156035b4df5afe40bf0801c0dd6",
       "value": " 899k/899k [00:00&lt;00:00, 17.6MB/s]"
      }
     },
     "3cceee7ba7ca4113859da3ab4e13751b": {
      "model_module": "@jupyter-widgets/controls",
      "model_module_version": "1.5.0",
      "model_name": "HBoxModel",
      "state": {
       "_dom_classes": [],
       "_model_module": "@jupyter-widgets/controls",
       "_model_module_version": "1.5.0",
       "_model_name": "HBoxModel",
       "_view_count": null,
       "_view_module": "@jupyter-widgets/controls",
       "_view_module_version": "1.5.0",
       "_view_name": "HBoxView",
       "box_style": "",
       "children": [
        "IPY_MODEL_86a6099f246b42f99af376481eb0d787",
        "IPY_MODEL_5cf2f2682b764ece881618d1171faa10",
        "IPY_MODEL_4e1aa57d4d164555bb0a50d1190bed25"
       ],
       "layout": "IPY_MODEL_e0327d4f7cfa4658af8ccc443d92ba69"
      }
     },
     "422f159f226f4ce7bd03929c151c387d": {
      "model_module": "@jupyter-widgets/controls",
      "model_module_version": "1.5.0",
      "model_name": "DescriptionStyleModel",
      "state": {
       "_model_module": "@jupyter-widgets/controls",
       "_model_module_version": "1.5.0",
       "_model_name": "DescriptionStyleModel",
       "_view_count": null,
       "_view_module": "@jupyter-widgets/base",
       "_view_module_version": "1.2.0",
       "_view_name": "StyleView",
       "description_width": ""
      }
     },
     "429d7eae031d4588bae1ceff3cd630d3": {
      "model_module": "@jupyter-widgets/controls",
      "model_module_version": "1.5.0",
      "model_name": "HBoxModel",
      "state": {
       "_dom_classes": [],
       "_model_module": "@jupyter-widgets/controls",
       "_model_module_version": "1.5.0",
       "_model_name": "HBoxModel",
       "_view_count": null,
       "_view_module": "@jupyter-widgets/controls",
       "_view_module_version": "1.5.0",
       "_view_name": "HBoxView",
       "box_style": "",
       "children": [
        "IPY_MODEL_6a87626be97a452285ace77b30cf8116",
        "IPY_MODEL_49f7813466df40ed8594b00bea0f8bf3",
        "IPY_MODEL_8988722a62b54171b26ff10c22ca1ae3"
       ],
       "layout": "IPY_MODEL_b95b62075dcf4cf0b5e95a955d3e0ff7"
      }
     },
     "43b59fd5ba4f43379918062103f4c281": {
      "model_module": "@jupyter-widgets/base",
      "model_module_version": "1.2.0",
      "model_name": "LayoutModel",
      "state": {
       "_model_module": "@jupyter-widgets/base",
       "_model_module_version": "1.2.0",
       "_model_name": "LayoutModel",
       "_view_count": null,
       "_view_module": "@jupyter-widgets/base",
       "_view_module_version": "1.2.0",
       "_view_name": "LayoutView",
       "align_content": null,
       "align_items": null,
       "align_self": null,
       "border": null,
       "bottom": null,
       "display": null,
       "flex": null,
       "flex_flow": null,
       "grid_area": null,
       "grid_auto_columns": null,
       "grid_auto_flow": null,
       "grid_auto_rows": null,
       "grid_column": null,
       "grid_gap": null,
       "grid_row": null,
       "grid_template_areas": null,
       "grid_template_columns": null,
       "grid_template_rows": null,
       "height": null,
       "justify_content": null,
       "justify_items": null,
       "left": null,
       "margin": null,
       "max_height": null,
       "max_width": null,
       "min_height": null,
       "min_width": null,
       "object_fit": null,
       "object_position": null,
       "order": null,
       "overflow": null,
       "overflow_x": null,
       "overflow_y": null,
       "padding": null,
       "right": null,
       "top": null,
       "visibility": null,
       "width": null
      }
     },
     "45f5a6d71d9d4a3684a2ea31e5209c0a": {
      "model_module": "@jupyter-widgets/controls",
      "model_module_version": "1.5.0",
      "model_name": "HTMLModel",
      "state": {
       "_dom_classes": [],
       "_model_module": "@jupyter-widgets/controls",
       "_model_module_version": "1.5.0",
       "_model_name": "HTMLModel",
       "_view_count": null,
       "_view_module": "@jupyter-widgets/controls",
       "_view_module_version": "1.5.0",
       "_view_name": "HTMLView",
       "description": "",
       "description_tooltip": null,
       "layout": "IPY_MODEL_a2d8efba52144dedb8fe6e42567312fe",
       "placeholder": "​",
       "style": "IPY_MODEL_e61958d5474340d49176abe4dd854c84",
       "value": " 1.36M/1.36M [00:00&lt;00:00, 13.4MB/s]"
      }
     },
     "48b6b159f57c406db321ad7df2fa80f1": {
      "model_module": "@jupyter-widgets/base",
      "model_module_version": "1.2.0",
      "model_name": "LayoutModel",
      "state": {
       "_model_module": "@jupyter-widgets/base",
       "_model_module_version": "1.2.0",
       "_model_name": "LayoutModel",
       "_view_count": null,
       "_view_module": "@jupyter-widgets/base",
       "_view_module_version": "1.2.0",
       "_view_name": "LayoutView",
       "align_content": null,
       "align_items": null,
       "align_self": null,
       "border": null,
       "bottom": null,
       "display": null,
       "flex": null,
       "flex_flow": null,
       "grid_area": null,
       "grid_auto_columns": null,
       "grid_auto_flow": null,
       "grid_auto_rows": null,
       "grid_column": null,
       "grid_gap": null,
       "grid_row": null,
       "grid_template_areas": null,
       "grid_template_columns": null,
       "grid_template_rows": null,
       "height": null,
       "justify_content": null,
       "justify_items": null,
       "left": null,
       "margin": null,
       "max_height": null,
       "max_width": null,
       "min_height": null,
       "min_width": null,
       "object_fit": null,
       "object_position": null,
       "order": null,
       "overflow": null,
       "overflow_x": null,
       "overflow_y": null,
       "padding": null,
       "right": null,
       "top": null,
       "visibility": null,
       "width": null
      }
     },
     "49f7813466df40ed8594b00bea0f8bf3": {
      "model_module": "@jupyter-widgets/controls",
      "model_module_version": "1.5.0",
      "model_name": "FloatProgressModel",
      "state": {
       "_dom_classes": [],
       "_model_module": "@jupyter-widgets/controls",
       "_model_module_version": "1.5.0",
       "_model_name": "FloatProgressModel",
       "_view_count": null,
       "_view_module": "@jupyter-widgets/controls",
       "_view_module_version": "1.5.0",
       "_view_name": "ProgressView",
       "bar_style": "success",
       "description": "",
       "description_tooltip": null,
       "layout": "IPY_MODEL_7df2786a7a71427eaaf3f142090e6c63",
       "max": 1716,
       "min": 0,
       "orientation": "horizontal",
       "style": "IPY_MODEL_8dc673f1f8e44b1e901518b587f5789d",
       "value": 1716
      }
     },
     "4e1aa57d4d164555bb0a50d1190bed25": {
      "model_module": "@jupyter-widgets/controls",
      "model_module_version": "1.5.0",
      "model_name": "HTMLModel",
      "state": {
       "_dom_classes": [],
       "_model_module": "@jupyter-widgets/controls",
       "_model_module_version": "1.5.0",
       "_model_name": "HTMLModel",
       "_view_count": null,
       "_view_module": "@jupyter-widgets/controls",
       "_view_module_version": "1.5.0",
       "_view_name": "HTMLView",
       "description": "",
       "description_tooltip": null,
       "layout": "IPY_MODEL_751bfa61d14c4e929340bdef4b3f9f0b",
       "placeholder": "​",
       "style": "IPY_MODEL_38fb1b75163647819bd397ad07fadad0",
       "value": " 456k/456k [00:00&lt;00:00, 4.81MB/s]"
      }
     },
     "4ff90ce6f7f541a184aef468fe27587d": {
      "model_module": "@jupyter-widgets/base",
      "model_module_version": "1.2.0",
      "model_name": "LayoutModel",
      "state": {
       "_model_module": "@jupyter-widgets/base",
       "_model_module_version": "1.2.0",
       "_model_name": "LayoutModel",
       "_view_count": null,
       "_view_module": "@jupyter-widgets/base",
       "_view_module_version": "1.2.0",
       "_view_name": "LayoutView",
       "align_content": null,
       "align_items": null,
       "align_self": null,
       "border": null,
       "bottom": null,
       "display": null,
       "flex": null,
       "flex_flow": null,
       "grid_area": null,
       "grid_auto_columns": null,
       "grid_auto_flow": null,
       "grid_auto_rows": null,
       "grid_column": null,
       "grid_gap": null,
       "grid_row": null,
       "grid_template_areas": null,
       "grid_template_columns": null,
       "grid_template_rows": null,
       "height": null,
       "justify_content": null,
       "justify_items": null,
       "left": null,
       "margin": null,
       "max_height": null,
       "max_width": null,
       "min_height": null,
       "min_width": null,
       "object_fit": null,
       "object_position": null,
       "order": null,
       "overflow": null,
       "overflow_x": null,
       "overflow_y": null,
       "padding": null,
       "right": null,
       "top": null,
       "visibility": null,
       "width": null
      }
     },
     "589a9d9a78e942eab966d5936f49802b": {
      "model_module": "@jupyter-widgets/controls",
      "model_module_version": "1.5.0",
      "model_name": "DescriptionStyleModel",
      "state": {
       "_model_module": "@jupyter-widgets/controls",
       "_model_module_version": "1.5.0",
       "_model_name": "DescriptionStyleModel",
       "_view_count": null,
       "_view_module": "@jupyter-widgets/base",
       "_view_module_version": "1.2.0",
       "_view_name": "StyleView",
       "description_width": ""
      }
     },
     "5cf2f2682b764ece881618d1171faa10": {
      "model_module": "@jupyter-widgets/controls",
      "model_module_version": "1.5.0",
      "model_name": "FloatProgressModel",
      "state": {
       "_dom_classes": [],
       "_model_module": "@jupyter-widgets/controls",
       "_model_module_version": "1.5.0",
       "_model_name": "FloatProgressModel",
       "_view_count": null,
       "_view_module": "@jupyter-widgets/controls",
       "_view_module_version": "1.5.0",
       "_view_name": "ProgressView",
       "bar_style": "success",
       "description": "",
       "description_tooltip": null,
       "layout": "IPY_MODEL_e510f6f0f70a448db78e11973d4d9c30",
       "max": 456318,
       "min": 0,
       "orientation": "horizontal",
       "style": "IPY_MODEL_7c4052e935e54972800956beb04dee40",
       "value": 456318
      }
     },
     "6a87626be97a452285ace77b30cf8116": {
      "model_module": "@jupyter-widgets/controls",
      "model_module_version": "1.5.0",
      "model_name": "HTMLModel",
      "state": {
       "_dom_classes": [],
       "_model_module": "@jupyter-widgets/controls",
       "_model_module_version": "1.5.0",
       "_model_name": "HTMLModel",
       "_view_count": null,
       "_view_module": "@jupyter-widgets/controls",
       "_view_module_version": "1.5.0",
       "_view_name": "HTMLView",
       "description": "",
       "description_tooltip": null,
       "layout": "IPY_MODEL_1c4f5ddf1bda4c57b4afcff34bcbeed8",
       "placeholder": "​",
       "style": "IPY_MODEL_e240e29d8d1440578b653bdbcbeaa3c8",
       "value": "config.json: 100%"
      }
     },
     "6de0b67db3d74d3ab3088680190ff097": {
      "model_module": "@jupyter-widgets/controls",
      "model_module_version": "1.5.0",
      "model_name": "DescriptionStyleModel",
      "state": {
       "_model_module": "@jupyter-widgets/controls",
       "_model_module_version": "1.5.0",
       "_model_name": "DescriptionStyleModel",
       "_view_count": null,
       "_view_module": "@jupyter-widgets/base",
       "_view_module_version": "1.2.0",
       "_view_name": "StyleView",
       "description_width": ""
      }
     },
     "717450f964f84dd09b4a8ab822079597": {
      "model_module": "@jupyter-widgets/base",
      "model_module_version": "1.2.0",
      "model_name": "LayoutModel",
      "state": {
       "_model_module": "@jupyter-widgets/base",
       "_model_module_version": "1.2.0",
       "_model_name": "LayoutModel",
       "_view_count": null,
       "_view_module": "@jupyter-widgets/base",
       "_view_module_version": "1.2.0",
       "_view_name": "LayoutView",
       "align_content": null,
       "align_items": null,
       "align_self": null,
       "border": null,
       "bottom": null,
       "display": null,
       "flex": null,
       "flex_flow": null,
       "grid_area": null,
       "grid_auto_columns": null,
       "grid_auto_flow": null,
       "grid_auto_rows": null,
       "grid_column": null,
       "grid_gap": null,
       "grid_row": null,
       "grid_template_areas": null,
       "grid_template_columns": null,
       "grid_template_rows": null,
       "height": null,
       "justify_content": null,
       "justify_items": null,
       "left": null,
       "margin": null,
       "max_height": null,
       "max_width": null,
       "min_height": null,
       "min_width": null,
       "object_fit": null,
       "object_position": null,
       "order": null,
       "overflow": null,
       "overflow_x": null,
       "overflow_y": null,
       "padding": null,
       "right": null,
       "top": null,
       "visibility": null,
       "width": null
      }
     },
     "722e0b93e802480c92c83eb749cabcb0": {
      "model_module": "@jupyter-widgets/controls",
      "model_module_version": "1.5.0",
      "model_name": "DescriptionStyleModel",
      "state": {
       "_model_module": "@jupyter-widgets/controls",
       "_model_module_version": "1.5.0",
       "_model_name": "DescriptionStyleModel",
       "_view_count": null,
       "_view_module": "@jupyter-widgets/base",
       "_view_module_version": "1.2.0",
       "_view_name": "StyleView",
       "description_width": ""
      }
     },
     "72be5d04a746429a83d8d6c0c2849040": {
      "model_module": "@jupyter-widgets/controls",
      "model_module_version": "1.5.0",
      "model_name": "FloatProgressModel",
      "state": {
       "_dom_classes": [],
       "_model_module": "@jupyter-widgets/controls",
       "_model_module_version": "1.5.0",
       "_model_name": "FloatProgressModel",
       "_view_count": null,
       "_view_module": "@jupyter-widgets/controls",
       "_view_module_version": "1.5.0",
       "_view_name": "ProgressView",
       "bar_style": "success",
       "description": "",
       "description_tooltip": null,
       "layout": "IPY_MODEL_48b6b159f57c406db321ad7df2fa80f1",
       "max": 1000,
       "min": 0,
       "orientation": "horizontal",
       "style": "IPY_MODEL_f842ea325ec549e8b71508e8e0eb3b6b",
       "value": 1000
      }
     },
     "751bfa61d14c4e929340bdef4b3f9f0b": {
      "model_module": "@jupyter-widgets/base",
      "model_module_version": "1.2.0",
      "model_name": "LayoutModel",
      "state": {
       "_model_module": "@jupyter-widgets/base",
       "_model_module_version": "1.2.0",
       "_model_name": "LayoutModel",
       "_view_count": null,
       "_view_module": "@jupyter-widgets/base",
       "_view_module_version": "1.2.0",
       "_view_name": "LayoutView",
       "align_content": null,
       "align_items": null,
       "align_self": null,
       "border": null,
       "bottom": null,
       "display": null,
       "flex": null,
       "flex_flow": null,
       "grid_area": null,
       "grid_auto_columns": null,
       "grid_auto_flow": null,
       "grid_auto_rows": null,
       "grid_column": null,
       "grid_gap": null,
       "grid_row": null,
       "grid_template_areas": null,
       "grid_template_columns": null,
       "grid_template_rows": null,
       "height": null,
       "justify_content": null,
       "justify_items": null,
       "left": null,
       "margin": null,
       "max_height": null,
       "max_width": null,
       "min_height": null,
       "min_width": null,
       "object_fit": null,
       "object_position": null,
       "order": null,
       "overflow": null,
       "overflow_x": null,
       "overflow_y": null,
       "padding": null,
       "right": null,
       "top": null,
       "visibility": null,
       "width": null
      }
     },
     "764f2312f0db42898b199bf6fc4f716d": {
      "model_module": "@jupyter-widgets/base",
      "model_module_version": "1.2.0",
      "model_name": "LayoutModel",
      "state": {
       "_model_module": "@jupyter-widgets/base",
       "_model_module_version": "1.2.0",
       "_model_name": "LayoutModel",
       "_view_count": null,
       "_view_module": "@jupyter-widgets/base",
       "_view_module_version": "1.2.0",
       "_view_name": "LayoutView",
       "align_content": null,
       "align_items": null,
       "align_self": null,
       "border": null,
       "bottom": null,
       "display": null,
       "flex": null,
       "flex_flow": null,
       "grid_area": null,
       "grid_auto_columns": null,
       "grid_auto_flow": null,
       "grid_auto_rows": null,
       "grid_column": null,
       "grid_gap": null,
       "grid_row": null,
       "grid_template_areas": null,
       "grid_template_columns": null,
       "grid_template_rows": null,
       "height": null,
       "justify_content": null,
       "justify_items": null,
       "left": null,
       "margin": null,
       "max_height": null,
       "max_width": null,
       "min_height": null,
       "min_width": null,
       "object_fit": null,
       "object_position": null,
       "order": null,
       "overflow": null,
       "overflow_x": null,
       "overflow_y": null,
       "padding": null,
       "right": null,
       "top": null,
       "visibility": null,
       "width": null
      }
     },
     "7c38b542a5cd44cebfc696a384fb87ba": {
      "model_module": "@jupyter-widgets/controls",
      "model_module_version": "1.5.0",
      "model_name": "HBoxModel",
      "state": {
       "_dom_classes": [],
       "_model_module": "@jupyter-widgets/controls",
       "_model_module_version": "1.5.0",
       "_model_name": "HBoxModel",
       "_view_count": null,
       "_view_module": "@jupyter-widgets/controls",
       "_view_module_version": "1.5.0",
       "_view_name": "HBoxView",
       "box_style": "",
       "children": [
        "IPY_MODEL_29a96ee5f272472db1f70d0fe4bd1cbb",
        "IPY_MODEL_8ca1438b0be647f796156556da2542ae",
        "IPY_MODEL_45f5a6d71d9d4a3684a2ea31e5209c0a"
       ],
       "layout": "IPY_MODEL_fac26f78d0604b99beccb19f059fc21c"
      }
     },
     "7c4052e935e54972800956beb04dee40": {
      "model_module": "@jupyter-widgets/controls",
      "model_module_version": "1.5.0",
      "model_name": "ProgressStyleModel",
      "state": {
       "_model_module": "@jupyter-widgets/controls",
       "_model_module_version": "1.5.0",
       "_model_name": "ProgressStyleModel",
       "_view_count": null,
       "_view_module": "@jupyter-widgets/base",
       "_view_module_version": "1.2.0",
       "_view_name": "StyleView",
       "bar_color": null,
       "description_width": ""
      }
     },
     "7df2786a7a71427eaaf3f142090e6c63": {
      "model_module": "@jupyter-widgets/base",
      "model_module_version": "1.2.0",
      "model_name": "LayoutModel",
      "state": {
       "_model_module": "@jupyter-widgets/base",
       "_model_module_version": "1.2.0",
       "_model_name": "LayoutModel",
       "_view_count": null,
       "_view_module": "@jupyter-widgets/base",
       "_view_module_version": "1.2.0",
       "_view_name": "LayoutView",
       "align_content": null,
       "align_items": null,
       "align_self": null,
       "border": null,
       "bottom": null,
       "display": null,
       "flex": null,
       "flex_flow": null,
       "grid_area": null,
       "grid_auto_columns": null,
       "grid_auto_flow": null,
       "grid_auto_rows": null,
       "grid_column": null,
       "grid_gap": null,
       "grid_row": null,
       "grid_template_areas": null,
       "grid_template_columns": null,
       "grid_template_rows": null,
       "height": null,
       "justify_content": null,
       "justify_items": null,
       "left": null,
       "margin": null,
       "max_height": null,
       "max_width": null,
       "min_height": null,
       "min_width": null,
       "object_fit": null,
       "object_position": null,
       "order": null,
       "overflow": null,
       "overflow_x": null,
       "overflow_y": null,
       "padding": null,
       "right": null,
       "top": null,
       "visibility": null,
       "width": null
      }
     },
     "8318b600140948119bd062279840cb96": {
      "model_module": "@jupyter-widgets/base",
      "model_module_version": "1.2.0",
      "model_name": "LayoutModel",
      "state": {
       "_model_module": "@jupyter-widgets/base",
       "_model_module_version": "1.2.0",
       "_model_name": "LayoutModel",
       "_view_count": null,
       "_view_module": "@jupyter-widgets/base",
       "_view_module_version": "1.2.0",
       "_view_name": "LayoutView",
       "align_content": null,
       "align_items": null,
       "align_self": null,
       "border": null,
       "bottom": null,
       "display": null,
       "flex": null,
       "flex_flow": null,
       "grid_area": null,
       "grid_auto_columns": null,
       "grid_auto_flow": null,
       "grid_auto_rows": null,
       "grid_column": null,
       "grid_gap": null,
       "grid_row": null,
       "grid_template_areas": null,
       "grid_template_columns": null,
       "grid_template_rows": null,
       "height": null,
       "justify_content": null,
       "justify_items": null,
       "left": null,
       "margin": null,
       "max_height": null,
       "max_width": null,
       "min_height": null,
       "min_width": null,
       "object_fit": null,
       "object_position": null,
       "order": null,
       "overflow": null,
       "overflow_x": null,
       "overflow_y": null,
       "padding": null,
       "right": null,
       "top": null,
       "visibility": null,
       "width": null
      }
     },
     "85f5c9165eb34224a8bf2da5797cdeba": {
      "model_module": "@jupyter-widgets/controls",
      "model_module_version": "1.5.0",
      "model_name": "ProgressStyleModel",
      "state": {
       "_model_module": "@jupyter-widgets/controls",
       "_model_module_version": "1.5.0",
       "_model_name": "ProgressStyleModel",
       "_view_count": null,
       "_view_module": "@jupyter-widgets/base",
       "_view_module_version": "1.2.0",
       "_view_name": "StyleView",
       "bar_color": null,
       "description_width": ""
      }
     },
     "86a6099f246b42f99af376481eb0d787": {
      "model_module": "@jupyter-widgets/controls",
      "model_module_version": "1.5.0",
      "model_name": "HTMLModel",
      "state": {
       "_dom_classes": [],
       "_model_module": "@jupyter-widgets/controls",
       "_model_module_version": "1.5.0",
       "_model_name": "HTMLModel",
       "_view_count": null,
       "_view_module": "@jupyter-widgets/controls",
       "_view_module_version": "1.5.0",
       "_view_name": "HTMLView",
       "description": "",
       "description_tooltip": null,
       "layout": "IPY_MODEL_87182a88e97240c8ab6fe52fe9b56e82",
       "placeholder": "​",
       "style": "IPY_MODEL_e4288a0d709843e7a03ea61988b5c576",
       "value": "merges.txt: 100%"
      }
     },
     "87182a88e97240c8ab6fe52fe9b56e82": {
      "model_module": "@jupyter-widgets/base",
      "model_module_version": "1.2.0",
      "model_name": "LayoutModel",
      "state": {
       "_model_module": "@jupyter-widgets/base",
       "_model_module_version": "1.2.0",
       "_model_name": "LayoutModel",
       "_view_count": null,
       "_view_module": "@jupyter-widgets/base",
       "_view_module_version": "1.2.0",
       "_view_name": "LayoutView",
       "align_content": null,
       "align_items": null,
       "align_self": null,
       "border": null,
       "bottom": null,
       "display": null,
       "flex": null,
       "flex_flow": null,
       "grid_area": null,
       "grid_auto_columns": null,
       "grid_auto_flow": null,
       "grid_auto_rows": null,
       "grid_column": null,
       "grid_gap": null,
       "grid_row": null,
       "grid_template_areas": null,
       "grid_template_columns": null,
       "grid_template_rows": null,
       "height": null,
       "justify_content": null,
       "justify_items": null,
       "left": null,
       "margin": null,
       "max_height": null,
       "max_width": null,
       "min_height": null,
       "min_width": null,
       "object_fit": null,
       "object_position": null,
       "order": null,
       "overflow": null,
       "overflow_x": null,
       "overflow_y": null,
       "padding": null,
       "right": null,
       "top": null,
       "visibility": null,
       "width": null
      }
     },
     "8988722a62b54171b26ff10c22ca1ae3": {
      "model_module": "@jupyter-widgets/controls",
      "model_module_version": "1.5.0",
      "model_name": "HTMLModel",
      "state": {
       "_dom_classes": [],
       "_model_module": "@jupyter-widgets/controls",
       "_model_module_version": "1.5.0",
       "_model_name": "HTMLModel",
       "_view_count": null,
       "_view_module": "@jupyter-widgets/controls",
       "_view_module_version": "1.5.0",
       "_view_name": "HTMLView",
       "description": "",
       "description_tooltip": null,
       "layout": "IPY_MODEL_717450f964f84dd09b4a8ab822079597",
       "placeholder": "​",
       "style": "IPY_MODEL_afcc22e16eee486cb127fca4c6306635",
       "value": " 1.72k/1.72k [00:00&lt;00:00, 139kB/s]"
      }
     },
     "89b9b3869dda42da861c4d21f8480209": {
      "model_module": "@jupyter-widgets/base",
      "model_module_version": "1.2.0",
      "model_name": "LayoutModel",
      "state": {
       "_model_module": "@jupyter-widgets/base",
       "_model_module_version": "1.2.0",
       "_model_name": "LayoutModel",
       "_view_count": null,
       "_view_module": "@jupyter-widgets/base",
       "_view_module_version": "1.2.0",
       "_view_name": "LayoutView",
       "align_content": null,
       "align_items": null,
       "align_self": null,
       "border": null,
       "bottom": null,
       "display": null,
       "flex": null,
       "flex_flow": null,
       "grid_area": null,
       "grid_auto_columns": null,
       "grid_auto_flow": null,
       "grid_auto_rows": null,
       "grid_column": null,
       "grid_gap": null,
       "grid_row": null,
       "grid_template_areas": null,
       "grid_template_columns": null,
       "grid_template_rows": null,
       "height": null,
       "justify_content": null,
       "justify_items": null,
       "left": null,
       "margin": null,
       "max_height": null,
       "max_width": null,
       "min_height": null,
       "min_width": null,
       "object_fit": null,
       "object_position": null,
       "order": null,
       "overflow": null,
       "overflow_x": null,
       "overflow_y": null,
       "padding": null,
       "right": null,
       "top": null,
       "visibility": null,
       "width": null
      }
     },
     "8b1ce4f216d44c8cbbad3a7d3061dcf6": {
      "model_module": "@jupyter-widgets/controls",
      "model_module_version": "1.5.0",
      "model_name": "ProgressStyleModel",
      "state": {
       "_model_module": "@jupyter-widgets/controls",
       "_model_module_version": "1.5.0",
       "_model_name": "ProgressStyleModel",
       "_view_count": null,
       "_view_module": "@jupyter-widgets/base",
       "_view_module_version": "1.2.0",
       "_view_name": "StyleView",
       "bar_color": null,
       "description_width": ""
      }
     },
     "8ca1438b0be647f796156556da2542ae": {
      "model_module": "@jupyter-widgets/controls",
      "model_module_version": "1.5.0",
      "model_name": "FloatProgressModel",
      "state": {
       "_dom_classes": [],
       "_model_module": "@jupyter-widgets/controls",
       "_model_module_version": "1.5.0",
       "_model_name": "FloatProgressModel",
       "_view_count": null,
       "_view_module": "@jupyter-widgets/controls",
       "_view_module_version": "1.5.0",
       "_view_name": "ProgressView",
       "bar_style": "success",
       "description": "",
       "description_tooltip": null,
       "layout": "IPY_MODEL_c93e308ce4f241a3a43d2f68fc79e7f6",
       "max": 1355863,
       "min": 0,
       "orientation": "horizontal",
       "style": "IPY_MODEL_e3edec2bc1bf45e99f25d58e02ec22d1",
       "value": 1355863
      }
     },
     "8dc673f1f8e44b1e901518b587f5789d": {
      "model_module": "@jupyter-widgets/controls",
      "model_module_version": "1.5.0",
      "model_name": "ProgressStyleModel",
      "state": {
       "_model_module": "@jupyter-widgets/controls",
       "_model_module_version": "1.5.0",
       "_model_name": "ProgressStyleModel",
       "_view_count": null,
       "_view_module": "@jupyter-widgets/base",
       "_view_module_version": "1.2.0",
       "_view_name": "StyleView",
       "bar_color": null,
       "description_width": ""
      }
     },
     "8ffee73e41d44ada85a30f864b7bdeb1": {
      "model_module": "@jupyter-widgets/controls",
      "model_module_version": "1.5.0",
      "model_name": "DescriptionStyleModel",
      "state": {
       "_model_module": "@jupyter-widgets/controls",
       "_model_module_version": "1.5.0",
       "_model_name": "DescriptionStyleModel",
       "_view_count": null,
       "_view_module": "@jupyter-widgets/base",
       "_view_module_version": "1.2.0",
       "_view_name": "StyleView",
       "description_width": ""
      }
     },
     "902f2c9a421c45cc8b3787d535b80a1c": {
      "model_module": "@jupyter-widgets/base",
      "model_module_version": "1.2.0",
      "model_name": "LayoutModel",
      "state": {
       "_model_module": "@jupyter-widgets/base",
       "_model_module_version": "1.2.0",
       "_model_name": "LayoutModel",
       "_view_count": null,
       "_view_module": "@jupyter-widgets/base",
       "_view_module_version": "1.2.0",
       "_view_name": "LayoutView",
       "align_content": null,
       "align_items": null,
       "align_self": null,
       "border": null,
       "bottom": null,
       "display": null,
       "flex": null,
       "flex_flow": null,
       "grid_area": null,
       "grid_auto_columns": null,
       "grid_auto_flow": null,
       "grid_auto_rows": null,
       "grid_column": null,
       "grid_gap": null,
       "grid_row": null,
       "grid_template_areas": null,
       "grid_template_columns": null,
       "grid_template_rows": null,
       "height": null,
       "justify_content": null,
       "justify_items": null,
       "left": null,
       "margin": null,
       "max_height": null,
       "max_width": null,
       "min_height": null,
       "min_width": null,
       "object_fit": null,
       "object_position": null,
       "order": null,
       "overflow": null,
       "overflow_x": null,
       "overflow_y": null,
       "padding": null,
       "right": null,
       "top": null,
       "visibility": null,
       "width": null
      }
     },
     "91a8dfd7eb944d74a602e3b47799c131": {
      "model_module": "@jupyter-widgets/controls",
      "model_module_version": "1.5.0",
      "model_name": "HTMLModel",
      "state": {
       "_dom_classes": [],
       "_model_module": "@jupyter-widgets/controls",
       "_model_module_version": "1.5.0",
       "_model_name": "HTMLModel",
       "_view_count": null,
       "_view_module": "@jupyter-widgets/controls",
       "_view_module_version": "1.5.0",
       "_view_name": "HTMLView",
       "description": "",
       "description_tooltip": null,
       "layout": "IPY_MODEL_89b9b3869dda42da861c4d21f8480209",
       "placeholder": "​",
       "style": "IPY_MODEL_722e0b93e802480c92c83eb749cabcb0",
       "value": " 1000/1000 [00:11&lt;00:00, 84.79 examples/s]"
      }
     },
     "9f47c56a8a834dd08ddfabb485960885": {
      "model_module": "@jupyter-widgets/controls",
      "model_module_version": "1.5.0",
      "model_name": "DescriptionStyleModel",
      "state": {
       "_model_module": "@jupyter-widgets/controls",
       "_model_module_version": "1.5.0",
       "_model_name": "DescriptionStyleModel",
       "_view_count": null,
       "_view_module": "@jupyter-widgets/base",
       "_view_module_version": "1.2.0",
       "_view_name": "StyleView",
       "description_width": ""
      }
     },
     "a2d8efba52144dedb8fe6e42567312fe": {
      "model_module": "@jupyter-widgets/base",
      "model_module_version": "1.2.0",
      "model_name": "LayoutModel",
      "state": {
       "_model_module": "@jupyter-widgets/base",
       "_model_module_version": "1.2.0",
       "_model_name": "LayoutModel",
       "_view_count": null,
       "_view_module": "@jupyter-widgets/base",
       "_view_module_version": "1.2.0",
       "_view_name": "LayoutView",
       "align_content": null,
       "align_items": null,
       "align_self": null,
       "border": null,
       "bottom": null,
       "display": null,
       "flex": null,
       "flex_flow": null,
       "grid_area": null,
       "grid_auto_columns": null,
       "grid_auto_flow": null,
       "grid_auto_rows": null,
       "grid_column": null,
       "grid_gap": null,
       "grid_row": null,
       "grid_template_areas": null,
       "grid_template_columns": null,
       "grid_template_rows": null,
       "height": null,
       "justify_content": null,
       "justify_items": null,
       "left": null,
       "margin": null,
       "max_height": null,
       "max_width": null,
       "min_height": null,
       "min_width": null,
       "object_fit": null,
       "object_position": null,
       "order": null,
       "overflow": null,
       "overflow_x": null,
       "overflow_y": null,
       "padding": null,
       "right": null,
       "top": null,
       "visibility": null,
       "width": null
      }
     },
     "aba94fff71aa408a98a8c3e753124443": {
      "model_module": "@jupyter-widgets/controls",
      "model_module_version": "1.5.0",
      "model_name": "DescriptionStyleModel",
      "state": {
       "_model_module": "@jupyter-widgets/controls",
       "_model_module_version": "1.5.0",
       "_model_name": "DescriptionStyleModel",
       "_view_count": null,
       "_view_module": "@jupyter-widgets/base",
       "_view_module_version": "1.2.0",
       "_view_name": "StyleView",
       "description_width": ""
      }
     },
     "afcc22e16eee486cb127fca4c6306635": {
      "model_module": "@jupyter-widgets/controls",
      "model_module_version": "1.5.0",
      "model_name": "DescriptionStyleModel",
      "state": {
       "_model_module": "@jupyter-widgets/controls",
       "_model_module_version": "1.5.0",
       "_model_name": "DescriptionStyleModel",
       "_view_count": null,
       "_view_module": "@jupyter-widgets/base",
       "_view_module_version": "1.2.0",
       "_view_name": "StyleView",
       "description_width": ""
      }
     },
     "b95b62075dcf4cf0b5e95a955d3e0ff7": {
      "model_module": "@jupyter-widgets/base",
      "model_module_version": "1.2.0",
      "model_name": "LayoutModel",
      "state": {
       "_model_module": "@jupyter-widgets/base",
       "_model_module_version": "1.2.0",
       "_model_name": "LayoutModel",
       "_view_count": null,
       "_view_module": "@jupyter-widgets/base",
       "_view_module_version": "1.2.0",
       "_view_name": "LayoutView",
       "align_content": null,
       "align_items": null,
       "align_self": null,
       "border": null,
       "bottom": null,
       "display": null,
       "flex": null,
       "flex_flow": null,
       "grid_area": null,
       "grid_auto_columns": null,
       "grid_auto_flow": null,
       "grid_auto_rows": null,
       "grid_column": null,
       "grid_gap": null,
       "grid_row": null,
       "grid_template_areas": null,
       "grid_template_columns": null,
       "grid_template_rows": null,
       "height": null,
       "justify_content": null,
       "justify_items": null,
       "left": null,
       "margin": null,
       "max_height": null,
       "max_width": null,
       "min_height": null,
       "min_width": null,
       "object_fit": null,
       "object_position": null,
       "order": null,
       "overflow": null,
       "overflow_x": null,
       "overflow_y": null,
       "padding": null,
       "right": null,
       "top": null,
       "visibility": null,
       "width": null
      }
     },
     "bbe96ff8069847f4b3ceae66e4f53308": {
      "model_module": "@jupyter-widgets/base",
      "model_module_version": "1.2.0",
      "model_name": "LayoutModel",
      "state": {
       "_model_module": "@jupyter-widgets/base",
       "_model_module_version": "1.2.0",
       "_model_name": "LayoutModel",
       "_view_count": null,
       "_view_module": "@jupyter-widgets/base",
       "_view_module_version": "1.2.0",
       "_view_name": "LayoutView",
       "align_content": null,
       "align_items": null,
       "align_self": null,
       "border": null,
       "bottom": null,
       "display": null,
       "flex": null,
       "flex_flow": null,
       "grid_area": null,
       "grid_auto_columns": null,
       "grid_auto_flow": null,
       "grid_auto_rows": null,
       "grid_column": null,
       "grid_gap": null,
       "grid_row": null,
       "grid_template_areas": null,
       "grid_template_columns": null,
       "grid_template_rows": null,
       "height": null,
       "justify_content": null,
       "justify_items": null,
       "left": null,
       "margin": null,
       "max_height": null,
       "max_width": null,
       "min_height": null,
       "min_width": null,
       "object_fit": null,
       "object_position": null,
       "order": null,
       "overflow": null,
       "overflow_x": null,
       "overflow_y": null,
       "padding": null,
       "right": null,
       "top": null,
       "visibility": null,
       "width": null
      }
     },
     "c5559689001b43c9b8242df4f65b9e63": {
      "model_module": "@jupyter-widgets/controls",
      "model_module_version": "1.5.0",
      "model_name": "HTMLModel",
      "state": {
       "_dom_classes": [],
       "_model_module": "@jupyter-widgets/controls",
       "_model_module_version": "1.5.0",
       "_model_name": "HTMLModel",
       "_view_count": null,
       "_view_module": "@jupyter-widgets/controls",
       "_view_module_version": "1.5.0",
       "_view_name": "HTMLView",
       "description": "",
       "description_tooltip": null,
       "layout": "IPY_MODEL_d58952c6a2ff4b0cb9c24e81e82ae140",
       "placeholder": "​",
       "style": "IPY_MODEL_8ffee73e41d44ada85a30f864b7bdeb1",
       "value": "vocab.json: 100%"
      }
     },
     "c8ac136b1e3749f1baf3439f0ed044c1": {
      "model_module": "@jupyter-widgets/base",
      "model_module_version": "1.2.0",
      "model_name": "LayoutModel",
      "state": {
       "_model_module": "@jupyter-widgets/base",
       "_model_module_version": "1.2.0",
       "_model_name": "LayoutModel",
       "_view_count": null,
       "_view_module": "@jupyter-widgets/base",
       "_view_module_version": "1.2.0",
       "_view_name": "LayoutView",
       "align_content": null,
       "align_items": null,
       "align_self": null,
       "border": null,
       "bottom": null,
       "display": null,
       "flex": null,
       "flex_flow": null,
       "grid_area": null,
       "grid_auto_columns": null,
       "grid_auto_flow": null,
       "grid_auto_rows": null,
       "grid_column": null,
       "grid_gap": null,
       "grid_row": null,
       "grid_template_areas": null,
       "grid_template_columns": null,
       "grid_template_rows": null,
       "height": null,
       "justify_content": null,
       "justify_items": null,
       "left": null,
       "margin": null,
       "max_height": null,
       "max_width": null,
       "min_height": null,
       "min_width": null,
       "object_fit": null,
       "object_position": null,
       "order": null,
       "overflow": null,
       "overflow_x": null,
       "overflow_y": null,
       "padding": null,
       "right": null,
       "top": null,
       "visibility": null,
       "width": null
      }
     },
     "c93e308ce4f241a3a43d2f68fc79e7f6": {
      "model_module": "@jupyter-widgets/base",
      "model_module_version": "1.2.0",
      "model_name": "LayoutModel",
      "state": {
       "_model_module": "@jupyter-widgets/base",
       "_model_module_version": "1.2.0",
       "_model_name": "LayoutModel",
       "_view_count": null,
       "_view_module": "@jupyter-widgets/base",
       "_view_module_version": "1.2.0",
       "_view_name": "LayoutView",
       "align_content": null,
       "align_items": null,
       "align_self": null,
       "border": null,
       "bottom": null,
       "display": null,
       "flex": null,
       "flex_flow": null,
       "grid_area": null,
       "grid_auto_columns": null,
       "grid_auto_flow": null,
       "grid_auto_rows": null,
       "grid_column": null,
       "grid_gap": null,
       "grid_row": null,
       "grid_template_areas": null,
       "grid_template_columns": null,
       "grid_template_rows": null,
       "height": null,
       "justify_content": null,
       "justify_items": null,
       "left": null,
       "margin": null,
       "max_height": null,
       "max_width": null,
       "min_height": null,
       "min_width": null,
       "object_fit": null,
       "object_position": null,
       "order": null,
       "overflow": null,
       "overflow_x": null,
       "overflow_y": null,
       "padding": null,
       "right": null,
       "top": null,
       "visibility": null,
       "width": null
      }
     },
     "ca7a4843128c4f8c9ebfb9889017e93f": {
      "model_module": "@jupyter-widgets/controls",
      "model_module_version": "1.5.0",
      "model_name": "FloatProgressModel",
      "state": {
       "_dom_classes": [],
       "_model_module": "@jupyter-widgets/controls",
       "_model_module_version": "1.5.0",
       "_model_name": "FloatProgressModel",
       "_view_count": null,
       "_view_module": "@jupyter-widgets/controls",
       "_view_module_version": "1.5.0",
       "_view_name": "ProgressView",
       "bar_style": "success",
       "description": "",
       "description_tooltip": null,
       "layout": "IPY_MODEL_c8ac136b1e3749f1baf3439f0ed044c1",
       "max": 1018571383,
       "min": 0,
       "orientation": "horizontal",
       "style": "IPY_MODEL_85f5c9165eb34224a8bf2da5797cdeba",
       "value": 1018571383
      }
     },
     "d221c70f15c646ada62173ccd8d4cc15": {
      "model_module": "@jupyter-widgets/base",
      "model_module_version": "1.2.0",
      "model_name": "LayoutModel",
      "state": {
       "_model_module": "@jupyter-widgets/base",
       "_model_module_version": "1.2.0",
       "_model_name": "LayoutModel",
       "_view_count": null,
       "_view_module": "@jupyter-widgets/base",
       "_view_module_version": "1.2.0",
       "_view_name": "LayoutView",
       "align_content": null,
       "align_items": null,
       "align_self": null,
       "border": null,
       "bottom": null,
       "display": null,
       "flex": null,
       "flex_flow": null,
       "grid_area": null,
       "grid_auto_columns": null,
       "grid_auto_flow": null,
       "grid_auto_rows": null,
       "grid_column": null,
       "grid_gap": null,
       "grid_row": null,
       "grid_template_areas": null,
       "grid_template_columns": null,
       "grid_template_rows": null,
       "height": null,
       "justify_content": null,
       "justify_items": null,
       "left": null,
       "margin": null,
       "max_height": null,
       "max_width": null,
       "min_height": null,
       "min_width": null,
       "object_fit": null,
       "object_position": null,
       "order": null,
       "overflow": null,
       "overflow_x": null,
       "overflow_y": null,
       "padding": null,
       "right": null,
       "top": null,
       "visibility": null,
       "width": null
      }
     },
     "d4592211959d4b6c9b7eb63d9f858726": {
      "model_module": "@jupyter-widgets/controls",
      "model_module_version": "1.5.0",
      "model_name": "ProgressStyleModel",
      "state": {
       "_model_module": "@jupyter-widgets/controls",
       "_model_module_version": "1.5.0",
       "_model_name": "ProgressStyleModel",
       "_view_count": null,
       "_view_module": "@jupyter-widgets/base",
       "_view_module_version": "1.2.0",
       "_view_name": "StyleView",
       "bar_color": null,
       "description_width": ""
      }
     },
     "d58952c6a2ff4b0cb9c24e81e82ae140": {
      "model_module": "@jupyter-widgets/base",
      "model_module_version": "1.2.0",
      "model_name": "LayoutModel",
      "state": {
       "_model_module": "@jupyter-widgets/base",
       "_model_module_version": "1.2.0",
       "_model_name": "LayoutModel",
       "_view_count": null,
       "_view_module": "@jupyter-widgets/base",
       "_view_module_version": "1.2.0",
       "_view_name": "LayoutView",
       "align_content": null,
       "align_items": null,
       "align_self": null,
       "border": null,
       "bottom": null,
       "display": null,
       "flex": null,
       "flex_flow": null,
       "grid_area": null,
       "grid_auto_columns": null,
       "grid_auto_flow": null,
       "grid_auto_rows": null,
       "grid_column": null,
       "grid_gap": null,
       "grid_row": null,
       "grid_template_areas": null,
       "grid_template_columns": null,
       "grid_template_rows": null,
       "height": null,
       "justify_content": null,
       "justify_items": null,
       "left": null,
       "margin": null,
       "max_height": null,
       "max_width": null,
       "min_height": null,
       "min_width": null,
       "object_fit": null,
       "object_position": null,
       "order": null,
       "overflow": null,
       "overflow_x": null,
       "overflow_y": null,
       "padding": null,
       "right": null,
       "top": null,
       "visibility": null,
       "width": null
      }
     },
     "d73b379dd80e41d6a966f8ab8a04d885": {
      "model_module": "@jupyter-widgets/base",
      "model_module_version": "1.2.0",
      "model_name": "LayoutModel",
      "state": {
       "_model_module": "@jupyter-widgets/base",
       "_model_module_version": "1.2.0",
       "_model_name": "LayoutModel",
       "_view_count": null,
       "_view_module": "@jupyter-widgets/base",
       "_view_module_version": "1.2.0",
       "_view_name": "LayoutView",
       "align_content": null,
       "align_items": null,
       "align_self": null,
       "border": null,
       "bottom": null,
       "display": null,
       "flex": null,
       "flex_flow": null,
       "grid_area": null,
       "grid_auto_columns": null,
       "grid_auto_flow": null,
       "grid_auto_rows": null,
       "grid_column": null,
       "grid_gap": null,
       "grid_row": null,
       "grid_template_areas": null,
       "grid_template_columns": null,
       "grid_template_rows": null,
       "height": null,
       "justify_content": null,
       "justify_items": null,
       "left": null,
       "margin": null,
       "max_height": null,
       "max_width": null,
       "min_height": null,
       "min_width": null,
       "object_fit": null,
       "object_position": null,
       "order": null,
       "overflow": null,
       "overflow_x": null,
       "overflow_y": null,
       "padding": null,
       "right": null,
       "top": null,
       "visibility": null,
       "width": null
      }
     },
     "d7e8a156035b4df5afe40bf0801c0dd6": {
      "model_module": "@jupyter-widgets/controls",
      "model_module_version": "1.5.0",
      "model_name": "DescriptionStyleModel",
      "state": {
       "_model_module": "@jupyter-widgets/controls",
       "_model_module_version": "1.5.0",
       "_model_name": "DescriptionStyleModel",
       "_view_count": null,
       "_view_module": "@jupyter-widgets/base",
       "_view_module_version": "1.2.0",
       "_view_name": "StyleView",
       "description_width": ""
      }
     },
     "d9b0ac6187b541cc80e3e2141d45f5cb": {
      "model_module": "@jupyter-widgets/controls",
      "model_module_version": "1.5.0",
      "model_name": "HBoxModel",
      "state": {
       "_dom_classes": [],
       "_model_module": "@jupyter-widgets/controls",
       "_model_module_version": "1.5.0",
       "_model_name": "HBoxModel",
       "_view_count": null,
       "_view_module": "@jupyter-widgets/controls",
       "_view_module_version": "1.5.0",
       "_view_name": "HBoxView",
       "box_style": "",
       "children": [
        "IPY_MODEL_29b0db382e954acc954d572d07f38e81",
        "IPY_MODEL_24c31d05d9844d4eb178410438df3147",
        "IPY_MODEL_343aa8229c7a4c1cab0486dc57c84bdf"
       ],
       "layout": "IPY_MODEL_8318b600140948119bd062279840cb96"
      }
     },
     "db8b32d62f414bea9195d6bd2b79cd8a": {
      "model_module": "@jupyter-widgets/base",
      "model_module_version": "1.2.0",
      "model_name": "LayoutModel",
      "state": {
       "_model_module": "@jupyter-widgets/base",
       "_model_module_version": "1.2.0",
       "_model_name": "LayoutModel",
       "_view_count": null,
       "_view_module": "@jupyter-widgets/base",
       "_view_module_version": "1.2.0",
       "_view_name": "LayoutView",
       "align_content": null,
       "align_items": null,
       "align_self": null,
       "border": null,
       "bottom": null,
       "display": null,
       "flex": null,
       "flex_flow": null,
       "grid_area": null,
       "grid_auto_columns": null,
       "grid_auto_flow": null,
       "grid_auto_rows": null,
       "grid_column": null,
       "grid_gap": null,
       "grid_row": null,
       "grid_template_areas": null,
       "grid_template_columns": null,
       "grid_template_rows": null,
       "height": null,
       "justify_content": null,
       "justify_items": null,
       "left": null,
       "margin": null,
       "max_height": null,
       "max_width": null,
       "min_height": null,
       "min_width": null,
       "object_fit": null,
       "object_position": null,
       "order": null,
       "overflow": null,
       "overflow_x": null,
       "overflow_y": null,
       "padding": null,
       "right": null,
       "top": null,
       "visibility": null,
       "width": null
      }
     },
     "e0327d4f7cfa4658af8ccc443d92ba69": {
      "model_module": "@jupyter-widgets/base",
      "model_module_version": "1.2.0",
      "model_name": "LayoutModel",
      "state": {
       "_model_module": "@jupyter-widgets/base",
       "_model_module_version": "1.2.0",
       "_model_name": "LayoutModel",
       "_view_count": null,
       "_view_module": "@jupyter-widgets/base",
       "_view_module_version": "1.2.0",
       "_view_name": "LayoutView",
       "align_content": null,
       "align_items": null,
       "align_self": null,
       "border": null,
       "bottom": null,
       "display": null,
       "flex": null,
       "flex_flow": null,
       "grid_area": null,
       "grid_auto_columns": null,
       "grid_auto_flow": null,
       "grid_auto_rows": null,
       "grid_column": null,
       "grid_gap": null,
       "grid_row": null,
       "grid_template_areas": null,
       "grid_template_columns": null,
       "grid_template_rows": null,
       "height": null,
       "justify_content": null,
       "justify_items": null,
       "left": null,
       "margin": null,
       "max_height": null,
       "max_width": null,
       "min_height": null,
       "min_width": null,
       "object_fit": null,
       "object_position": null,
       "order": null,
       "overflow": null,
       "overflow_x": null,
       "overflow_y": null,
       "padding": null,
       "right": null,
       "top": null,
       "visibility": null,
       "width": null
      }
     },
     "e240e29d8d1440578b653bdbcbeaa3c8": {
      "model_module": "@jupyter-widgets/controls",
      "model_module_version": "1.5.0",
      "model_name": "DescriptionStyleModel",
      "state": {
       "_model_module": "@jupyter-widgets/controls",
       "_model_module_version": "1.5.0",
       "_model_name": "DescriptionStyleModel",
       "_view_count": null,
       "_view_module": "@jupyter-widgets/base",
       "_view_module_version": "1.2.0",
       "_view_name": "StyleView",
       "description_width": ""
      }
     },
     "e39f0dc1980a4cf090cb690ee21351e1": {
      "model_module": "@jupyter-widgets/controls",
      "model_module_version": "1.5.0",
      "model_name": "HTMLModel",
      "state": {
       "_dom_classes": [],
       "_model_module": "@jupyter-widgets/controls",
       "_model_module_version": "1.5.0",
       "_model_name": "HTMLModel",
       "_view_count": null,
       "_view_module": "@jupyter-widgets/controls",
       "_view_module_version": "1.5.0",
       "_view_name": "HTMLView",
       "description": "",
       "description_tooltip": null,
       "layout": "IPY_MODEL_db8b32d62f414bea9195d6bd2b79cd8a",
       "placeholder": "​",
       "style": "IPY_MODEL_1aa80b1e0b7241eaac1166fd2d34b4a7",
       "value": " 1.02G/1.02G [00:02&lt;00:00, 403MB/s]"
      }
     },
     "e3edec2bc1bf45e99f25d58e02ec22d1": {
      "model_module": "@jupyter-widgets/controls",
      "model_module_version": "1.5.0",
      "model_name": "ProgressStyleModel",
      "state": {
       "_model_module": "@jupyter-widgets/controls",
       "_model_module_version": "1.5.0",
       "_model_name": "ProgressStyleModel",
       "_view_count": null,
       "_view_module": "@jupyter-widgets/base",
       "_view_module_version": "1.2.0",
       "_view_name": "StyleView",
       "bar_color": null,
       "description_width": ""
      }
     },
     "e4288a0d709843e7a03ea61988b5c576": {
      "model_module": "@jupyter-widgets/controls",
      "model_module_version": "1.5.0",
      "model_name": "DescriptionStyleModel",
      "state": {
       "_model_module": "@jupyter-widgets/controls",
       "_model_module_version": "1.5.0",
       "_model_name": "DescriptionStyleModel",
       "_view_count": null,
       "_view_module": "@jupyter-widgets/base",
       "_view_module_version": "1.2.0",
       "_view_name": "StyleView",
       "description_width": ""
      }
     },
     "e510f6f0f70a448db78e11973d4d9c30": {
      "model_module": "@jupyter-widgets/base",
      "model_module_version": "1.2.0",
      "model_name": "LayoutModel",
      "state": {
       "_model_module": "@jupyter-widgets/base",
       "_model_module_version": "1.2.0",
       "_model_name": "LayoutModel",
       "_view_count": null,
       "_view_module": "@jupyter-widgets/base",
       "_view_module_version": "1.2.0",
       "_view_name": "LayoutView",
       "align_content": null,
       "align_items": null,
       "align_self": null,
       "border": null,
       "bottom": null,
       "display": null,
       "flex": null,
       "flex_flow": null,
       "grid_area": null,
       "grid_auto_columns": null,
       "grid_auto_flow": null,
       "grid_auto_rows": null,
       "grid_column": null,
       "grid_gap": null,
       "grid_row": null,
       "grid_template_areas": null,
       "grid_template_columns": null,
       "grid_template_rows": null,
       "height": null,
       "justify_content": null,
       "justify_items": null,
       "left": null,
       "margin": null,
       "max_height": null,
       "max_width": null,
       "min_height": null,
       "min_width": null,
       "object_fit": null,
       "object_position": null,
       "order": null,
       "overflow": null,
       "overflow_x": null,
       "overflow_y": null,
       "padding": null,
       "right": null,
       "top": null,
       "visibility": null,
       "width": null
      }
     },
     "e61958d5474340d49176abe4dd854c84": {
      "model_module": "@jupyter-widgets/controls",
      "model_module_version": "1.5.0",
      "model_name": "DescriptionStyleModel",
      "state": {
       "_model_module": "@jupyter-widgets/controls",
       "_model_module_version": "1.5.0",
       "_model_name": "DescriptionStyleModel",
       "_view_count": null,
       "_view_module": "@jupyter-widgets/base",
       "_view_module_version": "1.2.0",
       "_view_name": "StyleView",
       "description_width": ""
      }
     },
     "ef814715f6374a478e4c4d7836d3040c": {
      "model_module": "@jupyter-widgets/base",
      "model_module_version": "1.2.0",
      "model_name": "LayoutModel",
      "state": {
       "_model_module": "@jupyter-widgets/base",
       "_model_module_version": "1.2.0",
       "_model_name": "LayoutModel",
       "_view_count": null,
       "_view_module": "@jupyter-widgets/base",
       "_view_module_version": "1.2.0",
       "_view_name": "LayoutView",
       "align_content": null,
       "align_items": null,
       "align_self": null,
       "border": null,
       "bottom": null,
       "display": null,
       "flex": null,
       "flex_flow": null,
       "grid_area": null,
       "grid_auto_columns": null,
       "grid_auto_flow": null,
       "grid_auto_rows": null,
       "grid_column": null,
       "grid_gap": null,
       "grid_row": null,
       "grid_template_areas": null,
       "grid_template_columns": null,
       "grid_template_rows": null,
       "height": null,
       "justify_content": null,
       "justify_items": null,
       "left": null,
       "margin": null,
       "max_height": null,
       "max_width": null,
       "min_height": null,
       "min_width": null,
       "object_fit": null,
       "object_position": null,
       "order": null,
       "overflow": null,
       "overflow_x": null,
       "overflow_y": null,
       "padding": null,
       "right": null,
       "top": null,
       "visibility": null,
       "width": null
      }
     },
     "f19ac29ed01e4e8fbf1f50fcd9250c27": {
      "model_module": "@jupyter-widgets/controls",
      "model_module_version": "1.5.0",
      "model_name": "HBoxModel",
      "state": {
       "_dom_classes": [],
       "_model_module": "@jupyter-widgets/controls",
       "_model_module_version": "1.5.0",
       "_model_name": "HBoxModel",
       "_view_count": null,
       "_view_module": "@jupyter-widgets/controls",
       "_view_module_version": "1.5.0",
       "_view_name": "HBoxView",
       "box_style": "",
       "children": [
        "IPY_MODEL_0e1815fb74454b838801b9f0ec7f2c87",
        "IPY_MODEL_ca7a4843128c4f8c9ebfb9889017e93f",
        "IPY_MODEL_e39f0dc1980a4cf090cb690ee21351e1"
       ],
       "layout": "IPY_MODEL_ef814715f6374a478e4c4d7836d3040c"
      }
     },
     "f4b765811d5a405f9d01bef2162f076a": {
      "model_module": "@jupyter-widgets/controls",
      "model_module_version": "1.5.0",
      "model_name": "HBoxModel",
      "state": {
       "_dom_classes": [],
       "_model_module": "@jupyter-widgets/controls",
       "_model_module_version": "1.5.0",
       "_model_name": "HBoxModel",
       "_view_count": null,
       "_view_module": "@jupyter-widgets/controls",
       "_view_module_version": "1.5.0",
       "_view_name": "HBoxView",
       "box_style": "",
       "children": [
        "IPY_MODEL_0193edbc46524bbdb898d125d6b5c46d",
        "IPY_MODEL_72be5d04a746429a83d8d6c0c2849040",
        "IPY_MODEL_91a8dfd7eb944d74a602e3b47799c131"
       ],
       "layout": "IPY_MODEL_43b59fd5ba4f43379918062103f4c281"
      }
     },
     "f842ea325ec549e8b71508e8e0eb3b6b": {
      "model_module": "@jupyter-widgets/controls",
      "model_module_version": "1.5.0",
      "model_name": "ProgressStyleModel",
      "state": {
       "_model_module": "@jupyter-widgets/controls",
       "_model_module_version": "1.5.0",
       "_model_name": "ProgressStyleModel",
       "_view_count": null,
       "_view_module": "@jupyter-widgets/base",
       "_view_module_version": "1.2.0",
       "_view_name": "StyleView",
       "bar_color": null,
       "description_width": ""
      }
     },
     "fac26f78d0604b99beccb19f059fc21c": {
      "model_module": "@jupyter-widgets/base",
      "model_module_version": "1.2.0",
      "model_name": "LayoutModel",
      "state": {
       "_model_module": "@jupyter-widgets/base",
       "_model_module_version": "1.2.0",
       "_model_name": "LayoutModel",
       "_view_count": null,
       "_view_module": "@jupyter-widgets/base",
       "_view_module_version": "1.2.0",
       "_view_name": "LayoutView",
       "align_content": null,
       "align_items": null,
       "align_self": null,
       "border": null,
       "bottom": null,
       "display": null,
       "flex": null,
       "flex_flow": null,
       "grid_area": null,
       "grid_auto_columns": null,
       "grid_auto_flow": null,
       "grid_auto_rows": null,
       "grid_column": null,
       "grid_gap": null,
       "grid_row": null,
       "grid_template_areas": null,
       "grid_template_columns": null,
       "grid_template_rows": null,
       "height": null,
       "justify_content": null,
       "justify_items": null,
       "left": null,
       "margin": null,
       "max_height": null,
       "max_width": null,
       "min_height": null,
       "min_width": null,
       "object_fit": null,
       "object_position": null,
       "order": null,
       "overflow": null,
       "overflow_x": null,
       "overflow_y": null,
       "padding": null,
       "right": null,
       "top": null,
       "visibility": null,
       "width": null
      }
     },
     "fdfce9fe922f473fb5af9d9c31d7ed49": {
      "model_module": "@jupyter-widgets/controls",
      "model_module_version": "1.5.0",
      "model_name": "HBoxModel",
      "state": {
       "_dom_classes": [],
       "_model_module": "@jupyter-widgets/controls",
       "_model_module_version": "1.5.0",
       "_model_name": "HBoxModel",
       "_view_count": null,
       "_view_module": "@jupyter-widgets/controls",
       "_view_module_version": "1.5.0",
       "_view_name": "HBoxView",
       "box_style": "",
       "children": [
        "IPY_MODEL_c5559689001b43c9b8242df4f65b9e63",
        "IPY_MODEL_ffc69603f0764d968399128625532f16",
        "IPY_MODEL_3af4ccdcf3b54b86acebe8623c5be502"
       ],
       "layout": "IPY_MODEL_902f2c9a421c45cc8b3787d535b80a1c"
      }
     },
     "ffc69603f0764d968399128625532f16": {
      "model_module": "@jupyter-widgets/controls",
      "model_module_version": "1.5.0",
      "model_name": "FloatProgressModel",
      "state": {
       "_dom_classes": [],
       "_model_module": "@jupyter-widgets/controls",
       "_model_module_version": "1.5.0",
       "_model_name": "FloatProgressModel",
       "_view_count": null,
       "_view_module": "@jupyter-widgets/controls",
       "_view_module_version": "1.5.0",
       "_view_name": "ProgressView",
       "bar_style": "success",
       "description": "",
       "description_tooltip": null,
       "layout": "IPY_MODEL_bbe96ff8069847f4b3ceae66e4f53308",
       "max": 898823,
       "min": 0,
       "orientation": "horizontal",
       "style": "IPY_MODEL_8b1ce4f216d44c8cbbad3a7d3061dcf6",
       "value": 898823
      }
     }
    },
    "version_major": 2,
    "version_minor": 0
   }
  }
 },
 "nbformat": 4,
 "nbformat_minor": 5
}
